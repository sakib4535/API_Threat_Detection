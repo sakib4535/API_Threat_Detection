{
 "cells": [
  {
   "cell_type": "code",
   "execution_count": null,
   "metadata": {
    "colab": {
     "base_uri": "https://localhost:8080/"
    },
    "id": "ruVN87NfB7h9",
    "outputId": "588776e2-cdd8-4421-bdfa-990c8def9e90"
   },
   "outputs": [
    {
     "name": "stdout",
     "output_type": "stream",
     "text": [
      "Drive already mounted at /content/drive; to attempt to forcibly remount, call drive.mount(\"/content/drive\", force_remount=True).\n"
     ]
    }
   ],
   "source": [
    "import pandas as pd\n",
    "import numpy as np\n",
    "from sklearn.model_selection import train_test_split, RandomizedSearchCV\n",
    "from sklearn.preprocessing import OneHotEncoder, StandardScaler\n",
    "from sklearn.ensemble import IsolationForest\n",
    "# from xgboost import XGBClassifier\n",
    "from sklearn.metrics import classification_report, accuracy_score, roc_auc_score, precision_score, recall_score, f1_score\n",
    "from sklearn.compose import ColumnTransformer\n",
    "from sklearn.pipeline import Pipeline\n",
    "import pickle\n",
    "import warnings\n",
    "warnings.filterwarnings('ignore')\n",
    "from google.colab import drive\n",
    "drive.mount('/content/drive')\n",
    "\n",
    "# File Path (Update with your actual dataset path)\n",
    "# file_path = '/content/drive/MyDrive/Advanced _Threat_Detection/UNSW-NB15/CSV_Files/training_testing_data/'\n"
   ]
  },
  {
   "cell_type": "code",
   "execution_count": null,
   "metadata": {
    "id": "8eQsrWjsC1EI"
   },
   "outputs": [],
   "source": [
    "train_path = '/content/drive/MyDrive/Advanced _Threat_Detection/UNSW-NB15/CSV_Files/Training_and_Testing_Sets/Training_Dataset.csv'\n",
    "test_path = '/content/drive/MyDrive/Advanced _Threat_Detection/UNSW-NB15/CSV_Files/Training_and_Testing_Sets/Testing_Dataset.csv'\n",
    "\n",
    "\n",
    "train = pd.read_csv(train_path)\n",
    "test = pd.read_csv(test_path)"
   ]
  },
  {
   "cell_type": "markdown",
   "metadata": {
    "id": "7TahIfRExcDu"
   },
   "source": [
    "## **Analysis of the Customized Correlation Function**\n"
   ]
  },
  {
   "cell_type": "markdown",
   "metadata": {
    "id": "Rl5qGAdTxcj9"
   },
   "source": [
    "#### 1. **`calculate_correlation`**:\n",
    "   - **Purpose**:\n",
    "     - Computes and prints the Pearson correlation between `col1` and `col2` in the given DataFrame (`df`), as well as the log-transformed correlation of `col1` with `col2`.\n",
    "   - **Steps**:\n",
    "     - Uses `DataFrame.corr()` to compute the Pearson correlation coefficient between the two specified columns.\n",
    "     - Applies a log transformation (`np.log1p`) to `col1` and then calculates its correlation with `col2`.\n",
    "     - Prints both raw and log-transformed correlations.\n",
    "   - **Use Case**:\n",
    "     - Useful for exploratory analysis when you want to observe how log-transformation impacts the relationship between a feature and the target.\n",
    "\n",
    "   - **Limitations**:\n",
    "     - Does not handle potential issues like invalid log transformations (e.g., `np.log1p` on non-positive values).\n",
    "     - Fixed to `label` as the default `col2`, limiting flexibility for non-target correlations.\n",
    "     - Only prints the results; doesn't return them for further programmatic use.\n",
    "\n",
    "---\n",
    "\n",
    "#### 2. **`get_correlation`**:\n",
    "   - **Purpose**:\n",
    "     - Computes and returns the Pearson correlation between `col1` and `col2` in the given DataFrame (`df`).\n",
    "   - **Steps**:\n",
    "     - Directly computes the Pearson correlation using `DataFrame.corr()`.\n",
    "     - Returns the result instead of printing it.\n",
    "   - **Use Case**:\n",
    "     - Ideal for when you need correlation values programmatically for further analysis or comparisons.\n",
    "\n",
    "   - **Limitations**:\n",
    "     - Unlike `calculate_correlation`, it does not compute the log-transformed correlation, which could provide additional insights.\n"
   ]
  },
  {
   "cell_type": "code",
   "execution_count": null,
   "metadata": {
    "id": "VT20Bx5ICSAb"
   },
   "outputs": [],
   "source": [
    "def calculate_correlation(col1, col2='label', df=train):\n",
    "\n",
    "  \"\"\"\n",
    "  Calculate the correlation between two given features. Also calculate the correlation of col1\n",
    "  \"\"\"\n",
    "\n",
    "  corr = df[[col1, col2]].corr().iloc[0,1]\n",
    "  log_corr = df[col1].apply(np.log1p).corr(df[col2])\n",
    "  print(f\"Correlation: {corr}\\nlog_Correlation: {log_corr}\")\n",
    "\n",
    "def get_correlation(col1, col2='label', df=train):\n",
    "  \"\"\"\n",
    "  Calculate and return the correlation between two features.\n",
    "  \"\"\"\n",
    "\n",
    "  return df[[col1, col2]].corr().iloc[0,1]\n",
    "\n"
   ]
  },
  {
   "cell_type": "code",
   "execution_count": null,
   "metadata": {
    "colab": {
     "base_uri": "https://localhost:8080/"
    },
    "id": "wWonnO9VFvbb",
    "outputId": "17d6aaf8-86bd-4cc0-f09e-2cfdbe8213e6"
   },
   "outputs": [
    {
     "name": "stdout",
     "output_type": "stream",
     "text": [
      "['sloss', 'dloss', 'dpkts', 'dwin', 'ltime', 'ct_srv_dst', 'ct_src_dport_ltm', 'ct_dst_src_ltm']\n",
      "(1778032, 41) (762015, 49)\n"
     ]
    }
   ],
   "source": [
    "numeric_columns = train.select_dtypes(include=[np.number])\n",
    "corr_matrix = numeric_columns.corr().abs()\n",
    "upper = corr_matrix.where(np.triu(np.ones(corr_matrix.shape), k=1).astype(bool))\n",
    "to_drop = [column for column in upper.columns if any(upper[column] > 0.95)]\n",
    "print(to_drop)\n",
    "\n",
    "saved_dict = {}\n",
    "\n",
    "saved_dict['corr_col'] =  to_drop\n",
    "\n",
    "\n",
    "train.drop(columns=to_drop, inplace=True)\n",
    "# test = test.drop(columns=to_drop)\n",
    "\n",
    "print(train.shape, test.shape)"
   ]
  },
  {
   "cell_type": "code",
   "execution_count": null,
   "metadata": {
    "id": "jezFIdz85-50"
   },
   "outputs": [],
   "source": []
  },
  {
   "cell_type": "code",
   "execution_count": null,
   "metadata": {
    "id": "g0mHNnEyFmkc"
   },
   "outputs": [],
   "source": []
  },
  {
   "cell_type": "markdown",
   "metadata": {
    "id": "GwxMq771Hs27"
   },
   "source": [
    "## **Adding New Features**"
   ]
  },
  {
   "cell_type": "code",
   "execution_count": null,
   "metadata": {
    "colab": {
     "base_uri": "https://localhost:8080/"
    },
    "id": "QwETX77KEv-x",
    "outputId": "90266a19-f85a-42fd-d88f-aa33dc3174f6"
   },
   "outputs": [
    {
     "name": "stdout",
     "output_type": "stream",
     "text": [
      "(1778032, 42) (762015, 49)\n"
     ]
    }
   ],
   "source": [
    "if 'network_bytes' not in train.columns:\n",
    "  train['network_bytes'] = train['sbytes'] + train['dbytes']\n",
    "print(train.shape, test.shape)"
   ]
  },
  {
   "cell_type": "code",
   "execution_count": null,
   "metadata": {
    "id": "WhEOa5IlOyrd"
   },
   "outputs": [],
   "source": [
    "train.drop(['srcip', 'sport', 'dstip', 'dsport', 'attack_cat'], axis=1, inplace=True)"
   ]
  },
  {
   "cell_type": "code",
   "execution_count": null,
   "metadata": {
    "id": "Axvg1b8wH4pE"
   },
   "outputs": [],
   "source": [
    "# To use during test data transformation\n",
    "saved_dict['to_drop'] = ['srcip', 'sport', 'dstip', 'dsport', 'attack_cat']"
   ]
  },
  {
   "cell_type": "code",
   "execution_count": null,
   "metadata": {
    "colab": {
     "base_uri": "https://localhost:8080/"
    },
    "id": "C7__aJLeIQDq",
    "outputId": "71a9480b-feff-4fc8-c432-f85a54ab067c"
   },
   "outputs": [
    {
     "data": {
      "text/plain": [
       "((1778032, 37), (762015, 49))"
      ]
     },
     "execution_count": 37,
     "metadata": {},
     "output_type": "execute_result"
    }
   ],
   "source": [
    "train.shape, test.shape"
   ]
  },
  {
   "cell_type": "markdown",
   "metadata": {
    "id": "VtcxAw1PPcFM"
   },
   "source": [
    "## **Implementing Log Scales On Numerical Columns**"
   ]
  },
  {
   "cell_type": "code",
   "execution_count": null,
   "metadata": {
    "id": "h4bhPqy4Ibtd"
   },
   "outputs": [],
   "source": []
  },
  {
   "cell_type": "code",
   "execution_count": null,
   "metadata": {
    "colab": {
     "base_uri": "https://localhost:8080/"
    },
    "id": "Sm3mNReSIbwX",
    "outputId": "0633102f-aa67-49e8-bc0a-05470103671d"
   },
   "outputs": [
    {
     "data": {
      "text/plain": [
       "Index(['dur', 'sbytes', 'dbytes', 'sload', 'dload', 'spkts', 'stcpb', 'dtcpb',\n",
       "       'smeansz', 'dmeansz', 'res_bdy_len', 'sjit', 'djit', 'stime', 'sintpkt',\n",
       "       'dintpkt', 'tcprtt', 'synack', 'ackdat', 'network_bytes'],\n",
       "      dtype='object')"
      ]
     },
     "execution_count": 38,
     "metadata": {},
     "output_type": "execute_result"
    }
   ],
   "source": [
    "col_unique_values = train.nunique()\n",
    "col = col_unique_values[col_unique_values>200].index\n",
    "\n",
    "col"
   ]
  },
  {
   "cell_type": "code",
   "execution_count": null,
   "metadata": {
    "colab": {
     "base_uri": "https://localhost:8080/"
    },
    "id": "gn7M-zxLIqpC",
    "outputId": "ed0f5f0d-337c-4230-a236-019afeba88bc"
   },
   "outputs": [
    {
     "name": "stdout",
     "output_type": "stream",
     "text": [
      "-------------dur--------------\n",
      "Correlation: 0.0019274028701131475\n",
      "log_Correlation: -0.032544137564606564\n",
      "------------sbytes------------\n",
      "Correlation: 0.010344749695229565\n",
      "log_Correlation: -0.3561631555898454\n",
      "------------dbytes------------\n",
      "Correlation: -0.07641408324436148\n",
      "log_Correlation: -0.5193868283741543\n",
      "------------sload-------------\n",
      "Correlation: 0.19211948100086756\n",
      "log_Correlation: 0.34746601450349657\n",
      "------------dload-------------\n",
      "Correlation: -0.21978094390126515\n",
      "log_Correlation: -0.6033545881626403\n",
      "------------spkts-------------\n",
      "Correlation: -0.12200425437154418\n",
      "log_Correlation: -0.3163533826967569\n",
      "------------stcpb-------------\n",
      "Correlation: -0.23365153315010911\n",
      "log_Correlation: -0.31355632221428964\n",
      "------------dtcpb-------------\n",
      "Correlation: -0.23346071773809843\n",
      "log_Correlation: -0.31340064798121187\n",
      "-----------smeansz------------\n",
      "Correlation: -0.06517990378993671\n",
      "log_Correlation: -0.15111450989648462\n",
      "-----------dmeansz------------\n",
      "Correlation: -0.27230605607442226\n",
      "log_Correlation: -0.5646402127401765\n",
      "---------res_bdy_len----------\n",
      "Correlation: -0.0268968526601601\n",
      "log_Correlation: -0.06794901821505887\n",
      "-------------sjit-------------\n",
      "Correlation: 0.020974632769798898\n",
      "log_Correlation: -0.18939100046544247\n",
      "-------------djit-------------\n",
      "Correlation: -0.05608646071436526\n",
      "log_Correlation: -0.20487075694129467\n",
      "------------stime-------------\n",
      "Correlation: 0.27571439334451364\n",
      "log_Correlation: 0.27571397507610673\n",
      "-----------sintpkt------------\n",
      "Correlation: -0.018971416506195472\n",
      "log_Correlation: -0.08027556633947559\n",
      "-----------dintpkt------------\n",
      "Correlation: -0.010747058729631331\n",
      "log_Correlation: -0.07938735519639532\n",
      "------------tcprtt------------\n",
      "Correlation: 0.14592508147519564\n",
      "log_Correlation: 0.1860669732331679\n",
      "------------synack------------\n",
      "Correlation: 0.12439627235187588\n",
      "log_Correlation: 0.1552259883602495\n",
      "------------ackdat------------\n",
      "Correlation: 0.14712408841119426\n",
      "log_Correlation: 0.17962040804022583\n",
      "--------network_bytes---------\n",
      "Correlation: -0.06790965631742822\n",
      "log_Correlation: -0.41043328745985624\n"
     ]
    }
   ],
   "source": [
    "for column in col:\n",
    "  print(\"{:-^30}\".format(column))\n",
    "  calculate_correlation(column)"
   ]
  },
  {
   "cell_type": "markdown",
   "metadata": {
    "id": "GmHVHC1owaLV"
   },
   "source": [
    "- **Positive Correlations**:\n",
    "  - Features like `stime`, `sload`, `tcprtt`, `synack`, and `ackdat` show a direct relationship with the target. This suggests:\n",
    "    - These metrics can help identify legitimate network activity patterns.\n",
    "    - Attack behaviors may manipulate these values to resemble normal patterns (e.g., adjusting SYN-ACK times or payload sizes).\n",
    "\n",
    "- **Negative Correlations**:\n",
    "  - Features like `dload`, `dmeansz`, `stcpb`, and `dtcpb` show an inverse relationship. This indicates:\n",
    "    - Lower destination data loads, mean sizes, and TCP buffer-related metrics could hint at malicious activity, such as data exfiltration or anomalous network communication.\n",
    "    - Advanced Persistent Threats (APTs) often exhibit minimal resource usage to avoid detection.\n",
    "\n",
    "- **Weak Correlations**:\n",
    "  - Features like `dur`, `res_bdy_len`, `sintpkt`, and `dintpkt` have minimal correlation, meaning:\n",
    "    - These metrics may not significantly differentiate between benign and malicious traffic.\n",
    "    - They could be less critical for advanced threat detection or require further feature engineering for utility.\n",
    "\n",
    "- **Log-Transformed Insights**:\n",
    "  - **Improved Linear Relationships**: Log transformation enhances correlation for features like `sload`, indicating better anomaly detection in logarithmic space.\n",
    "  - **Reduced Outlier Impact**: Makes correlations with features like `dload` and `dmeansz` more pronounced, improving the detection of APT behaviors that involve subtle deviations.\n",
    "\n",
    "- **Key Patterns for Advanced Threats**:\n",
    "  - Temporal metrics (`stime`, `tcprtt`, `synack`) indicate timing anomalies that are often associated with attacks.\n",
    "  - Asymmetric behaviors between source and destination traffic (`sload`, `dload`) may signify malicious intent, such as unidirectional data flows in attacks.\n",
    "  - Features like `stcpb` and `dtcpb` reflect unusual TCP buffer activities, common in APT command-and-control communications."
   ]
  },
  {
   "cell_type": "code",
   "execution_count": null,
   "metadata": {
    "id": "7k2AaI15WMJJ"
   },
   "outputs": [],
   "source": [
    "log1p_col = ['dur', 'sbytes', 'dbytes', 'sload', 'dload', 'spkts', 'stcpb', 'dtcpb', 'smeansz', 'dmeansz', 'sjit', 'djit', 'network_bytes']\n"
   ]
  },
  {
   "cell_type": "code",
   "execution_count": null,
   "metadata": {
    "id": "UHTqDxu2hvWp"
   },
   "outputs": [],
   "source": [
    "saved_dict['log1p_col'] = log1p_col\n",
    "mode_dict = train.mode().iloc[0].to_dict()"
   ]
  },
  {
   "cell_type": "code",
   "execution_count": null,
   "metadata": {
    "id": "VHPmZEoTh6nR"
   },
   "outputs": [],
   "source": [
    "def transform_log(col, df=train):\n",
    "  new_column = col + '_log1p'\n",
    "  df[new_column] = df[col].apply(np.log1p)\n",
    "  df.drop(col, axis=1, inplace=True)\n",
    "\n",
    "for col in log1p_col:\n",
    "  transform_log(col, df=train)"
   ]
  },
  {
   "cell_type": "code",
   "execution_count": null,
   "metadata": {
    "colab": {
     "base_uri": "https://localhost:8080/"
    },
    "id": "TflqqJ2SiSIv",
    "outputId": "561c815e-f229-4a6f-ef74-91c1c1889396"
   },
   "outputs": [
    {
     "data": {
      "text/plain": [
       "(1778032, 37)"
      ]
     },
     "execution_count": 43,
     "metadata": {},
     "output_type": "execute_result"
    }
   ],
   "source": [
    "train.shape"
   ]
  },
  {
   "cell_type": "code",
   "execution_count": null,
   "metadata": {
    "colab": {
     "base_uri": "https://localhost:8080/"
    },
    "id": "C12aPZWriUrF",
    "outputId": "40ff5cf1-d409-495a-e110-8327cf1ee618"
   },
   "outputs": [
    {
     "data": {
      "text/plain": [
       "Index(['proto', 'state', 'sttl', 'dttl', 'service', 'swin', 'trans_depth',\n",
       "       'res_bdy_len', 'stime', 'sintpkt', 'dintpkt', 'tcprtt', 'synack',\n",
       "       'ackdat', 'is_sm_ips_ports', 'ct_state_ttl', 'ct_flw_http_mthd',\n",
       "       'is_ftp_login', 'ct_ftp_cmd', 'ct_srv_src', 'ct_dst_ltm', 'ct_src_ltm',\n",
       "       'ct_dst_sport_ltm', 'label', 'dur_log1p', 'sbytes_log1p',\n",
       "       'dbytes_log1p', 'sload_log1p', 'dload_log1p', 'spkts_log1p',\n",
       "       'stcpb_log1p', 'dtcpb_log1p', 'smeansz_log1p', 'dmeansz_log1p',\n",
       "       'sjit_log1p', 'djit_log1p', 'network_bytes_log1p'],\n",
       "      dtype='object')"
      ]
     },
     "execution_count": 44,
     "metadata": {},
     "output_type": "execute_result"
    }
   ],
   "source": [
    "train.columns"
   ]
  },
  {
   "cell_type": "code",
   "execution_count": null,
   "metadata": {
    "colab": {
     "base_uri": "https://localhost:8080/"
    },
    "id": "epwyE_caiWQ1",
    "outputId": "a43b0067-fc5c-47f5-cba4-8b276eda072e"
   },
   "outputs": [
    {
     "name": "stdout",
     "output_type": "stream",
     "text": [
      "(1778032, 36) (1778032,)\n",
      "(762015, 48) (762015,)\n"
     ]
    }
   ],
   "source": [
    "# Making X and Y training and testing sets from the dataset\n",
    "\n",
    "x_train, y_train = train.drop(columns=['label']), train['label']\n",
    "x_test, y_test = test.drop(columns=['label']), test['label']\n",
    "print(x_train.shape, y_train.shape)\n",
    "print(x_test.shape, y_test.shape)"
   ]
  },
  {
   "cell_type": "code",
   "execution_count": null,
   "metadata": {
    "id": "j3Kg0hDdivDs"
   },
   "outputs": [],
   "source": [
    "# pickle.dump(x_train, y_train)"
   ]
  },
  {
   "cell_type": "code",
   "execution_count": null,
   "metadata": {
    "id": "Gi8tqXDKi_xu"
   },
   "outputs": [],
   "source": [
    "category_col = ['proto', 'service', 'state']\n",
    "numeric_col = list(set(x_train.columns) - set(category_col))"
   ]
  },
  {
   "cell_type": "code",
   "execution_count": null,
   "metadata": {
    "id": "VnSwkx8fi_zu"
   },
   "outputs": [],
   "source": [
    "saved_dict['category_col'] = category_col\n",
    "saved_dict['numeric_col'] = numeric_col"
   ]
  },
  {
   "cell_type": "code",
   "execution_count": null,
   "metadata": {
    "colab": {
     "base_uri": "https://localhost:8080/",
     "height": 255
    },
    "id": "clHKgbqUi_3m",
    "outputId": "49b42184-9085-41b1-f1e9-db76c6b56693"
   },
   "outputs": [
    {
     "data": {
      "application/vnd.google.colaboratory.intrinsic+json": {
       "type": "dataframe",
       "variable_name": "x_train"
      },
      "text/html": [
       "\n",
       "  <div id=\"df-84306d3c-a415-4f55-b129-880c60b29477\" class=\"colab-df-container\">\n",
       "    <div>\n",
       "<style scoped>\n",
       "    .dataframe tbody tr th:only-of-type {\n",
       "        vertical-align: middle;\n",
       "    }\n",
       "\n",
       "    .dataframe tbody tr th {\n",
       "        vertical-align: top;\n",
       "    }\n",
       "\n",
       "    .dataframe thead th {\n",
       "        text-align: right;\n",
       "    }\n",
       "</style>\n",
       "<table border=\"1\" class=\"dataframe\">\n",
       "  <thead>\n",
       "    <tr style=\"text-align: right;\">\n",
       "      <th></th>\n",
       "      <th>proto</th>\n",
       "      <th>state</th>\n",
       "      <th>sttl</th>\n",
       "      <th>dttl</th>\n",
       "      <th>service</th>\n",
       "      <th>swin</th>\n",
       "      <th>trans_depth</th>\n",
       "      <th>res_bdy_len</th>\n",
       "      <th>stime</th>\n",
       "      <th>sintpkt</th>\n",
       "      <th>...</th>\n",
       "      <th>sload_log1p</th>\n",
       "      <th>dload_log1p</th>\n",
       "      <th>spkts_log1p</th>\n",
       "      <th>stcpb_log1p</th>\n",
       "      <th>dtcpb_log1p</th>\n",
       "      <th>smeansz_log1p</th>\n",
       "      <th>dmeansz_log1p</th>\n",
       "      <th>sjit_log1p</th>\n",
       "      <th>djit_log1p</th>\n",
       "      <th>network_bytes_log1p</th>\n",
       "    </tr>\n",
       "  </thead>\n",
       "  <tbody>\n",
       "    <tr>\n",
       "      <th>0</th>\n",
       "      <td>udp</td>\n",
       "      <td>INT</td>\n",
       "      <td>254</td>\n",
       "      <td>0</td>\n",
       "      <td>-</td>\n",
       "      <td>0</td>\n",
       "      <td>0</td>\n",
       "      <td>0</td>\n",
       "      <td>1421930643</td>\n",
       "      <td>33.479000</td>\n",
       "      <td>...</td>\n",
       "      <td>9.275600</td>\n",
       "      <td>0.000000</td>\n",
       "      <td>1.609438</td>\n",
       "      <td>0.000000</td>\n",
       "      <td>0.000000</td>\n",
       "      <td>3.828641</td>\n",
       "      <td>0.000000</td>\n",
       "      <td>3.878042</td>\n",
       "      <td>0.000000</td>\n",
       "      <td>5.187386</td>\n",
       "    </tr>\n",
       "    <tr>\n",
       "      <th>1</th>\n",
       "      <td>udp</td>\n",
       "      <td>INT</td>\n",
       "      <td>60</td>\n",
       "      <td>0</td>\n",
       "      <td>dns</td>\n",
       "      <td>0</td>\n",
       "      <td>0</td>\n",
       "      <td>0</td>\n",
       "      <td>1424246229</td>\n",
       "      <td>0.008000</td>\n",
       "      <td>...</td>\n",
       "      <td>18.698312</td>\n",
       "      <td>0.000000</td>\n",
       "      <td>1.098612</td>\n",
       "      <td>0.000000</td>\n",
       "      <td>0.000000</td>\n",
       "      <td>4.890349</td>\n",
       "      <td>0.000000</td>\n",
       "      <td>0.000000</td>\n",
       "      <td>0.000000</td>\n",
       "      <td>5.579730</td>\n",
       "    </tr>\n",
       "    <tr>\n",
       "      <th>2</th>\n",
       "      <td>tcp</td>\n",
       "      <td>FIN</td>\n",
       "      <td>31</td>\n",
       "      <td>29</td>\n",
       "      <td>-</td>\n",
       "      <td>255</td>\n",
       "      <td>0</td>\n",
       "      <td>0</td>\n",
       "      <td>1421948071</td>\n",
       "      <td>0.372205</td>\n",
       "      <td>...</td>\n",
       "      <td>14.105347</td>\n",
       "      <td>16.314201</td>\n",
       "      <td>3.713572</td>\n",
       "      <td>20.196135</td>\n",
       "      <td>21.733479</td>\n",
       "      <td>4.174387</td>\n",
       "      <td>6.313548</td>\n",
       "      <td>0.000000</td>\n",
       "      <td>3.012070</td>\n",
       "      <td>10.152883</td>\n",
       "    </tr>\n",
       "    <tr>\n",
       "      <th>3</th>\n",
       "      <td>tcp</td>\n",
       "      <td>FIN</td>\n",
       "      <td>31</td>\n",
       "      <td>29</td>\n",
       "      <td>ftp</td>\n",
       "      <td>255</td>\n",
       "      <td>0</td>\n",
       "      <td>0</td>\n",
       "      <td>1421971944</td>\n",
       "      <td>16.144740</td>\n",
       "      <td>...</td>\n",
       "      <td>10.258074</td>\n",
       "      <td>10.501435</td>\n",
       "      <td>3.970292</td>\n",
       "      <td>21.803017</td>\n",
       "      <td>20.494420</td>\n",
       "      <td>4.043051</td>\n",
       "      <td>4.248495</td>\n",
       "      <td>7.264606</td>\n",
       "      <td>3.984562</td>\n",
       "      <td>8.806124</td>\n",
       "    </tr>\n",
       "    <tr>\n",
       "      <th>4</th>\n",
       "      <td>tcp</td>\n",
       "      <td>FIN</td>\n",
       "      <td>31</td>\n",
       "      <td>29</td>\n",
       "      <td>-</td>\n",
       "      <td>255</td>\n",
       "      <td>0</td>\n",
       "      <td>0</td>\n",
       "      <td>1421963050</td>\n",
       "      <td>1.218800</td>\n",
       "      <td>...</td>\n",
       "      <td>13.339317</td>\n",
       "      <td>13.412088</td>\n",
       "      <td>2.833213</td>\n",
       "      <td>20.673269</td>\n",
       "      <td>21.855078</td>\n",
       "      <td>4.574711</td>\n",
       "      <td>4.521789</td>\n",
       "      <td>4.309533</td>\n",
       "      <td>1.138118</td>\n",
       "      <td>8.066208</td>\n",
       "    </tr>\n",
       "  </tbody>\n",
       "</table>\n",
       "<p>5 rows × 36 columns</p>\n",
       "</div>\n",
       "    <div class=\"colab-df-buttons\">\n",
       "\n",
       "  <div class=\"colab-df-container\">\n",
       "    <button class=\"colab-df-convert\" onclick=\"convertToInteractive('df-84306d3c-a415-4f55-b129-880c60b29477')\"\n",
       "            title=\"Convert this dataframe to an interactive table.\"\n",
       "            style=\"display:none;\">\n",
       "\n",
       "  <svg xmlns=\"http://www.w3.org/2000/svg\" height=\"24px\" viewBox=\"0 -960 960 960\">\n",
       "    <path d=\"M120-120v-720h720v720H120Zm60-500h600v-160H180v160Zm220 220h160v-160H400v160Zm0 220h160v-160H400v160ZM180-400h160v-160H180v160Zm440 0h160v-160H620v160ZM180-180h160v-160H180v160Zm440 0h160v-160H620v160Z\"/>\n",
       "  </svg>\n",
       "    </button>\n",
       "\n",
       "  <style>\n",
       "    .colab-df-container {\n",
       "      display:flex;\n",
       "      gap: 12px;\n",
       "    }\n",
       "\n",
       "    .colab-df-convert {\n",
       "      background-color: #E8F0FE;\n",
       "      border: none;\n",
       "      border-radius: 50%;\n",
       "      cursor: pointer;\n",
       "      display: none;\n",
       "      fill: #1967D2;\n",
       "      height: 32px;\n",
       "      padding: 0 0 0 0;\n",
       "      width: 32px;\n",
       "    }\n",
       "\n",
       "    .colab-df-convert:hover {\n",
       "      background-color: #E2EBFA;\n",
       "      box-shadow: 0px 1px 2px rgba(60, 64, 67, 0.3), 0px 1px 3px 1px rgba(60, 64, 67, 0.15);\n",
       "      fill: #174EA6;\n",
       "    }\n",
       "\n",
       "    .colab-df-buttons div {\n",
       "      margin-bottom: 4px;\n",
       "    }\n",
       "\n",
       "    [theme=dark] .colab-df-convert {\n",
       "      background-color: #3B4455;\n",
       "      fill: #D2E3FC;\n",
       "    }\n",
       "\n",
       "    [theme=dark] .colab-df-convert:hover {\n",
       "      background-color: #434B5C;\n",
       "      box-shadow: 0px 1px 3px 1px rgba(0, 0, 0, 0.15);\n",
       "      filter: drop-shadow(0px 1px 2px rgba(0, 0, 0, 0.3));\n",
       "      fill: #FFFFFF;\n",
       "    }\n",
       "  </style>\n",
       "\n",
       "    <script>\n",
       "      const buttonEl =\n",
       "        document.querySelector('#df-84306d3c-a415-4f55-b129-880c60b29477 button.colab-df-convert');\n",
       "      buttonEl.style.display =\n",
       "        google.colab.kernel.accessAllowed ? 'block' : 'none';\n",
       "\n",
       "      async function convertToInteractive(key) {\n",
       "        const element = document.querySelector('#df-84306d3c-a415-4f55-b129-880c60b29477');\n",
       "        const dataTable =\n",
       "          await google.colab.kernel.invokeFunction('convertToInteractive',\n",
       "                                                    [key], {});\n",
       "        if (!dataTable) return;\n",
       "\n",
       "        const docLinkHtml = 'Like what you see? Visit the ' +\n",
       "          '<a target=\"_blank\" href=https://colab.research.google.com/notebooks/data_table.ipynb>data table notebook</a>'\n",
       "          + ' to learn more about interactive tables.';\n",
       "        element.innerHTML = '';\n",
       "        dataTable['output_type'] = 'display_data';\n",
       "        await google.colab.output.renderOutput(dataTable, element);\n",
       "        const docLink = document.createElement('div');\n",
       "        docLink.innerHTML = docLinkHtml;\n",
       "        element.appendChild(docLink);\n",
       "      }\n",
       "    </script>\n",
       "  </div>\n",
       "\n",
       "\n",
       "<div id=\"df-a4497f43-7b93-4c15-a353-44f665c7e2f9\">\n",
       "  <button class=\"colab-df-quickchart\" onclick=\"quickchart('df-a4497f43-7b93-4c15-a353-44f665c7e2f9')\"\n",
       "            title=\"Suggest charts\"\n",
       "            style=\"display:none;\">\n",
       "\n",
       "<svg xmlns=\"http://www.w3.org/2000/svg\" height=\"24px\"viewBox=\"0 0 24 24\"\n",
       "     width=\"24px\">\n",
       "    <g>\n",
       "        <path d=\"M19 3H5c-1.1 0-2 .9-2 2v14c0 1.1.9 2 2 2h14c1.1 0 2-.9 2-2V5c0-1.1-.9-2-2-2zM9 17H7v-7h2v7zm4 0h-2V7h2v10zm4 0h-2v-4h2v4z\"/>\n",
       "    </g>\n",
       "</svg>\n",
       "  </button>\n",
       "\n",
       "<style>\n",
       "  .colab-df-quickchart {\n",
       "      --bg-color: #E8F0FE;\n",
       "      --fill-color: #1967D2;\n",
       "      --hover-bg-color: #E2EBFA;\n",
       "      --hover-fill-color: #174EA6;\n",
       "      --disabled-fill-color: #AAA;\n",
       "      --disabled-bg-color: #DDD;\n",
       "  }\n",
       "\n",
       "  [theme=dark] .colab-df-quickchart {\n",
       "      --bg-color: #3B4455;\n",
       "      --fill-color: #D2E3FC;\n",
       "      --hover-bg-color: #434B5C;\n",
       "      --hover-fill-color: #FFFFFF;\n",
       "      --disabled-bg-color: #3B4455;\n",
       "      --disabled-fill-color: #666;\n",
       "  }\n",
       "\n",
       "  .colab-df-quickchart {\n",
       "    background-color: var(--bg-color);\n",
       "    border: none;\n",
       "    border-radius: 50%;\n",
       "    cursor: pointer;\n",
       "    display: none;\n",
       "    fill: var(--fill-color);\n",
       "    height: 32px;\n",
       "    padding: 0;\n",
       "    width: 32px;\n",
       "  }\n",
       "\n",
       "  .colab-df-quickchart:hover {\n",
       "    background-color: var(--hover-bg-color);\n",
       "    box-shadow: 0 1px 2px rgba(60, 64, 67, 0.3), 0 1px 3px 1px rgba(60, 64, 67, 0.15);\n",
       "    fill: var(--button-hover-fill-color);\n",
       "  }\n",
       "\n",
       "  .colab-df-quickchart-complete:disabled,\n",
       "  .colab-df-quickchart-complete:disabled:hover {\n",
       "    background-color: var(--disabled-bg-color);\n",
       "    fill: var(--disabled-fill-color);\n",
       "    box-shadow: none;\n",
       "  }\n",
       "\n",
       "  .colab-df-spinner {\n",
       "    border: 2px solid var(--fill-color);\n",
       "    border-color: transparent;\n",
       "    border-bottom-color: var(--fill-color);\n",
       "    animation:\n",
       "      spin 1s steps(1) infinite;\n",
       "  }\n",
       "\n",
       "  @keyframes spin {\n",
       "    0% {\n",
       "      border-color: transparent;\n",
       "      border-bottom-color: var(--fill-color);\n",
       "      border-left-color: var(--fill-color);\n",
       "    }\n",
       "    20% {\n",
       "      border-color: transparent;\n",
       "      border-left-color: var(--fill-color);\n",
       "      border-top-color: var(--fill-color);\n",
       "    }\n",
       "    30% {\n",
       "      border-color: transparent;\n",
       "      border-left-color: var(--fill-color);\n",
       "      border-top-color: var(--fill-color);\n",
       "      border-right-color: var(--fill-color);\n",
       "    }\n",
       "    40% {\n",
       "      border-color: transparent;\n",
       "      border-right-color: var(--fill-color);\n",
       "      border-top-color: var(--fill-color);\n",
       "    }\n",
       "    60% {\n",
       "      border-color: transparent;\n",
       "      border-right-color: var(--fill-color);\n",
       "    }\n",
       "    80% {\n",
       "      border-color: transparent;\n",
       "      border-right-color: var(--fill-color);\n",
       "      border-bottom-color: var(--fill-color);\n",
       "    }\n",
       "    90% {\n",
       "      border-color: transparent;\n",
       "      border-bottom-color: var(--fill-color);\n",
       "    }\n",
       "  }\n",
       "</style>\n",
       "\n",
       "  <script>\n",
       "    async function quickchart(key) {\n",
       "      const quickchartButtonEl =\n",
       "        document.querySelector('#' + key + ' button');\n",
       "      quickchartButtonEl.disabled = true;  // To prevent multiple clicks.\n",
       "      quickchartButtonEl.classList.add('colab-df-spinner');\n",
       "      try {\n",
       "        const charts = await google.colab.kernel.invokeFunction(\n",
       "            'suggestCharts', [key], {});\n",
       "      } catch (error) {\n",
       "        console.error('Error during call to suggestCharts:', error);\n",
       "      }\n",
       "      quickchartButtonEl.classList.remove('colab-df-spinner');\n",
       "      quickchartButtonEl.classList.add('colab-df-quickchart-complete');\n",
       "    }\n",
       "    (() => {\n",
       "      let quickchartButtonEl =\n",
       "        document.querySelector('#df-a4497f43-7b93-4c15-a353-44f665c7e2f9 button');\n",
       "      quickchartButtonEl.style.display =\n",
       "        google.colab.kernel.accessAllowed ? 'block' : 'none';\n",
       "    })();\n",
       "  </script>\n",
       "</div>\n",
       "\n",
       "    </div>\n",
       "  </div>\n"
      ],
      "text/plain": [
       "  proto state  sttl  dttl service  swin  trans_depth  res_bdy_len       stime  \\\n",
       "0   udp   INT   254     0       -     0            0            0  1421930643   \n",
       "1   udp   INT    60     0     dns     0            0            0  1424246229   \n",
       "2   tcp   FIN    31    29       -   255            0            0  1421948071   \n",
       "3   tcp   FIN    31    29     ftp   255            0            0  1421971944   \n",
       "4   tcp   FIN    31    29       -   255            0            0  1421963050   \n",
       "\n",
       "     sintpkt  ...  sload_log1p  dload_log1p  spkts_log1p  stcpb_log1p  \\\n",
       "0  33.479000  ...     9.275600     0.000000     1.609438     0.000000   \n",
       "1   0.008000  ...    18.698312     0.000000     1.098612     0.000000   \n",
       "2   0.372205  ...    14.105347    16.314201     3.713572    20.196135   \n",
       "3  16.144740  ...    10.258074    10.501435     3.970292    21.803017   \n",
       "4   1.218800  ...    13.339317    13.412088     2.833213    20.673269   \n",
       "\n",
       "   dtcpb_log1p  smeansz_log1p  dmeansz_log1p  sjit_log1p djit_log1p  \\\n",
       "0     0.000000       3.828641       0.000000    3.878042   0.000000   \n",
       "1     0.000000       4.890349       0.000000    0.000000   0.000000   \n",
       "2    21.733479       4.174387       6.313548    0.000000   3.012070   \n",
       "3    20.494420       4.043051       4.248495    7.264606   3.984562   \n",
       "4    21.855078       4.574711       4.521789    4.309533   1.138118   \n",
       "\n",
       "   network_bytes_log1p  \n",
       "0             5.187386  \n",
       "1             5.579730  \n",
       "2            10.152883  \n",
       "3             8.806124  \n",
       "4             8.066208  \n",
       "\n",
       "[5 rows x 36 columns]"
      ]
     },
     "execution_count": 49,
     "metadata": {},
     "output_type": "execute_result"
    }
   ],
   "source": [
    "x_train.head()"
   ]
  },
  {
   "cell_type": "code",
   "execution_count": null,
   "metadata": {
    "colab": {
     "base_uri": "https://localhost:8080/"
    },
    "id": "SHuIeFzstP9d",
    "outputId": "b283c28a-ee4b-4880-9d35-696d424eae00"
   },
   "outputs": [
    {
     "data": {
      "text/plain": [
       "0"
      ]
     },
     "execution_count": 50,
     "metadata": {},
     "output_type": "execute_result"
    }
   ],
   "source": [
    "x_train['service'].isnull().sum()"
   ]
  },
  {
   "cell_type": "code",
   "execution_count": null,
   "metadata": {
    "id": "AShKi_hg9lsN"
   },
   "outputs": [],
   "source": [
    "\n",
    "# Define the file path\n",
    "file_path = '/content/drive/MyDrive/Advanced _Threat_Detection/UNSW-NB15/CSV_Files/Training_and_Testing_Sets/'\n",
    "\n",
    "# Saving the train and test datasets\n",
    "pickle.dump((x_train, y_train), open(file_path + 'final_train.pkl', 'wb'))\n",
    "pickle.dump((x_test, y_test), open(file_path + 'final_test.pkl', 'wb'))\n"
   ]
  },
  {
   "cell_type": "markdown",
   "metadata": {
    "id": "ApYtoXeXjcRC"
   },
   "source": [
    "## **Standardizing the Data**"
   ]
  },
  {
   "cell_type": "markdown",
   "metadata": {
    "id": "GgqLTjHMyqm1"
   },
   "source": [
    "Standardization is a cornerstone of data preprocessing, particularly for models sensitive to feature scales. Empirical studies demonstrate its significant impact on model performance, convergence speed, and interpretability. However, care must be taken to handle outliers and evaluate its necessity based on the specific algorithm and dataset.\n",
    "\n",
    "### **Key Observations**:\n",
    "\n",
    "- **Standardization Impact**:\n",
    "  - After scaling, the transformed dataset (`x_train[numeric_col]`) has its features centered around 0 with a standard deviation of 1.\n",
    "  - Example:\n",
    "    - **Before scaling**: Raw values like `dttl`, `sbytes_log1p`, etc., could range widely.\n",
    "    - **After scaling**: Values are compressed to a standardized scale, as evident from the transformed values (e.g., `-0.717760`, `-1.052109`).\n",
    "\n",
    "- **Effect on Outliers**:\n",
    "  - Standard scaling does not remove outliers but reduces their impact by rescaling all features to the same scale.\n",
    "\n",
    "- **Scalability**:\n",
    "  - This approach works seamlessly on a large dataset because it uses column-wise operations and is memory-efficient.\n",
    "\n",
    "\n",
    "### **Potential Limitations**:\n",
    "1. **Outlier Sensitivity**:\n",
    "   - Standard scaling can be influenced by extreme outliers because it uses the mean and standard deviation of the data.\n",
    "   - Alternative scalers (e.g., RobustScaler) might be more effective in cases with significant outliers.\n",
    "\n",
    "2. **Dependency on Training Data**:\n",
    "   - The `scaler` is fit on the training data, so the mean and standard deviation of the training data might not perfectly represent the test or unseen data.\n"
   ]
  },
  {
   "cell_type": "code",
   "execution_count": null,
   "metadata": {
    "colab": {
     "base_uri": "https://localhost:8080/"
    },
    "id": "VjXjG2PnkAxf",
    "outputId": "73e48236-3d65-489d-8f96-e957bf1f344e"
   },
   "outputs": [
    {
     "name": "stdout",
     "output_type": "stream",
     "text": [
      "       dttl  sbytes_log1p  ct_srv_src      swin  dmeansz_log1p  sload_log1p  \\\n",
      "0 -0.717760     -1.052109   -0.665012 -1.196045      -1.850553    -1.383776   \n",
      "1 -0.717760     -0.813189    0.996846 -1.196045      -1.850553     1.614925   \n",
      "2 -0.041365      0.563887    0.812195  0.836096       0.881301     0.153252   \n",
      "3 -0.041365      0.651189   -0.757337  0.836096      -0.012242    -1.071111   \n",
      "4 -0.041365      0.258853   -0.111059  0.836096       0.106012    -0.090531   \n",
      "\n",
      "       sttl    ct_ftp_cmd  stcpb_log1p  is_sm_ips_ports  ...  trans_depth  \\\n",
      "0  2.561444 -2.576847e-01    -1.190007         -0.04053  ...    -0.225343   \n",
      "1 -0.037542 -1.146164e-16    -1.190007         -0.04053  ...    -0.225343   \n",
      "2 -0.426051 -2.576847e-01     0.741629         -0.04053  ...    -0.225343   \n",
      "3 -0.426051  5.248303e+00     0.895318         -0.04053  ...    -0.225343   \n",
      "4 -0.426051 -2.576847e-01     0.787264         -0.04053  ...    -0.225343   \n",
      "\n",
      "     synack  ct_src_ltm  ct_dst_ltm  dbytes_log1p  ct_state_ttl   sintpkt  \\\n",
      "0 -0.128893   -0.719387   -0.666629     -1.703404      2.541751 -0.057567   \n",
      "1 -0.128893    1.109976    1.172325     -1.703404     -0.382468 -0.069616   \n",
      "2 -0.107394   -0.353515   -0.421435      0.911063     -0.382468 -0.069485   \n",
      "3 -0.107159   -0.597430   -0.176241      0.437147     -0.382468 -0.063807   \n",
      "4 -0.110421    0.378231    0.436744      0.223377     -0.382468 -0.069180   \n",
      "\n",
      "   dur_log1p  sjit_log1p  res_bdy_len  \n",
      "0  -0.251062    0.204270    -0.089113  \n",
      "1  -0.447582   -0.995343    -0.089113  \n",
      "2  -0.417344   -0.995343    -0.089113  \n",
      "3   0.768030    1.251851    -0.089113  \n",
      "4  -0.409758    0.337745    -0.089113  \n",
      "\n",
      "[5 rows x 33 columns]\n"
     ]
    }
   ],
   "source": [
    "x_train[numeric_col] = x_train[numeric_col].replace(' ', np.nan)  # empty strings or spaces in numeric columns with NaN\n",
    "x_train[numeric_col] = x_train[numeric_col].astype(float) # numeric columns to float (required for StandardScaler)\n",
    "x_train[numeric_col] = x_train[numeric_col].fillna(x_train[numeric_col].mean())\n",
    "\n",
    "scaler = StandardScaler()\n",
    "scaler = scaler.fit(x_train[numeric_col])\n",
    "x_train[numeric_col] = scaler.transform(x_train[numeric_col])\n",
    "\n",
    "print(x_train[numeric_col].head())\n"
   ]
  },
  {
   "cell_type": "code",
   "execution_count": null,
   "metadata": {
    "colab": {
     "base_uri": "https://localhost:8080/",
     "height": 255
    },
    "id": "UHd-CO-fjW0r",
    "outputId": "a1b938ab-943a-4543-fe7f-3d48cbdaa9bb"
   },
   "outputs": [
    {
     "data": {
      "application/vnd.google.colaboratory.intrinsic+json": {
       "type": "dataframe",
       "variable_name": "x_train"
      },
      "text/html": [
       "\n",
       "  <div id=\"df-6910a662-5399-4c65-8f75-a84094b06be4\" class=\"colab-df-container\">\n",
       "    <div>\n",
       "<style scoped>\n",
       "    .dataframe tbody tr th:only-of-type {\n",
       "        vertical-align: middle;\n",
       "    }\n",
       "\n",
       "    .dataframe tbody tr th {\n",
       "        vertical-align: top;\n",
       "    }\n",
       "\n",
       "    .dataframe thead th {\n",
       "        text-align: right;\n",
       "    }\n",
       "</style>\n",
       "<table border=\"1\" class=\"dataframe\">\n",
       "  <thead>\n",
       "    <tr style=\"text-align: right;\">\n",
       "      <th></th>\n",
       "      <th>proto</th>\n",
       "      <th>state</th>\n",
       "      <th>sttl</th>\n",
       "      <th>dttl</th>\n",
       "      <th>service</th>\n",
       "      <th>swin</th>\n",
       "      <th>trans_depth</th>\n",
       "      <th>res_bdy_len</th>\n",
       "      <th>stime</th>\n",
       "      <th>sintpkt</th>\n",
       "      <th>...</th>\n",
       "      <th>sload_log1p</th>\n",
       "      <th>dload_log1p</th>\n",
       "      <th>spkts_log1p</th>\n",
       "      <th>stcpb_log1p</th>\n",
       "      <th>dtcpb_log1p</th>\n",
       "      <th>smeansz_log1p</th>\n",
       "      <th>dmeansz_log1p</th>\n",
       "      <th>sjit_log1p</th>\n",
       "      <th>djit_log1p</th>\n",
       "      <th>network_bytes_log1p</th>\n",
       "    </tr>\n",
       "  </thead>\n",
       "  <tbody>\n",
       "    <tr>\n",
       "      <th>0</th>\n",
       "      <td>udp</td>\n",
       "      <td>INT</td>\n",
       "      <td>2.561444</td>\n",
       "      <td>-0.717760</td>\n",
       "      <td>-</td>\n",
       "      <td>-1.196045</td>\n",
       "      <td>-0.225343</td>\n",
       "      <td>-0.089113</td>\n",
       "      <td>-1.172764</td>\n",
       "      <td>-0.057567</td>\n",
       "      <td>...</td>\n",
       "      <td>-1.383776</td>\n",
       "      <td>-1.879995</td>\n",
       "      <td>-0.704801</td>\n",
       "      <td>-1.190007</td>\n",
       "      <td>-1.189697</td>\n",
       "      <td>-1.137341</td>\n",
       "      <td>-1.850553</td>\n",
       "      <td>0.204270</td>\n",
       "      <td>-0.899657</td>\n",
       "      <td>-1.229918</td>\n",
       "    </tr>\n",
       "    <tr>\n",
       "      <th>1</th>\n",
       "      <td>udp</td>\n",
       "      <td>INT</td>\n",
       "      <td>-0.037542</td>\n",
       "      <td>-0.717760</td>\n",
       "      <td>dns</td>\n",
       "      <td>-1.196045</td>\n",
       "      <td>-0.225343</td>\n",
       "      <td>-0.089113</td>\n",
       "      <td>0.868469</td>\n",
       "      <td>-0.069616</td>\n",
       "      <td>...</td>\n",
       "      <td>1.614925</td>\n",
       "      <td>-1.879995</td>\n",
       "      <td>-1.080734</td>\n",
       "      <td>-1.190007</td>\n",
       "      <td>-1.189697</td>\n",
       "      <td>0.565988</td>\n",
       "      <td>-1.850553</td>\n",
       "      <td>-0.995343</td>\n",
       "      <td>-0.899657</td>\n",
       "      <td>-1.062092</td>\n",
       "    </tr>\n",
       "    <tr>\n",
       "      <th>2</th>\n",
       "      <td>tcp</td>\n",
       "      <td>FIN</td>\n",
       "      <td>-0.426051</td>\n",
       "      <td>-0.041365</td>\n",
       "      <td>-</td>\n",
       "      <td>0.836096</td>\n",
       "      <td>-0.225343</td>\n",
       "      <td>-0.089113</td>\n",
       "      <td>-1.157401</td>\n",
       "      <td>-0.069485</td>\n",
       "      <td>...</td>\n",
       "      <td>0.153252</td>\n",
       "      <td>0.988351</td>\n",
       "      <td>0.843701</td>\n",
       "      <td>0.741629</td>\n",
       "      <td>0.888925</td>\n",
       "      <td>-0.582651</td>\n",
       "      <td>0.881301</td>\n",
       "      <td>-0.995343</td>\n",
       "      <td>0.170283</td>\n",
       "      <td>0.894089</td>\n",
       "    </tr>\n",
       "    <tr>\n",
       "      <th>3</th>\n",
       "      <td>tcp</td>\n",
       "      <td>FIN</td>\n",
       "      <td>-0.426051</td>\n",
       "      <td>-0.041365</td>\n",
       "      <td>ftp</td>\n",
       "      <td>0.836096</td>\n",
       "      <td>-0.225343</td>\n",
       "      <td>-0.089113</td>\n",
       "      <td>-1.136357</td>\n",
       "      <td>-0.063807</td>\n",
       "      <td>...</td>\n",
       "      <td>-1.071111</td>\n",
       "      <td>-0.033644</td>\n",
       "      <td>1.032630</td>\n",
       "      <td>0.895318</td>\n",
       "      <td>0.770420</td>\n",
       "      <td>-0.793357</td>\n",
       "      <td>-0.012242</td>\n",
       "      <td>1.251851</td>\n",
       "      <td>0.515730</td>\n",
       "      <td>0.318009</td>\n",
       "    </tr>\n",
       "    <tr>\n",
       "      <th>4</th>\n",
       "      <td>tcp</td>\n",
       "      <td>FIN</td>\n",
       "      <td>-0.426051</td>\n",
       "      <td>-0.041365</td>\n",
       "      <td>-</td>\n",
       "      <td>0.836096</td>\n",
       "      <td>-0.225343</td>\n",
       "      <td>-0.089113</td>\n",
       "      <td>-1.144197</td>\n",
       "      <td>-0.069180</td>\n",
       "      <td>...</td>\n",
       "      <td>-0.090531</td>\n",
       "      <td>0.478104</td>\n",
       "      <td>0.195816</td>\n",
       "      <td>0.787264</td>\n",
       "      <td>0.900555</td>\n",
       "      <td>0.059601</td>\n",
       "      <td>0.106012</td>\n",
       "      <td>0.337745</td>\n",
       "      <td>-0.495378</td>\n",
       "      <td>0.001507</td>\n",
       "    </tr>\n",
       "  </tbody>\n",
       "</table>\n",
       "<p>5 rows × 36 columns</p>\n",
       "</div>\n",
       "    <div class=\"colab-df-buttons\">\n",
       "\n",
       "  <div class=\"colab-df-container\">\n",
       "    <button class=\"colab-df-convert\" onclick=\"convertToInteractive('df-6910a662-5399-4c65-8f75-a84094b06be4')\"\n",
       "            title=\"Convert this dataframe to an interactive table.\"\n",
       "            style=\"display:none;\">\n",
       "\n",
       "  <svg xmlns=\"http://www.w3.org/2000/svg\" height=\"24px\" viewBox=\"0 -960 960 960\">\n",
       "    <path d=\"M120-120v-720h720v720H120Zm60-500h600v-160H180v160Zm220 220h160v-160H400v160Zm0 220h160v-160H400v160ZM180-400h160v-160H180v160Zm440 0h160v-160H620v160ZM180-180h160v-160H180v160Zm440 0h160v-160H620v160Z\"/>\n",
       "  </svg>\n",
       "    </button>\n",
       "\n",
       "  <style>\n",
       "    .colab-df-container {\n",
       "      display:flex;\n",
       "      gap: 12px;\n",
       "    }\n",
       "\n",
       "    .colab-df-convert {\n",
       "      background-color: #E8F0FE;\n",
       "      border: none;\n",
       "      border-radius: 50%;\n",
       "      cursor: pointer;\n",
       "      display: none;\n",
       "      fill: #1967D2;\n",
       "      height: 32px;\n",
       "      padding: 0 0 0 0;\n",
       "      width: 32px;\n",
       "    }\n",
       "\n",
       "    .colab-df-convert:hover {\n",
       "      background-color: #E2EBFA;\n",
       "      box-shadow: 0px 1px 2px rgba(60, 64, 67, 0.3), 0px 1px 3px 1px rgba(60, 64, 67, 0.15);\n",
       "      fill: #174EA6;\n",
       "    }\n",
       "\n",
       "    .colab-df-buttons div {\n",
       "      margin-bottom: 4px;\n",
       "    }\n",
       "\n",
       "    [theme=dark] .colab-df-convert {\n",
       "      background-color: #3B4455;\n",
       "      fill: #D2E3FC;\n",
       "    }\n",
       "\n",
       "    [theme=dark] .colab-df-convert:hover {\n",
       "      background-color: #434B5C;\n",
       "      box-shadow: 0px 1px 3px 1px rgba(0, 0, 0, 0.15);\n",
       "      filter: drop-shadow(0px 1px 2px rgba(0, 0, 0, 0.3));\n",
       "      fill: #FFFFFF;\n",
       "    }\n",
       "  </style>\n",
       "\n",
       "    <script>\n",
       "      const buttonEl =\n",
       "        document.querySelector('#df-6910a662-5399-4c65-8f75-a84094b06be4 button.colab-df-convert');\n",
       "      buttonEl.style.display =\n",
       "        google.colab.kernel.accessAllowed ? 'block' : 'none';\n",
       "\n",
       "      async function convertToInteractive(key) {\n",
       "        const element = document.querySelector('#df-6910a662-5399-4c65-8f75-a84094b06be4');\n",
       "        const dataTable =\n",
       "          await google.colab.kernel.invokeFunction('convertToInteractive',\n",
       "                                                    [key], {});\n",
       "        if (!dataTable) return;\n",
       "\n",
       "        const docLinkHtml = 'Like what you see? Visit the ' +\n",
       "          '<a target=\"_blank\" href=https://colab.research.google.com/notebooks/data_table.ipynb>data table notebook</a>'\n",
       "          + ' to learn more about interactive tables.';\n",
       "        element.innerHTML = '';\n",
       "        dataTable['output_type'] = 'display_data';\n",
       "        await google.colab.output.renderOutput(dataTable, element);\n",
       "        const docLink = document.createElement('div');\n",
       "        docLink.innerHTML = docLinkHtml;\n",
       "        element.appendChild(docLink);\n",
       "      }\n",
       "    </script>\n",
       "  </div>\n",
       "\n",
       "\n",
       "<div id=\"df-895d0382-38c1-433f-a9fe-ecadfa1933bb\">\n",
       "  <button class=\"colab-df-quickchart\" onclick=\"quickchart('df-895d0382-38c1-433f-a9fe-ecadfa1933bb')\"\n",
       "            title=\"Suggest charts\"\n",
       "            style=\"display:none;\">\n",
       "\n",
       "<svg xmlns=\"http://www.w3.org/2000/svg\" height=\"24px\"viewBox=\"0 0 24 24\"\n",
       "     width=\"24px\">\n",
       "    <g>\n",
       "        <path d=\"M19 3H5c-1.1 0-2 .9-2 2v14c0 1.1.9 2 2 2h14c1.1 0 2-.9 2-2V5c0-1.1-.9-2-2-2zM9 17H7v-7h2v7zm4 0h-2V7h2v10zm4 0h-2v-4h2v4z\"/>\n",
       "    </g>\n",
       "</svg>\n",
       "  </button>\n",
       "\n",
       "<style>\n",
       "  .colab-df-quickchart {\n",
       "      --bg-color: #E8F0FE;\n",
       "      --fill-color: #1967D2;\n",
       "      --hover-bg-color: #E2EBFA;\n",
       "      --hover-fill-color: #174EA6;\n",
       "      --disabled-fill-color: #AAA;\n",
       "      --disabled-bg-color: #DDD;\n",
       "  }\n",
       "\n",
       "  [theme=dark] .colab-df-quickchart {\n",
       "      --bg-color: #3B4455;\n",
       "      --fill-color: #D2E3FC;\n",
       "      --hover-bg-color: #434B5C;\n",
       "      --hover-fill-color: #FFFFFF;\n",
       "      --disabled-bg-color: #3B4455;\n",
       "      --disabled-fill-color: #666;\n",
       "  }\n",
       "\n",
       "  .colab-df-quickchart {\n",
       "    background-color: var(--bg-color);\n",
       "    border: none;\n",
       "    border-radius: 50%;\n",
       "    cursor: pointer;\n",
       "    display: none;\n",
       "    fill: var(--fill-color);\n",
       "    height: 32px;\n",
       "    padding: 0;\n",
       "    width: 32px;\n",
       "  }\n",
       "\n",
       "  .colab-df-quickchart:hover {\n",
       "    background-color: var(--hover-bg-color);\n",
       "    box-shadow: 0 1px 2px rgba(60, 64, 67, 0.3), 0 1px 3px 1px rgba(60, 64, 67, 0.15);\n",
       "    fill: var(--button-hover-fill-color);\n",
       "  }\n",
       "\n",
       "  .colab-df-quickchart-complete:disabled,\n",
       "  .colab-df-quickchart-complete:disabled:hover {\n",
       "    background-color: var(--disabled-bg-color);\n",
       "    fill: var(--disabled-fill-color);\n",
       "    box-shadow: none;\n",
       "  }\n",
       "\n",
       "  .colab-df-spinner {\n",
       "    border: 2px solid var(--fill-color);\n",
       "    border-color: transparent;\n",
       "    border-bottom-color: var(--fill-color);\n",
       "    animation:\n",
       "      spin 1s steps(1) infinite;\n",
       "  }\n",
       "\n",
       "  @keyframes spin {\n",
       "    0% {\n",
       "      border-color: transparent;\n",
       "      border-bottom-color: var(--fill-color);\n",
       "      border-left-color: var(--fill-color);\n",
       "    }\n",
       "    20% {\n",
       "      border-color: transparent;\n",
       "      border-left-color: var(--fill-color);\n",
       "      border-top-color: var(--fill-color);\n",
       "    }\n",
       "    30% {\n",
       "      border-color: transparent;\n",
       "      border-left-color: var(--fill-color);\n",
       "      border-top-color: var(--fill-color);\n",
       "      border-right-color: var(--fill-color);\n",
       "    }\n",
       "    40% {\n",
       "      border-color: transparent;\n",
       "      border-right-color: var(--fill-color);\n",
       "      border-top-color: var(--fill-color);\n",
       "    }\n",
       "    60% {\n",
       "      border-color: transparent;\n",
       "      border-right-color: var(--fill-color);\n",
       "    }\n",
       "    80% {\n",
       "      border-color: transparent;\n",
       "      border-right-color: var(--fill-color);\n",
       "      border-bottom-color: var(--fill-color);\n",
       "    }\n",
       "    90% {\n",
       "      border-color: transparent;\n",
       "      border-bottom-color: var(--fill-color);\n",
       "    }\n",
       "  }\n",
       "</style>\n",
       "\n",
       "  <script>\n",
       "    async function quickchart(key) {\n",
       "      const quickchartButtonEl =\n",
       "        document.querySelector('#' + key + ' button');\n",
       "      quickchartButtonEl.disabled = true;  // To prevent multiple clicks.\n",
       "      quickchartButtonEl.classList.add('colab-df-spinner');\n",
       "      try {\n",
       "        const charts = await google.colab.kernel.invokeFunction(\n",
       "            'suggestCharts', [key], {});\n",
       "      } catch (error) {\n",
       "        console.error('Error during call to suggestCharts:', error);\n",
       "      }\n",
       "      quickchartButtonEl.classList.remove('colab-df-spinner');\n",
       "      quickchartButtonEl.classList.add('colab-df-quickchart-complete');\n",
       "    }\n",
       "    (() => {\n",
       "      let quickchartButtonEl =\n",
       "        document.querySelector('#df-895d0382-38c1-433f-a9fe-ecadfa1933bb button');\n",
       "      quickchartButtonEl.style.display =\n",
       "        google.colab.kernel.accessAllowed ? 'block' : 'none';\n",
       "    })();\n",
       "  </script>\n",
       "</div>\n",
       "\n",
       "    </div>\n",
       "  </div>\n"
      ],
      "text/plain": [
       "  proto state      sttl      dttl service      swin  trans_depth  res_bdy_len  \\\n",
       "0   udp   INT  2.561444 -0.717760       - -1.196045    -0.225343    -0.089113   \n",
       "1   udp   INT -0.037542 -0.717760     dns -1.196045    -0.225343    -0.089113   \n",
       "2   tcp   FIN -0.426051 -0.041365       -  0.836096    -0.225343    -0.089113   \n",
       "3   tcp   FIN -0.426051 -0.041365     ftp  0.836096    -0.225343    -0.089113   \n",
       "4   tcp   FIN -0.426051 -0.041365       -  0.836096    -0.225343    -0.089113   \n",
       "\n",
       "      stime   sintpkt  ...  sload_log1p  dload_log1p  spkts_log1p  \\\n",
       "0 -1.172764 -0.057567  ...    -1.383776    -1.879995    -0.704801   \n",
       "1  0.868469 -0.069616  ...     1.614925    -1.879995    -1.080734   \n",
       "2 -1.157401 -0.069485  ...     0.153252     0.988351     0.843701   \n",
       "3 -1.136357 -0.063807  ...    -1.071111    -0.033644     1.032630   \n",
       "4 -1.144197 -0.069180  ...    -0.090531     0.478104     0.195816   \n",
       "\n",
       "   stcpb_log1p  dtcpb_log1p  smeansz_log1p  dmeansz_log1p  sjit_log1p  \\\n",
       "0    -1.190007    -1.189697      -1.137341      -1.850553    0.204270   \n",
       "1    -1.190007    -1.189697       0.565988      -1.850553   -0.995343   \n",
       "2     0.741629     0.888925      -0.582651       0.881301   -0.995343   \n",
       "3     0.895318     0.770420      -0.793357      -0.012242    1.251851   \n",
       "4     0.787264     0.900555       0.059601       0.106012    0.337745   \n",
       "\n",
       "   djit_log1p  network_bytes_log1p  \n",
       "0   -0.899657            -1.229918  \n",
       "1   -0.899657            -1.062092  \n",
       "2    0.170283             0.894089  \n",
       "3    0.515730             0.318009  \n",
       "4   -0.495378             0.001507  \n",
       "\n",
       "[5 rows x 36 columns]"
      ]
     },
     "execution_count": 53,
     "metadata": {},
     "output_type": "execute_result"
    }
   ],
   "source": [
    "x_train.head()\n"
   ]
  },
  {
   "cell_type": "markdown",
   "metadata": {
    "id": "G8fOYIBslqHO"
   },
   "source": [
    "## **One Hot Encoding**"
   ]
  },
  {
   "cell_type": "code",
   "execution_count": null,
   "metadata": {
    "id": "L1VPcMLjlpG-"
   },
   "outputs": [],
   "source": [
    "\n",
    "service_ = OneHotEncoder()\n",
    "proto_ = OneHotEncoder()\n",
    "state_ = OneHotEncoder()\n",
    "ohe_service = service_.fit(x_train.service.values.reshape(-1,1))\n",
    "ohe_proto = proto_.fit(x_train.proto.values.reshape(-1,1))\n",
    "ohe_state = state_.fit(x_train.state.values.reshape(-1,1))\n",
    "\n",
    "for col, ohe in zip(['proto','service', 'state'], [ohe_proto, ohe_service, ohe_state]):\n",
    "  x = ohe.transform(x_train[col].values.reshape(-1,1))\n",
    "  tmp_df = pd.DataFrame(x.todense(), columns=[col+'_'+i for i in ohe.categories_[0]])\n",
    "  x_train = pd.concat([x_train.drop(col, axis=1), tmp_df], axis=1)"
   ]
  },
  {
   "cell_type": "code",
   "execution_count": null,
   "metadata": {
    "colab": {
     "base_uri": "https://localhost:8080/",
     "height": 255
    },
    "id": "R8Tz6sA2vVFY",
    "outputId": "ec1f0b8f-d845-41cc-cb9d-bc5c55139fee"
   },
   "outputs": [
    {
     "data": {
      "application/vnd.google.colaboratory.intrinsic+json": {
       "type": "dataframe",
       "variable_name": "x_train"
      },
      "text/html": [
       "\n",
       "  <div id=\"df-88c8f924-cbd4-43a1-9725-6934b3bb03a8\" class=\"colab-df-container\">\n",
       "    <div>\n",
       "<style scoped>\n",
       "    .dataframe tbody tr th:only-of-type {\n",
       "        vertical-align: middle;\n",
       "    }\n",
       "\n",
       "    .dataframe tbody tr th {\n",
       "        vertical-align: top;\n",
       "    }\n",
       "\n",
       "    .dataframe thead th {\n",
       "        text-align: right;\n",
       "    }\n",
       "</style>\n",
       "<table border=\"1\" class=\"dataframe\">\n",
       "  <thead>\n",
       "    <tr style=\"text-align: right;\">\n",
       "      <th></th>\n",
       "      <th>sttl</th>\n",
       "      <th>dttl</th>\n",
       "      <th>swin</th>\n",
       "      <th>trans_depth</th>\n",
       "      <th>res_bdy_len</th>\n",
       "      <th>stime</th>\n",
       "      <th>sintpkt</th>\n",
       "      <th>dintpkt</th>\n",
       "      <th>tcprtt</th>\n",
       "      <th>synack</th>\n",
       "      <th>...</th>\n",
       "      <th>state_INT</th>\n",
       "      <th>state_MAS</th>\n",
       "      <th>state_PAR</th>\n",
       "      <th>state_REQ</th>\n",
       "      <th>state_RST</th>\n",
       "      <th>state_TST</th>\n",
       "      <th>state_TXD</th>\n",
       "      <th>state_URH</th>\n",
       "      <th>state_URN</th>\n",
       "      <th>state_no</th>\n",
       "    </tr>\n",
       "  </thead>\n",
       "  <tbody>\n",
       "    <tr>\n",
       "      <th>0</th>\n",
       "      <td>2.561444</td>\n",
       "      <td>-0.717760</td>\n",
       "      <td>-1.196045</td>\n",
       "      <td>-0.225343</td>\n",
       "      <td>-0.089113</td>\n",
       "      <td>-1.172764</td>\n",
       "      <td>-0.057567</td>\n",
       "      <td>-0.055099</td>\n",
       "      <td>-0.136439</td>\n",
       "      <td>-0.128893</td>\n",
       "      <td>...</td>\n",
       "      <td>1.0</td>\n",
       "      <td>0.0</td>\n",
       "      <td>0.0</td>\n",
       "      <td>0.0</td>\n",
       "      <td>0.0</td>\n",
       "      <td>0.0</td>\n",
       "      <td>0.0</td>\n",
       "      <td>0.0</td>\n",
       "      <td>0.0</td>\n",
       "      <td>0.0</td>\n",
       "    </tr>\n",
       "    <tr>\n",
       "      <th>1</th>\n",
       "      <td>-0.037542</td>\n",
       "      <td>-0.717760</td>\n",
       "      <td>-1.196045</td>\n",
       "      <td>-0.225343</td>\n",
       "      <td>-0.089113</td>\n",
       "      <td>0.868469</td>\n",
       "      <td>-0.069616</td>\n",
       "      <td>-0.055099</td>\n",
       "      <td>-0.136439</td>\n",
       "      <td>-0.128893</td>\n",
       "      <td>...</td>\n",
       "      <td>1.0</td>\n",
       "      <td>0.0</td>\n",
       "      <td>0.0</td>\n",
       "      <td>0.0</td>\n",
       "      <td>0.0</td>\n",
       "      <td>0.0</td>\n",
       "      <td>0.0</td>\n",
       "      <td>0.0</td>\n",
       "      <td>0.0</td>\n",
       "      <td>0.0</td>\n",
       "    </tr>\n",
       "    <tr>\n",
       "      <th>2</th>\n",
       "      <td>-0.426051</td>\n",
       "      <td>-0.041365</td>\n",
       "      <td>0.836096</td>\n",
       "      <td>-0.225343</td>\n",
       "      <td>-0.089113</td>\n",
       "      <td>-1.157401</td>\n",
       "      <td>-0.069485</td>\n",
       "      <td>-0.054857</td>\n",
       "      <td>-0.121383</td>\n",
       "      <td>-0.107394</td>\n",
       "      <td>...</td>\n",
       "      <td>0.0</td>\n",
       "      <td>0.0</td>\n",
       "      <td>0.0</td>\n",
       "      <td>0.0</td>\n",
       "      <td>0.0</td>\n",
       "      <td>0.0</td>\n",
       "      <td>0.0</td>\n",
       "      <td>0.0</td>\n",
       "      <td>0.0</td>\n",
       "      <td>0.0</td>\n",
       "    </tr>\n",
       "    <tr>\n",
       "      <th>3</th>\n",
       "      <td>-0.426051</td>\n",
       "      <td>-0.041365</td>\n",
       "      <td>0.836096</td>\n",
       "      <td>-0.225343</td>\n",
       "      <td>-0.089113</td>\n",
       "      <td>-1.136357</td>\n",
       "      <td>-0.063807</td>\n",
       "      <td>-0.044512</td>\n",
       "      <td>-0.120830</td>\n",
       "      <td>-0.107159</td>\n",
       "      <td>...</td>\n",
       "      <td>0.0</td>\n",
       "      <td>0.0</td>\n",
       "      <td>0.0</td>\n",
       "      <td>0.0</td>\n",
       "      <td>0.0</td>\n",
       "      <td>0.0</td>\n",
       "      <td>0.0</td>\n",
       "      <td>0.0</td>\n",
       "      <td>0.0</td>\n",
       "      <td>0.0</td>\n",
       "    </tr>\n",
       "    <tr>\n",
       "      <th>4</th>\n",
       "      <td>-0.426051</td>\n",
       "      <td>-0.041365</td>\n",
       "      <td>0.836096</td>\n",
       "      <td>-0.225343</td>\n",
       "      <td>-0.089113</td>\n",
       "      <td>-1.144197</td>\n",
       "      <td>-0.069180</td>\n",
       "      <td>-0.054358</td>\n",
       "      <td>-0.123351</td>\n",
       "      <td>-0.110421</td>\n",
       "      <td>...</td>\n",
       "      <td>0.0</td>\n",
       "      <td>0.0</td>\n",
       "      <td>0.0</td>\n",
       "      <td>0.0</td>\n",
       "      <td>0.0</td>\n",
       "      <td>0.0</td>\n",
       "      <td>0.0</td>\n",
       "      <td>0.0</td>\n",
       "      <td>0.0</td>\n",
       "      <td>0.0</td>\n",
       "    </tr>\n",
       "  </tbody>\n",
       "</table>\n",
       "<p>5 rows × 197 columns</p>\n",
       "</div>\n",
       "    <div class=\"colab-df-buttons\">\n",
       "\n",
       "  <div class=\"colab-df-container\">\n",
       "    <button class=\"colab-df-convert\" onclick=\"convertToInteractive('df-88c8f924-cbd4-43a1-9725-6934b3bb03a8')\"\n",
       "            title=\"Convert this dataframe to an interactive table.\"\n",
       "            style=\"display:none;\">\n",
       "\n",
       "  <svg xmlns=\"http://www.w3.org/2000/svg\" height=\"24px\" viewBox=\"0 -960 960 960\">\n",
       "    <path d=\"M120-120v-720h720v720H120Zm60-500h600v-160H180v160Zm220 220h160v-160H400v160Zm0 220h160v-160H400v160ZM180-400h160v-160H180v160Zm440 0h160v-160H620v160ZM180-180h160v-160H180v160Zm440 0h160v-160H620v160Z\"/>\n",
       "  </svg>\n",
       "    </button>\n",
       "\n",
       "  <style>\n",
       "    .colab-df-container {\n",
       "      display:flex;\n",
       "      gap: 12px;\n",
       "    }\n",
       "\n",
       "    .colab-df-convert {\n",
       "      background-color: #E8F0FE;\n",
       "      border: none;\n",
       "      border-radius: 50%;\n",
       "      cursor: pointer;\n",
       "      display: none;\n",
       "      fill: #1967D2;\n",
       "      height: 32px;\n",
       "      padding: 0 0 0 0;\n",
       "      width: 32px;\n",
       "    }\n",
       "\n",
       "    .colab-df-convert:hover {\n",
       "      background-color: #E2EBFA;\n",
       "      box-shadow: 0px 1px 2px rgba(60, 64, 67, 0.3), 0px 1px 3px 1px rgba(60, 64, 67, 0.15);\n",
       "      fill: #174EA6;\n",
       "    }\n",
       "\n",
       "    .colab-df-buttons div {\n",
       "      margin-bottom: 4px;\n",
       "    }\n",
       "\n",
       "    [theme=dark] .colab-df-convert {\n",
       "      background-color: #3B4455;\n",
       "      fill: #D2E3FC;\n",
       "    }\n",
       "\n",
       "    [theme=dark] .colab-df-convert:hover {\n",
       "      background-color: #434B5C;\n",
       "      box-shadow: 0px 1px 3px 1px rgba(0, 0, 0, 0.15);\n",
       "      filter: drop-shadow(0px 1px 2px rgba(0, 0, 0, 0.3));\n",
       "      fill: #FFFFFF;\n",
       "    }\n",
       "  </style>\n",
       "\n",
       "    <script>\n",
       "      const buttonEl =\n",
       "        document.querySelector('#df-88c8f924-cbd4-43a1-9725-6934b3bb03a8 button.colab-df-convert');\n",
       "      buttonEl.style.display =\n",
       "        google.colab.kernel.accessAllowed ? 'block' : 'none';\n",
       "\n",
       "      async function convertToInteractive(key) {\n",
       "        const element = document.querySelector('#df-88c8f924-cbd4-43a1-9725-6934b3bb03a8');\n",
       "        const dataTable =\n",
       "          await google.colab.kernel.invokeFunction('convertToInteractive',\n",
       "                                                    [key], {});\n",
       "        if (!dataTable) return;\n",
       "\n",
       "        const docLinkHtml = 'Like what you see? Visit the ' +\n",
       "          '<a target=\"_blank\" href=https://colab.research.google.com/notebooks/data_table.ipynb>data table notebook</a>'\n",
       "          + ' to learn more about interactive tables.';\n",
       "        element.innerHTML = '';\n",
       "        dataTable['output_type'] = 'display_data';\n",
       "        await google.colab.output.renderOutput(dataTable, element);\n",
       "        const docLink = document.createElement('div');\n",
       "        docLink.innerHTML = docLinkHtml;\n",
       "        element.appendChild(docLink);\n",
       "      }\n",
       "    </script>\n",
       "  </div>\n",
       "\n",
       "\n",
       "<div id=\"df-57280bef-f942-4f59-8eb1-21ef6901d541\">\n",
       "  <button class=\"colab-df-quickchart\" onclick=\"quickchart('df-57280bef-f942-4f59-8eb1-21ef6901d541')\"\n",
       "            title=\"Suggest charts\"\n",
       "            style=\"display:none;\">\n",
       "\n",
       "<svg xmlns=\"http://www.w3.org/2000/svg\" height=\"24px\"viewBox=\"0 0 24 24\"\n",
       "     width=\"24px\">\n",
       "    <g>\n",
       "        <path d=\"M19 3H5c-1.1 0-2 .9-2 2v14c0 1.1.9 2 2 2h14c1.1 0 2-.9 2-2V5c0-1.1-.9-2-2-2zM9 17H7v-7h2v7zm4 0h-2V7h2v10zm4 0h-2v-4h2v4z\"/>\n",
       "    </g>\n",
       "</svg>\n",
       "  </button>\n",
       "\n",
       "<style>\n",
       "  .colab-df-quickchart {\n",
       "      --bg-color: #E8F0FE;\n",
       "      --fill-color: #1967D2;\n",
       "      --hover-bg-color: #E2EBFA;\n",
       "      --hover-fill-color: #174EA6;\n",
       "      --disabled-fill-color: #AAA;\n",
       "      --disabled-bg-color: #DDD;\n",
       "  }\n",
       "\n",
       "  [theme=dark] .colab-df-quickchart {\n",
       "      --bg-color: #3B4455;\n",
       "      --fill-color: #D2E3FC;\n",
       "      --hover-bg-color: #434B5C;\n",
       "      --hover-fill-color: #FFFFFF;\n",
       "      --disabled-bg-color: #3B4455;\n",
       "      --disabled-fill-color: #666;\n",
       "  }\n",
       "\n",
       "  .colab-df-quickchart {\n",
       "    background-color: var(--bg-color);\n",
       "    border: none;\n",
       "    border-radius: 50%;\n",
       "    cursor: pointer;\n",
       "    display: none;\n",
       "    fill: var(--fill-color);\n",
       "    height: 32px;\n",
       "    padding: 0;\n",
       "    width: 32px;\n",
       "  }\n",
       "\n",
       "  .colab-df-quickchart:hover {\n",
       "    background-color: var(--hover-bg-color);\n",
       "    box-shadow: 0 1px 2px rgba(60, 64, 67, 0.3), 0 1px 3px 1px rgba(60, 64, 67, 0.15);\n",
       "    fill: var(--button-hover-fill-color);\n",
       "  }\n",
       "\n",
       "  .colab-df-quickchart-complete:disabled,\n",
       "  .colab-df-quickchart-complete:disabled:hover {\n",
       "    background-color: var(--disabled-bg-color);\n",
       "    fill: var(--disabled-fill-color);\n",
       "    box-shadow: none;\n",
       "  }\n",
       "\n",
       "  .colab-df-spinner {\n",
       "    border: 2px solid var(--fill-color);\n",
       "    border-color: transparent;\n",
       "    border-bottom-color: var(--fill-color);\n",
       "    animation:\n",
       "      spin 1s steps(1) infinite;\n",
       "  }\n",
       "\n",
       "  @keyframes spin {\n",
       "    0% {\n",
       "      border-color: transparent;\n",
       "      border-bottom-color: var(--fill-color);\n",
       "      border-left-color: var(--fill-color);\n",
       "    }\n",
       "    20% {\n",
       "      border-color: transparent;\n",
       "      border-left-color: var(--fill-color);\n",
       "      border-top-color: var(--fill-color);\n",
       "    }\n",
       "    30% {\n",
       "      border-color: transparent;\n",
       "      border-left-color: var(--fill-color);\n",
       "      border-top-color: var(--fill-color);\n",
       "      border-right-color: var(--fill-color);\n",
       "    }\n",
       "    40% {\n",
       "      border-color: transparent;\n",
       "      border-right-color: var(--fill-color);\n",
       "      border-top-color: var(--fill-color);\n",
       "    }\n",
       "    60% {\n",
       "      border-color: transparent;\n",
       "      border-right-color: var(--fill-color);\n",
       "    }\n",
       "    80% {\n",
       "      border-color: transparent;\n",
       "      border-right-color: var(--fill-color);\n",
       "      border-bottom-color: var(--fill-color);\n",
       "    }\n",
       "    90% {\n",
       "      border-color: transparent;\n",
       "      border-bottom-color: var(--fill-color);\n",
       "    }\n",
       "  }\n",
       "</style>\n",
       "\n",
       "  <script>\n",
       "    async function quickchart(key) {\n",
       "      const quickchartButtonEl =\n",
       "        document.querySelector('#' + key + ' button');\n",
       "      quickchartButtonEl.disabled = true;  // To prevent multiple clicks.\n",
       "      quickchartButtonEl.classList.add('colab-df-spinner');\n",
       "      try {\n",
       "        const charts = await google.colab.kernel.invokeFunction(\n",
       "            'suggestCharts', [key], {});\n",
       "      } catch (error) {\n",
       "        console.error('Error during call to suggestCharts:', error);\n",
       "      }\n",
       "      quickchartButtonEl.classList.remove('colab-df-spinner');\n",
       "      quickchartButtonEl.classList.add('colab-df-quickchart-complete');\n",
       "    }\n",
       "    (() => {\n",
       "      let quickchartButtonEl =\n",
       "        document.querySelector('#df-57280bef-f942-4f59-8eb1-21ef6901d541 button');\n",
       "      quickchartButtonEl.style.display =\n",
       "        google.colab.kernel.accessAllowed ? 'block' : 'none';\n",
       "    })();\n",
       "  </script>\n",
       "</div>\n",
       "\n",
       "    </div>\n",
       "  </div>\n"
      ],
      "text/plain": [
       "       sttl      dttl      swin  trans_depth  res_bdy_len     stime   sintpkt  \\\n",
       "0  2.561444 -0.717760 -1.196045    -0.225343    -0.089113 -1.172764 -0.057567   \n",
       "1 -0.037542 -0.717760 -1.196045    -0.225343    -0.089113  0.868469 -0.069616   \n",
       "2 -0.426051 -0.041365  0.836096    -0.225343    -0.089113 -1.157401 -0.069485   \n",
       "3 -0.426051 -0.041365  0.836096    -0.225343    -0.089113 -1.136357 -0.063807   \n",
       "4 -0.426051 -0.041365  0.836096    -0.225343    -0.089113 -1.144197 -0.069180   \n",
       "\n",
       "    dintpkt    tcprtt    synack  ...  state_INT  state_MAS  state_PAR  \\\n",
       "0 -0.055099 -0.136439 -0.128893  ...        1.0        0.0        0.0   \n",
       "1 -0.055099 -0.136439 -0.128893  ...        1.0        0.0        0.0   \n",
       "2 -0.054857 -0.121383 -0.107394  ...        0.0        0.0        0.0   \n",
       "3 -0.044512 -0.120830 -0.107159  ...        0.0        0.0        0.0   \n",
       "4 -0.054358 -0.123351 -0.110421  ...        0.0        0.0        0.0   \n",
       "\n",
       "   state_REQ  state_RST  state_TST  state_TXD  state_URH  state_URN  state_no  \n",
       "0        0.0        0.0        0.0        0.0        0.0        0.0       0.0  \n",
       "1        0.0        0.0        0.0        0.0        0.0        0.0       0.0  \n",
       "2        0.0        0.0        0.0        0.0        0.0        0.0       0.0  \n",
       "3        0.0        0.0        0.0        0.0        0.0        0.0       0.0  \n",
       "4        0.0        0.0        0.0        0.0        0.0        0.0       0.0  \n",
       "\n",
       "[5 rows x 197 columns]"
      ]
     },
     "execution_count": 55,
     "metadata": {},
     "output_type": "execute_result"
    }
   ],
   "source": [
    "x_train.head()"
   ]
  },
  {
   "cell_type": "code",
   "execution_count": null,
   "metadata": {
    "id": "s4fYeXU_vLCq"
   },
   "outputs": [],
   "source": [
    "file_path = '/content/drive/MyDrive/Advanced _Threat_Detection/UNSW-NB15/CSV_Files/feature_engineering/'\n"
   ]
  },
  {
   "cell_type": "code",
   "execution_count": null,
   "metadata": {
    "colab": {
     "base_uri": "https://localhost:8080/",
     "height": 255
    },
    "id": "AGq60NOHlpIT",
    "outputId": "8ae4de11-4256-4e01-daea-7a41c3675831"
   },
   "outputs": [
    {
     "data": {
      "application/vnd.google.colaboratory.intrinsic+json": {
       "type": "dataframe",
       "variable_name": "x_train"
      },
      "text/html": [
       "\n",
       "  <div id=\"df-cec12920-bf29-47b2-92cf-a9ae25f6e08a\" class=\"colab-df-container\">\n",
       "    <div>\n",
       "<style scoped>\n",
       "    .dataframe tbody tr th:only-of-type {\n",
       "        vertical-align: middle;\n",
       "    }\n",
       "\n",
       "    .dataframe tbody tr th {\n",
       "        vertical-align: top;\n",
       "    }\n",
       "\n",
       "    .dataframe thead th {\n",
       "        text-align: right;\n",
       "    }\n",
       "</style>\n",
       "<table border=\"1\" class=\"dataframe\">\n",
       "  <thead>\n",
       "    <tr style=\"text-align: right;\">\n",
       "      <th></th>\n",
       "      <th>sttl</th>\n",
       "      <th>dttl</th>\n",
       "      <th>swin</th>\n",
       "      <th>trans_depth</th>\n",
       "      <th>res_bdy_len</th>\n",
       "      <th>stime</th>\n",
       "      <th>sintpkt</th>\n",
       "      <th>dintpkt</th>\n",
       "      <th>tcprtt</th>\n",
       "      <th>synack</th>\n",
       "      <th>...</th>\n",
       "      <th>state_INT</th>\n",
       "      <th>state_MAS</th>\n",
       "      <th>state_PAR</th>\n",
       "      <th>state_REQ</th>\n",
       "      <th>state_RST</th>\n",
       "      <th>state_TST</th>\n",
       "      <th>state_TXD</th>\n",
       "      <th>state_URH</th>\n",
       "      <th>state_URN</th>\n",
       "      <th>state_no</th>\n",
       "    </tr>\n",
       "  </thead>\n",
       "  <tbody>\n",
       "    <tr>\n",
       "      <th>0</th>\n",
       "      <td>2.561444</td>\n",
       "      <td>-0.717760</td>\n",
       "      <td>-1.196045</td>\n",
       "      <td>-0.225343</td>\n",
       "      <td>-0.089113</td>\n",
       "      <td>-1.172764</td>\n",
       "      <td>-0.057567</td>\n",
       "      <td>-0.055099</td>\n",
       "      <td>-0.136439</td>\n",
       "      <td>-0.128893</td>\n",
       "      <td>...</td>\n",
       "      <td>1.0</td>\n",
       "      <td>0.0</td>\n",
       "      <td>0.0</td>\n",
       "      <td>0.0</td>\n",
       "      <td>0.0</td>\n",
       "      <td>0.0</td>\n",
       "      <td>0.0</td>\n",
       "      <td>0.0</td>\n",
       "      <td>0.0</td>\n",
       "      <td>0.0</td>\n",
       "    </tr>\n",
       "    <tr>\n",
       "      <th>1</th>\n",
       "      <td>-0.037542</td>\n",
       "      <td>-0.717760</td>\n",
       "      <td>-1.196045</td>\n",
       "      <td>-0.225343</td>\n",
       "      <td>-0.089113</td>\n",
       "      <td>0.868469</td>\n",
       "      <td>-0.069616</td>\n",
       "      <td>-0.055099</td>\n",
       "      <td>-0.136439</td>\n",
       "      <td>-0.128893</td>\n",
       "      <td>...</td>\n",
       "      <td>1.0</td>\n",
       "      <td>0.0</td>\n",
       "      <td>0.0</td>\n",
       "      <td>0.0</td>\n",
       "      <td>0.0</td>\n",
       "      <td>0.0</td>\n",
       "      <td>0.0</td>\n",
       "      <td>0.0</td>\n",
       "      <td>0.0</td>\n",
       "      <td>0.0</td>\n",
       "    </tr>\n",
       "    <tr>\n",
       "      <th>2</th>\n",
       "      <td>-0.426051</td>\n",
       "      <td>-0.041365</td>\n",
       "      <td>0.836096</td>\n",
       "      <td>-0.225343</td>\n",
       "      <td>-0.089113</td>\n",
       "      <td>-1.157401</td>\n",
       "      <td>-0.069485</td>\n",
       "      <td>-0.054857</td>\n",
       "      <td>-0.121383</td>\n",
       "      <td>-0.107394</td>\n",
       "      <td>...</td>\n",
       "      <td>0.0</td>\n",
       "      <td>0.0</td>\n",
       "      <td>0.0</td>\n",
       "      <td>0.0</td>\n",
       "      <td>0.0</td>\n",
       "      <td>0.0</td>\n",
       "      <td>0.0</td>\n",
       "      <td>0.0</td>\n",
       "      <td>0.0</td>\n",
       "      <td>0.0</td>\n",
       "    </tr>\n",
       "    <tr>\n",
       "      <th>3</th>\n",
       "      <td>-0.426051</td>\n",
       "      <td>-0.041365</td>\n",
       "      <td>0.836096</td>\n",
       "      <td>-0.225343</td>\n",
       "      <td>-0.089113</td>\n",
       "      <td>-1.136357</td>\n",
       "      <td>-0.063807</td>\n",
       "      <td>-0.044512</td>\n",
       "      <td>-0.120830</td>\n",
       "      <td>-0.107159</td>\n",
       "      <td>...</td>\n",
       "      <td>0.0</td>\n",
       "      <td>0.0</td>\n",
       "      <td>0.0</td>\n",
       "      <td>0.0</td>\n",
       "      <td>0.0</td>\n",
       "      <td>0.0</td>\n",
       "      <td>0.0</td>\n",
       "      <td>0.0</td>\n",
       "      <td>0.0</td>\n",
       "      <td>0.0</td>\n",
       "    </tr>\n",
       "    <tr>\n",
       "      <th>4</th>\n",
       "      <td>-0.426051</td>\n",
       "      <td>-0.041365</td>\n",
       "      <td>0.836096</td>\n",
       "      <td>-0.225343</td>\n",
       "      <td>-0.089113</td>\n",
       "      <td>-1.144197</td>\n",
       "      <td>-0.069180</td>\n",
       "      <td>-0.054358</td>\n",
       "      <td>-0.123351</td>\n",
       "      <td>-0.110421</td>\n",
       "      <td>...</td>\n",
       "      <td>0.0</td>\n",
       "      <td>0.0</td>\n",
       "      <td>0.0</td>\n",
       "      <td>0.0</td>\n",
       "      <td>0.0</td>\n",
       "      <td>0.0</td>\n",
       "      <td>0.0</td>\n",
       "      <td>0.0</td>\n",
       "      <td>0.0</td>\n",
       "      <td>0.0</td>\n",
       "    </tr>\n",
       "  </tbody>\n",
       "</table>\n",
       "<p>5 rows × 197 columns</p>\n",
       "</div>\n",
       "    <div class=\"colab-df-buttons\">\n",
       "\n",
       "  <div class=\"colab-df-container\">\n",
       "    <button class=\"colab-df-convert\" onclick=\"convertToInteractive('df-cec12920-bf29-47b2-92cf-a9ae25f6e08a')\"\n",
       "            title=\"Convert this dataframe to an interactive table.\"\n",
       "            style=\"display:none;\">\n",
       "\n",
       "  <svg xmlns=\"http://www.w3.org/2000/svg\" height=\"24px\" viewBox=\"0 -960 960 960\">\n",
       "    <path d=\"M120-120v-720h720v720H120Zm60-500h600v-160H180v160Zm220 220h160v-160H400v160Zm0 220h160v-160H400v160ZM180-400h160v-160H180v160Zm440 0h160v-160H620v160ZM180-180h160v-160H180v160Zm440 0h160v-160H620v160Z\"/>\n",
       "  </svg>\n",
       "    </button>\n",
       "\n",
       "  <style>\n",
       "    .colab-df-container {\n",
       "      display:flex;\n",
       "      gap: 12px;\n",
       "    }\n",
       "\n",
       "    .colab-df-convert {\n",
       "      background-color: #E8F0FE;\n",
       "      border: none;\n",
       "      border-radius: 50%;\n",
       "      cursor: pointer;\n",
       "      display: none;\n",
       "      fill: #1967D2;\n",
       "      height: 32px;\n",
       "      padding: 0 0 0 0;\n",
       "      width: 32px;\n",
       "    }\n",
       "\n",
       "    .colab-df-convert:hover {\n",
       "      background-color: #E2EBFA;\n",
       "      box-shadow: 0px 1px 2px rgba(60, 64, 67, 0.3), 0px 1px 3px 1px rgba(60, 64, 67, 0.15);\n",
       "      fill: #174EA6;\n",
       "    }\n",
       "\n",
       "    .colab-df-buttons div {\n",
       "      margin-bottom: 4px;\n",
       "    }\n",
       "\n",
       "    [theme=dark] .colab-df-convert {\n",
       "      background-color: #3B4455;\n",
       "      fill: #D2E3FC;\n",
       "    }\n",
       "\n",
       "    [theme=dark] .colab-df-convert:hover {\n",
       "      background-color: #434B5C;\n",
       "      box-shadow: 0px 1px 3px 1px rgba(0, 0, 0, 0.15);\n",
       "      filter: drop-shadow(0px 1px 2px rgba(0, 0, 0, 0.3));\n",
       "      fill: #FFFFFF;\n",
       "    }\n",
       "  </style>\n",
       "\n",
       "    <script>\n",
       "      const buttonEl =\n",
       "        document.querySelector('#df-cec12920-bf29-47b2-92cf-a9ae25f6e08a button.colab-df-convert');\n",
       "      buttonEl.style.display =\n",
       "        google.colab.kernel.accessAllowed ? 'block' : 'none';\n",
       "\n",
       "      async function convertToInteractive(key) {\n",
       "        const element = document.querySelector('#df-cec12920-bf29-47b2-92cf-a9ae25f6e08a');\n",
       "        const dataTable =\n",
       "          await google.colab.kernel.invokeFunction('convertToInteractive',\n",
       "                                                    [key], {});\n",
       "        if (!dataTable) return;\n",
       "\n",
       "        const docLinkHtml = 'Like what you see? Visit the ' +\n",
       "          '<a target=\"_blank\" href=https://colab.research.google.com/notebooks/data_table.ipynb>data table notebook</a>'\n",
       "          + ' to learn more about interactive tables.';\n",
       "        element.innerHTML = '';\n",
       "        dataTable['output_type'] = 'display_data';\n",
       "        await google.colab.output.renderOutput(dataTable, element);\n",
       "        const docLink = document.createElement('div');\n",
       "        docLink.innerHTML = docLinkHtml;\n",
       "        element.appendChild(docLink);\n",
       "      }\n",
       "    </script>\n",
       "  </div>\n",
       "\n",
       "\n",
       "<div id=\"df-90720bb4-4d74-4252-96bb-84671ddca879\">\n",
       "  <button class=\"colab-df-quickchart\" onclick=\"quickchart('df-90720bb4-4d74-4252-96bb-84671ddca879')\"\n",
       "            title=\"Suggest charts\"\n",
       "            style=\"display:none;\">\n",
       "\n",
       "<svg xmlns=\"http://www.w3.org/2000/svg\" height=\"24px\"viewBox=\"0 0 24 24\"\n",
       "     width=\"24px\">\n",
       "    <g>\n",
       "        <path d=\"M19 3H5c-1.1 0-2 .9-2 2v14c0 1.1.9 2 2 2h14c1.1 0 2-.9 2-2V5c0-1.1-.9-2-2-2zM9 17H7v-7h2v7zm4 0h-2V7h2v10zm4 0h-2v-4h2v4z\"/>\n",
       "    </g>\n",
       "</svg>\n",
       "  </button>\n",
       "\n",
       "<style>\n",
       "  .colab-df-quickchart {\n",
       "      --bg-color: #E8F0FE;\n",
       "      --fill-color: #1967D2;\n",
       "      --hover-bg-color: #E2EBFA;\n",
       "      --hover-fill-color: #174EA6;\n",
       "      --disabled-fill-color: #AAA;\n",
       "      --disabled-bg-color: #DDD;\n",
       "  }\n",
       "\n",
       "  [theme=dark] .colab-df-quickchart {\n",
       "      --bg-color: #3B4455;\n",
       "      --fill-color: #D2E3FC;\n",
       "      --hover-bg-color: #434B5C;\n",
       "      --hover-fill-color: #FFFFFF;\n",
       "      --disabled-bg-color: #3B4455;\n",
       "      --disabled-fill-color: #666;\n",
       "  }\n",
       "\n",
       "  .colab-df-quickchart {\n",
       "    background-color: var(--bg-color);\n",
       "    border: none;\n",
       "    border-radius: 50%;\n",
       "    cursor: pointer;\n",
       "    display: none;\n",
       "    fill: var(--fill-color);\n",
       "    height: 32px;\n",
       "    padding: 0;\n",
       "    width: 32px;\n",
       "  }\n",
       "\n",
       "  .colab-df-quickchart:hover {\n",
       "    background-color: var(--hover-bg-color);\n",
       "    box-shadow: 0 1px 2px rgba(60, 64, 67, 0.3), 0 1px 3px 1px rgba(60, 64, 67, 0.15);\n",
       "    fill: var(--button-hover-fill-color);\n",
       "  }\n",
       "\n",
       "  .colab-df-quickchart-complete:disabled,\n",
       "  .colab-df-quickchart-complete:disabled:hover {\n",
       "    background-color: var(--disabled-bg-color);\n",
       "    fill: var(--disabled-fill-color);\n",
       "    box-shadow: none;\n",
       "  }\n",
       "\n",
       "  .colab-df-spinner {\n",
       "    border: 2px solid var(--fill-color);\n",
       "    border-color: transparent;\n",
       "    border-bottom-color: var(--fill-color);\n",
       "    animation:\n",
       "      spin 1s steps(1) infinite;\n",
       "  }\n",
       "\n",
       "  @keyframes spin {\n",
       "    0% {\n",
       "      border-color: transparent;\n",
       "      border-bottom-color: var(--fill-color);\n",
       "      border-left-color: var(--fill-color);\n",
       "    }\n",
       "    20% {\n",
       "      border-color: transparent;\n",
       "      border-left-color: var(--fill-color);\n",
       "      border-top-color: var(--fill-color);\n",
       "    }\n",
       "    30% {\n",
       "      border-color: transparent;\n",
       "      border-left-color: var(--fill-color);\n",
       "      border-top-color: var(--fill-color);\n",
       "      border-right-color: var(--fill-color);\n",
       "    }\n",
       "    40% {\n",
       "      border-color: transparent;\n",
       "      border-right-color: var(--fill-color);\n",
       "      border-top-color: var(--fill-color);\n",
       "    }\n",
       "    60% {\n",
       "      border-color: transparent;\n",
       "      border-right-color: var(--fill-color);\n",
       "    }\n",
       "    80% {\n",
       "      border-color: transparent;\n",
       "      border-right-color: var(--fill-color);\n",
       "      border-bottom-color: var(--fill-color);\n",
       "    }\n",
       "    90% {\n",
       "      border-color: transparent;\n",
       "      border-bottom-color: var(--fill-color);\n",
       "    }\n",
       "  }\n",
       "</style>\n",
       "\n",
       "  <script>\n",
       "    async function quickchart(key) {\n",
       "      const quickchartButtonEl =\n",
       "        document.querySelector('#' + key + ' button');\n",
       "      quickchartButtonEl.disabled = true;  // To prevent multiple clicks.\n",
       "      quickchartButtonEl.classList.add('colab-df-spinner');\n",
       "      try {\n",
       "        const charts = await google.colab.kernel.invokeFunction(\n",
       "            'suggestCharts', [key], {});\n",
       "      } catch (error) {\n",
       "        console.error('Error during call to suggestCharts:', error);\n",
       "      }\n",
       "      quickchartButtonEl.classList.remove('colab-df-spinner');\n",
       "      quickchartButtonEl.classList.add('colab-df-quickchart-complete');\n",
       "    }\n",
       "    (() => {\n",
       "      let quickchartButtonEl =\n",
       "        document.querySelector('#df-90720bb4-4d74-4252-96bb-84671ddca879 button');\n",
       "      quickchartButtonEl.style.display =\n",
       "        google.colab.kernel.accessAllowed ? 'block' : 'none';\n",
       "    })();\n",
       "  </script>\n",
       "</div>\n",
       "\n",
       "    </div>\n",
       "  </div>\n"
      ],
      "text/plain": [
       "       sttl      dttl      swin  trans_depth  res_bdy_len     stime   sintpkt  \\\n",
       "0  2.561444 -0.717760 -1.196045    -0.225343    -0.089113 -1.172764 -0.057567   \n",
       "1 -0.037542 -0.717760 -1.196045    -0.225343    -0.089113  0.868469 -0.069616   \n",
       "2 -0.426051 -0.041365  0.836096    -0.225343    -0.089113 -1.157401 -0.069485   \n",
       "3 -0.426051 -0.041365  0.836096    -0.225343    -0.089113 -1.136357 -0.063807   \n",
       "4 -0.426051 -0.041365  0.836096    -0.225343    -0.089113 -1.144197 -0.069180   \n",
       "\n",
       "    dintpkt    tcprtt    synack  ...  state_INT  state_MAS  state_PAR  \\\n",
       "0 -0.055099 -0.136439 -0.128893  ...        1.0        0.0        0.0   \n",
       "1 -0.055099 -0.136439 -0.128893  ...        1.0        0.0        0.0   \n",
       "2 -0.054857 -0.121383 -0.107394  ...        0.0        0.0        0.0   \n",
       "3 -0.044512 -0.120830 -0.107159  ...        0.0        0.0        0.0   \n",
       "4 -0.054358 -0.123351 -0.110421  ...        0.0        0.0        0.0   \n",
       "\n",
       "   state_REQ  state_RST  state_TST  state_TXD  state_URH  state_URN  state_no  \n",
       "0        0.0        0.0        0.0        0.0        0.0        0.0       0.0  \n",
       "1        0.0        0.0        0.0        0.0        0.0        0.0       0.0  \n",
       "2        0.0        0.0        0.0        0.0        0.0        0.0       0.0  \n",
       "3        0.0        0.0        0.0        0.0        0.0        0.0       0.0  \n",
       "4        0.0        0.0        0.0        0.0        0.0        0.0       0.0  \n",
       "\n",
       "[5 rows x 197 columns]"
      ]
     },
     "execution_count": 57,
     "metadata": {},
     "output_type": "execute_result"
    }
   ],
   "source": [
    "x_train.head()"
   ]
  },
  {
   "cell_type": "code",
   "execution_count": null,
   "metadata": {
    "id": "SLGZDSMJ5S8m"
   },
   "outputs": [],
   "source": [
    "file_path = '/content/drive/MyDrive/Advanced _Threat_Detection/UNSW-NB15/CSV_Files/Training_and_Testing_Sets/'\n"
   ]
  },
  {
   "cell_type": "code",
   "execution_count": null,
   "metadata": {
    "id": "qO-aCX5OlpLx"
   },
   "outputs": [],
   "source": [
    "pickle.dump(scaler, open(file_path+'scaler.pkl', 'wb'))  # Standard scaler\n",
    "pickle.dump(saved_dict, open(file_path+'saved_dict.pkl', 'wb'))  # Dictionary with important parameters\n",
    "pickle.dump(mode_dict, open(file_path+'mode_dict.pkl', 'wb'))  #\n",
    "\n",
    "# Onehot encoder for categorical columns\n",
    "pickle.dump(ohe_proto, open(file_path+'ohe_proto.pkl', 'wb'))\n",
    "pickle.dump(ohe_service, open(file_path+'ohe_service.pkl', 'wb'))\n",
    "pickle.dump(ohe_state, open(file_path+'ohe_state.pkl', 'wb'))\n",
    "\n",
    "# Cleaned and processed train data\n",
    "pickle.dump((x_train, y_train), open(file_path+'final_train.pkl', 'wb'))"
   ]
  },
  {
   "cell_type": "code",
   "execution_count": null,
   "metadata": {
    "id": "GqgFCb4Wjr0f"
   },
   "outputs": [],
   "source": []
  },
  {
   "cell_type": "markdown",
   "metadata": {
    "id": "pYMWC4qYwzge"
   },
   "source": [
    "## **Creating Pipeline Function for Parameters**"
   ]
  },
  {
   "cell_type": "markdown",
   "metadata": {
    "id": "u3ie7M0svSTU"
   },
   "source": [
    "### **1. `clean_data(data)`**\n",
    "#### Purpose:\n",
    "- Cleans and standardizes raw input data by:\n",
    "  - Handling missing (`NaN`) and invalid values (e.g., spaces, dashes).\n",
    "  - Fixing column datatypes (e.g., converting columns to floats where required).\n",
    "  - Ensuring binary columns (values 0 and 1) are correctly fixed if they contain erroneous values.\n",
    "\n",
    "#### Justification:\n",
    "- Raw datasets often have incomplete or incorrect data due to system errors or human input mistakes.\n",
    "- Cleaning ensures that the model receives consistent and error-free data, preventing issues during training or inference.\n",
    "\n",
    "Key operations:\n",
    "- **Filling missing values**: Replaces missing/invalid values with the mode (most frequent value).\n",
    "- **Standardizing binary columns**: Ensures binary columns remain within [0, 1] values.\n",
    "- **Converting dtypes**: Fixes datatype mismatches to align with downstream processing.\n",
    "\n",
    "---\n",
    "\n",
    "### **2. `apply_log1p(data)`**\n",
    "#### Purpose:\n",
    "- Applies the natural logarithm transformation (`log1p`) to certain columns for normalization and scaling purposes.\n",
    "\n",
    "#### Justification:\n",
    "- In datasets where numerical features have skewed distributions, applying `log1p` (logarithm of 1 + value) reduces skewness and brings values closer to a Gaussian (normal) distribution, improving model performance.\n",
    "\n",
    "**Key operations:**\n",
    "- Handles invalid or negative values (logarithms are undefined for these) to ensure smooth execution.\n",
    "- Creates new transformed columns (e.g., `feature_log1p`) and drops the original ones for simplicity.\n",
    "\n",
    "---\n",
    "\n",
    "### **3. `standardize(data)`**\n",
    "#### Purpose:\n",
    "- Standardizes numerical features using a pre-trained `StandardScaler`.\n",
    "\n",
    "#### Justification:\n",
    "- Standardization transforms numerical features to have a mean of 0 and standard deviation of 1, which is essential for many machine learning algorithms (e.g., linear regression, SVMs, neural networks).\n",
    "- Ensures consistent scaling across features, avoiding bias in optimization algorithms due to differences in feature magnitudes.\n",
    "\n",
    "**Key operations:**\n",
    "- Replaces non-numeric entries with `NaN` and imputes missing values with the column mean.\n",
    "- Applies the `scaler.transform` to ensure consistency between train and test data.\n",
    "\n",
    "---\n",
    "\n",
    "### **4. `ohencoding(data)`**\n",
    "#### Purpose:\n",
    "- One-hot encodes categorical columns (`proto`, `service`, `state`) using pre-trained encoders.\n",
    "\n",
    "#### Justification:\n",
    "- Machine learning algorithms require numeric inputs; categorical features need to be converted into a numeric format.\n",
    "- One-hot encoding represents categories as binary columns, allowing models to differentiate them without imposing ordinal relationships.\n",
    "\n",
    "**Key operations:**\n",
    "- Uses pre-trained `OneHotEncoder` instances to ensure consistent mapping across training and test datasets.\n",
    "- Drops the original categorical columns after encoding.\n"
   ]
  },
  {
   "cell_type": "code",
   "execution_count": null,
   "metadata": {
    "id": "lfkGJudO4Aec"
   },
   "outputs": [],
   "source": [
    "def clean_data(data):\n",
    "    '''\n",
    "    Cleans given raw data. Performs various cleaning, removes Null and wrong values.\n",
    "    Check for columns datatype and fix them.\n",
    "    '''\n",
    "    numerical_col = data.select_dtypes(include=np.number).columns  # All the numerical columns list\n",
    "    categorical_col = data.select_dtypes(exclude=np.number).columns  # All the categorical columns list\n",
    "\n",
    "    # Cleaning the data\n",
    "    for col in data.columns:\n",
    "        val = mode_dict[col]  # Mode value of the column in train data\n",
    "        data[col] = data[col].fillna(value=val)\n",
    "        data[col] = data[col].replace(' ', value=val)\n",
    "        data[col] = data[col].apply(lambda x:\"None\" if x==\"-\" else x)\n",
    "\n",
    "        # Fixing binary columns\n",
    "        if col in saved_dict['binary_col']:\n",
    "            data[col] = np.where(data[col]>1, val, data[col])\n",
    "\n",
    "    # Fixing datatype of columns\n",
    "    bad_dtypes = list(set(categorical_col) - set(saved_dict['category_col']))\n",
    "    for bad_col in bad_dtypes:\n",
    "        data[col] = data[col].astype(float)\n",
    "\n",
    "    return data\n",
    "\n",
    "def apply_log1p(data):\n",
    "\n",
    "  for col in saved_dict['log1p_col']:\n",
    "    new_col = col + '_log1p'\n",
    "    # Handle potential invalid values before applying log1p\n",
    "    data[new_col] = data[col].apply(lambda x: np.log1p(x) if pd.to_numeric(x, errors='coerce') > 0 else np.nan)\n",
    "    data.drop(col, axis=1, inplace=True)\n",
    "\n",
    "  return data\n",
    "\n",
    "def standardize(data):\n",
    "  \"\"\"\n",
    "  Using pretrianed StandardScaler and cleans non-numeric entries before applying this\n",
    "  \"\"\"\n",
    "  for col in saved_dict['numeric_col']:\n",
    "    if col in data.columns:\n",
    "      data[col] = data[col].replace(' ', np.nan)\n",
    "      data[col] = pd.to_numeric(data[col], errors='coerce')\n",
    "      data[col] = data[col].fillna(data[col].mean())\n",
    "\n",
    "  data[saved_dict['numeric_col']] = scaler.transform(data[saved_dict['numeric_col']])\n",
    "  return data\n",
    "\n",
    "def ohencoding(data):\n",
    "\n",
    "  \"\"\"\n",
    "  This will encode categorical columns and updates the dataset by removing the original columns.\n",
    "  Assumes encoders are trained on training data\n",
    "  \"\"\"\n",
    "\n",
    "  # Apply encoders\n",
    "  X_proto = ohe_proto.transform(data[['proto']])\n",
    "  X_service = ohe_service.transform(data[['service']])\n",
    "  X_state = ohe_state.transform(data[['state']])\n",
    "\n",
    "  data = pd.concat([\n",
    "      data,\n",
    "      pd.DataFrame(X_proto, columns=[f\"proto_{cat}\" for cat in ohe_proto.categories_[0]]),\n",
    "      pd.DataFrame(X_service, columns=[f\"service_{cat}\" for cat in ohe_service.categories_[0]]),\n",
    "      pd.DataFrame(X_state, columns=[f\"state_{cat}\" for cat in ohe_state.categories_[0]])\n",
    "    ], axis=1)\n",
    "\n",
    "\n",
    "  data.drop(['proto', 'service', 'state'], axis=1, inplace=True)\n",
    "\n",
    "  return data\n",
    "\n"
   ]
  },
  {
   "cell_type": "markdown",
   "metadata": {
    "id": "_dHoJ_TGsW3k"
   },
   "source": [
    "## **Savings The Pickle Files After Feature Engineering**"
   ]
  },
  {
   "cell_type": "code",
   "execution_count": null,
   "metadata": {
    "id": "inPhS2wV2UYS"
   },
   "outputs": [],
   "source": [
    "file_path = '/content/drive/MyDrive/Advanced _Threat_Detection/UNSW-NB15/CSV_Files/Training_and_Testing_Sets/'\n"
   ]
  },
  {
   "cell_type": "code",
   "execution_count": null,
   "metadata": {
    "id": "ZIRrczjH5BTx"
   },
   "outputs": [],
   "source": [
    "# Parametrs\n",
    "saved_dict = pickle.load(open(file_path+'saved_dict.pkl', 'rb'))\n",
    "mode_dict = pickle.load(open(file_path+'mode_dict.pkl', 'rb'))\n",
    "scaler = pickle.load(open(file_path+'scaler.pkl', 'rb'))"
   ]
  },
  {
   "cell_type": "code",
   "execution_count": null,
   "metadata": {
    "id": "D_h35fpcw3nA"
   },
   "outputs": [],
   "source": [
    "ohe_proto = pickle.load(open(file_path+'ohe_proto.pkl', 'rb'))\n",
    "ohe_service = pickle.load(open(file_path+'ohe_service.pkl', 'rb'))\n",
    "ohe_state = pickle.load(open(file_path+'ohe_state.pkl', 'rb'))"
   ]
  },
  {
   "cell_type": "code",
   "execution_count": null,
   "metadata": {
    "colab": {
     "base_uri": "https://localhost:8080/"
    },
    "id": "b1yP1DYJw6QB",
    "outputId": "823da720-b49c-4099-b361-040708685161"
   },
   "outputs": [
    {
     "data": {
      "text/plain": [
       "(762015, 48)"
      ]
     },
     "execution_count": 64,
     "metadata": {},
     "output_type": "execute_result"
    }
   ],
   "source": [
    "x_test.shape"
   ]
  },
  {
   "cell_type": "code",
   "execution_count": null,
   "metadata": {
    "id": "onGQnlsuw_rL"
   },
   "outputs": [],
   "source": [
    "x_test.reset_index(drop=True, inplace=True)"
   ]
  },
  {
   "cell_type": "code",
   "execution_count": null,
   "metadata": {
    "colab": {
     "base_uri": "https://localhost:8080/"
    },
    "id": "blP6isP9xBm-",
    "outputId": "c51e35aa-c0ae-4502-eb51-2e021b33738e"
   },
   "outputs": [
    {
     "data": {
      "text/plain": [
       "Index(['srcip', 'sport', 'dstip', 'dsport', 'proto', 'state', 'dur', 'sbytes',\n",
       "       'dbytes', 'sttl', 'dttl', 'sloss', 'dloss', 'service', 'sload', 'dload',\n",
       "       'spkts', 'dpkts', 'swin', 'dwin', 'stcpb', 'dtcpb', 'smeansz',\n",
       "       'dmeansz', 'trans_depth', 'res_bdy_len', 'sjit', 'djit', 'stime',\n",
       "       'ltime', 'sintpkt', 'dintpkt', 'tcprtt', 'synack', 'ackdat',\n",
       "       'is_sm_ips_ports', 'ct_state_ttl', 'ct_flw_http_mthd', 'is_ftp_login',\n",
       "       'ct_ftp_cmd', 'ct_srv_src', 'ct_srv_dst', 'ct_dst_ltm', 'ct_src_ltm',\n",
       "       'ct_src_dport_ltm', 'ct_dst_sport_ltm', 'ct_dst_src_ltm', 'attack_cat'],\n",
       "      dtype='object')"
      ]
     },
     "execution_count": 66,
     "metadata": {},
     "output_type": "execute_result"
    }
   ],
   "source": [
    "x_test.columns"
   ]
  },
  {
   "cell_type": "code",
   "execution_count": null,
   "metadata": {
    "id": "SEjUSNXg3ZRV"
   },
   "outputs": [],
   "source": [
    "saved_dict['columns'] = x_test.columns.tolist()"
   ]
  },
  {
   "cell_type": "code",
   "execution_count": null,
   "metadata": {
    "colab": {
     "base_uri": "https://localhost:8080/"
    },
    "id": "ol8LBPW4xDV3",
    "outputId": "931e1419-c3db-4ac6-badd-e6e45c99a47d"
   },
   "outputs": [
    {
     "data": {
      "text/plain": [
       "['srcip',\n",
       " 'sport',\n",
       " 'dstip',\n",
       " 'dsport',\n",
       " 'proto',\n",
       " 'state',\n",
       " 'dur',\n",
       " 'sbytes',\n",
       " 'dbytes',\n",
       " 'sttl',\n",
       " 'dttl',\n",
       " 'sloss',\n",
       " 'dloss',\n",
       " 'service',\n",
       " 'sload',\n",
       " 'dload',\n",
       " 'spkts',\n",
       " 'dpkts',\n",
       " 'swin',\n",
       " 'dwin',\n",
       " 'stcpb',\n",
       " 'dtcpb',\n",
       " 'smeansz',\n",
       " 'dmeansz',\n",
       " 'trans_depth',\n",
       " 'res_bdy_len',\n",
       " 'sjit',\n",
       " 'djit',\n",
       " 'stime',\n",
       " 'ltime',\n",
       " 'sintpkt',\n",
       " 'dintpkt',\n",
       " 'tcprtt',\n",
       " 'synack',\n",
       " 'ackdat',\n",
       " 'is_sm_ips_ports',\n",
       " 'ct_state_ttl',\n",
       " 'ct_flw_http_mthd',\n",
       " 'is_ftp_login',\n",
       " 'ct_ftp_cmd',\n",
       " 'ct_srv_src',\n",
       " 'ct_srv_dst',\n",
       " 'ct_dst_ltm',\n",
       " 'ct_src_ltm',\n",
       " 'ct_src_dport_ltm',\n",
       " 'ct_dst_sport_ltm',\n",
       " 'ct_dst_src_ltm',\n",
       " 'attack_cat']"
      ]
     },
     "execution_count": 68,
     "metadata": {},
     "output_type": "execute_result"
    }
   ],
   "source": [
    "saved_dict['columns']"
   ]
  },
  {
   "cell_type": "markdown",
   "metadata": {
    "id": "kCBN6Vh036AT"
   },
   "source": [
    "## **Creating New Feature: Network Bytes**"
   ]
  },
  {
   "cell_type": "markdown",
   "metadata": {
    "id": "WEtkwwbNubZV"
   },
   "source": [
    "In cybersecurity, Network Bytes (including `source bytes` and `destination` bytes) are crucial for several reasons:\n",
    "\n",
    "**Traffic Analysis:** By examining the bytes transferred between a source and destination, analysts can identify patterns of normal and abnormal traffic. This helps in detecting potential security threats or anomalies.\n",
    "\n",
    "**Intrusion Detection:** `Network Intrusion Detection Systems` (NIDS) use metrics like source bytes and destination bytes to identify suspicious activities. For example, an unusually high amount of data being sent to an unknown destination might indicate a data exfiltration attempt.\n",
    "\n",
    "**Performance Monitoring:** Monitoring network bytes helps in assessing the performance and health of the network. It can reveal issues like network congestion or bottlenecks, which might affect overall system performance.\n",
    "\n",
    "**Forensic Analysis:** In the event of a security breach, analyzing network bytes can help forensic investigators trace the source and extent of the attack, providing valuable insights into how the breach occurred and what data might have been compromised."
   ]
  },
  {
   "cell_type": "code",
   "execution_count": null,
   "metadata": {
    "id": "EKXizsg2xEvK"
   },
   "outputs": [],
   "source": [
    "x_test['network_bytes'] = x_test['dbytes'] + x_test['sbytes']"
   ]
  },
  {
   "cell_type": "code",
   "execution_count": null,
   "metadata": {
    "id": "UB60LLnbxGza"
   },
   "outputs": [],
   "source": [
    "dropable_col = [col for col in (saved_dict['to_drop'] + saved_dict['corr_col']) if col in x_test.columns]\n",
    "x_test.drop(columns=dropable_col, inplace=True)"
   ]
  },
  {
   "cell_type": "code",
   "execution_count": null,
   "metadata": {
    "colab": {
     "base_uri": "https://localhost:8080/"
    },
    "id": "EM87l6NuxIz1",
    "outputId": "f8b3c139-f90a-45c1-a5af-657700afc5da"
   },
   "outputs": [
    {
     "data": {
      "text/plain": [
       "(762015, 36)"
      ]
     },
     "execution_count": 71,
     "metadata": {},
     "output_type": "execute_result"
    }
   ],
   "source": [
    "x_test.shape"
   ]
  },
  {
   "cell_type": "code",
   "execution_count": null,
   "metadata": {
    "id": "HRrB-ZyExKqC"
   },
   "outputs": [],
   "source": [
    "# Identify binary columns in the training data\n",
    "binary_columns = [col for col in x_test.columns if x_test[col].nunique() == 2]\n",
    "saved_dict['binary_col'] = binary_columns"
   ]
  },
  {
   "cell_type": "code",
   "execution_count": null,
   "metadata": {
    "id": "9aigf4FXx06S"
   },
   "outputs": [],
   "source": [
    "# Cleaning data using clean_data()\n",
    "x_test = clean_data(x_test)\n",
    "\n",
    "# FE: applying log1p using apply_log1p()\n",
    "x_test = apply_log1p(x_test)"
   ]
  },
  {
   "cell_type": "code",
   "execution_count": null,
   "metadata": {
    "colab": {
     "base_uri": "https://localhost:8080/"
    },
    "id": "C_Lt7vQq6a2b",
    "outputId": "5caf1b86-bf73-4f4d-8564-8d8e728e4aff"
   },
   "outputs": [
    {
     "data": {
      "text/plain": [
       "(762015, 36)"
      ]
     },
     "execution_count": 74,
     "metadata": {},
     "output_type": "execute_result"
    }
   ],
   "source": [
    "x_test.shape"
   ]
  },
  {
   "cell_type": "code",
   "execution_count": null,
   "metadata": {
    "colab": {
     "base_uri": "https://localhost:8080/"
    },
    "id": "BUyHG03A6a4l",
    "outputId": "5dd9c6ae-aced-4018-c768-244940f74a65"
   },
   "outputs": [
    {
     "data": {
      "text/plain": [
       "Index(['proto', 'state', 'sttl', 'dttl', 'service', 'swin', 'trans_depth',\n",
       "       'res_bdy_len', 'stime', 'sintpkt', 'dintpkt', 'tcprtt', 'synack',\n",
       "       'ackdat', 'is_sm_ips_ports', 'ct_state_ttl', 'ct_flw_http_mthd',\n",
       "       'is_ftp_login', 'ct_ftp_cmd', 'ct_srv_src', 'ct_dst_ltm', 'ct_src_ltm',\n",
       "       'ct_dst_sport_ltm', 'dur_log1p', 'sbytes_log1p', 'dbytes_log1p',\n",
       "       'sload_log1p', 'dload_log1p', 'spkts_log1p', 'stcpb_log1p',\n",
       "       'dtcpb_log1p', 'smeansz_log1p', 'dmeansz_log1p', 'sjit_log1p',\n",
       "       'djit_log1p', 'network_bytes_log1p'],\n",
       "      dtype='object')"
      ]
     },
     "execution_count": 75,
     "metadata": {},
     "output_type": "execute_result"
    }
   ],
   "source": [
    "x_test.columns"
   ]
  },
  {
   "cell_type": "code",
   "execution_count": null,
   "metadata": {
    "colab": {
     "base_uri": "https://localhost:8080/"
    },
    "id": "04oEsIFn6a7e",
    "outputId": "84a13ab6-3641-46ee-ced2-3c5851b746be"
   },
   "outputs": [
    {
     "name": "stdout",
     "output_type": "stream",
     "text": [
      "Column 'proto' has non-numeric values: ['udp' 'tcp' 'unas' 'arp' 'argus' 'pri-enc' 'sm' 'irtp' 'ib' 'crudp'\n",
      " 'ipx-n-ip' 'uti' 'mobile' 'qnx' 'gre' 'snp' 'encap' 'ospf' 'sprite-rpc'\n",
      " 'stp' 'ipip' 'ippc' 'swipe' 'wsn' '3pc' 'micp' 'sat-mon' 'igp' 'rsvp'\n",
      " 'i-nlsp' 'nsfnet-igp' 'mux' 'wb-mon' 'srp' 'rvd' 'sdrp' 'ifmp' 'xtp'\n",
      " 'cpnx' 'any' 'ipv6-no' 'rdp' 'sps' 'sctp' 'sun-nd' 'smp' 'visa'\n",
      " 'secure-vmtp' 'isis' 'pgm' 'bna' 'ggp' 'l2tp' 'ipnip' 'etherip' 'gmtp'\n",
      " 'pim' 'ipv6-frag' 'eigrp' 'skip' 'mfe-nsp' 'icmp' 'merit-inp' 'tcf'\n",
      " 'zero' 'pnni' 'iso-tp4' 'compaq-peer' 'fire' 'ipv6' 'narp' 'idrp'\n",
      " 'ipv6-route' 'vmtp' 'idpr-cmtp' 'nvp' 'leaf-1' 'mtp' 'ipcomp' 'tlsp' 'il'\n",
      " 'fc' 'ax.25' 'xns-idp' 'pipe' 'tp++' 'prm' 'trunk-2' 'ptp' 'st2'\n",
      " 'sat-expak' 'wb-expak' 'ipv6-opts' 'egp' 'bbn-rcc' 'dgp' 'sccopmce' 'a/n'\n",
      " 'trunk-1' 'cbt' 'vrrp' 'cphb' 'iso-ip' 'br-sat-mon' 'ttp' 'ddx' 'dcn'\n",
      " 'ipcv' 'emcon' 'igmp' 'kryptolan' 'pup' 'pvp' 'cftp' 'sep' 'iatp' 'aris'\n",
      " 'ip' 'aes-sp3-d' 'chaos' 'vines' 'crtp' 'iplt' 'ddp' 'rtp' 'larp' 'mhrp'\n",
      " 'xnet' 'scps' 'idpr' 'leaf-2' 'netblt' 'hmp' 'esp' 'udt']\n",
      "Column 'state' has non-numeric values: ['CON' 'INT' 'FIN' 'REQ' 'RST' 'CLO' 'URH' 'ECO' 'URN' 'PAR' 'ACC' 'no'\n",
      " 'MAS' 'TXD' 'ECR' 'TST']\n",
      "Column 'service' has non-numeric values: ['dns' 'None' 'http' 'ftp-data' 'ftp' 'ssh' 'smtp' 'pop3' 'snmp' 'dhcp'\n",
      " 'radius' 'ssl' 'irc']\n",
      "Column 'ct_ftp_cmd' has non-numeric values: ['0' ' ' '1' '5' '4' '2' '3' '6' '8']\n"
     ]
    }
   ],
   "source": [
    "for col in x_test.columns:\n",
    "  if x_test[col].dtypes == 'object':\n",
    "    print(f\"Column '{col}' has non-numeric values: {x_test[col].unique()}\")\n",
    "\n",
    "x_test.replace(' ', np.nan, inplace=True)\n",
    "\n",
    "for col in saved_dict['numeric_col']:\n",
    "  if col in x_test.columns:\n",
    "    x_test[col] = pd.to_numeric(x_test[col], errors='coerce')\n",
    "    x_test[col] = x_test[col].fillna(x_test[col].mean())"
   ]
  },
  {
   "cell_type": "code",
   "execution_count": null,
   "metadata": {
    "id": "emH5dbtI6a-g"
   },
   "outputs": [],
   "source": [
    "# Apply standardization using the pre-fitted scaler\n",
    "x_test[saved_dict['numeric_col']] = scaler.transform(x_test[saved_dict['numeric_col']])\n"
   ]
  },
  {
   "cell_type": "code",
   "execution_count": null,
   "metadata": {
    "id": "zfpyt4RLyAj5"
   },
   "outputs": [],
   "source": [
    "x_test = standardize(x_test)\n"
   ]
  },
  {
   "cell_type": "code",
   "execution_count": null,
   "metadata": {
    "colab": {
     "base_uri": "https://localhost:8080/"
    },
    "id": "2zeSY4znyCdx",
    "outputId": "56cb1f7c-4af0-443e-99fa-707647c80a41"
   },
   "outputs": [
    {
     "name": "stdout",
     "output_type": "stream",
     "text": [
      "Unique values in column dttl: [-0.71872445 -0.73450062 -0.59741109 -0.71818044 -0.71709243]\n",
      "Unique values in column sbytes_log1p: [-4.92472524 -4.70619741 -3.70704914 -4.27706164 -3.11475403]\n",
      "Unique values in column ct_srv_src: [-0.91106011 -0.88548815 -0.66386445 -0.86844017 -0.90253613]\n",
      "Unique values in column swin: [-1.20557622 -1.18938172 -1.20316292 -1.20113067 -1.19928894]\n",
      "Unique values in column dmeansz_log1p: [-1.80879689 -1.65429811 -1.7301296  -1.93445753 -1.29916085]\n",
      "Unique values in column sload_log1p: [-4.37439479 -4.37152218 -3.83365172 -4.13847615 -4.38345097]\n",
      "Unique values in column sttl: [-0.84706036 -0.84185558 -0.80703739 -0.84149663 -0.85262409]\n",
      "Unique values in column ct_ftp_cmd: [ -1.67649389  -0.23391488  28.63941239 149.90303752 119.58713124]\n",
      "Unique values in column stcpb_log1p: [-1.1100908  -1.10410587 -1.11110342 -1.16955448 -1.10708634]\n",
      "Unique values in column is_sm_ips_ports: [ -1.04217306 609.70981258]\n",
      "Unique values in column network_bytes_log1p: [-3.86580786 -3.90315176 -3.32116597 -3.64089943 -2.16390426]\n",
      "Unique values in column tcprtt: [ -3.15282028  -2.81215269  29.75214945 120.79788347  -2.84783237]\n",
      "Unique values in column stime: [-1254.63202314 -1254.63202316 -1254.63202138 -1254.63202315\n",
      " -1254.63202137]\n",
      "Unique values in column dtcpb_log1p: [-1.10973807 -1.10376315 -1.11087187 -1.11620926 -1.11440464]\n",
      "Unique values in column dintpkt: [-0.05513758 -0.05513757 -0.05513758 -0.05513745 -0.05513757]\n",
      "Unique values in column dload_log1p: [-1.79508766 -1.79421087 -1.79878672 -1.74365988 -1.79785181]\n",
      "Unique values in column ct_flw_http_mthd: [-0.55503495  2.68306281 18.87355161 12.39735609  5.92116057]\n",
      "Unique values in column ct_dst_sport_ltm: [-0.64978525 -0.01977846 -0.54478412 -0.25603101 -0.59728469]\n",
      "Unique values in column spkts_log1p: [-2.6845872  -1.68489228 -1.98089893  0.02066873 -2.08958165]\n",
      "Unique values in column is_ftp_login: [ -1.10410927  55.12140442 223.79794549 111.34691811]\n",
      "Unique values in column smeansz_log1p: [-7.88073472 -6.37171305 -5.08806354 -7.52403129 -9.16098671]\n",
      "Unique values in column djit_log1p: [-0.72465522 -1.18177166 -0.57617114 -0.2682787  -0.15831605]\n",
      "Unique values in column ackdat: [ -5.42759174  -5.14883309  29.58779515 306.73440812  -5.18001005]\n",
      "Unique values in column trans_depth: [-0.8343704   6.47008565 13.77454171 21.07899776 35.68790986]\n",
      "Unique values in column synack: [ -5.194796    -4.35291657  69.30767154 123.61584593  -4.43942161]\n",
      "Unique values in column ct_src_ltm: [-0.89933228 -0.57211193 -0.85471132 -0.91420593 -0.92907958]\n",
      "Unique values in column ct_dst_ltm: [-0.85592275 -0.79580268 -0.51023236 -0.87095277 -0.84089273]\n",
      "Unique values in column dbytes_log1p: [-1.79543988 -1.5946659  -1.61812569 -1.76786598 -1.12577488]\n",
      "Unique values in column ct_state_ttl: [-0.94167823  1.19608655  3.33385133 11.88491044  5.47161611]\n",
      "Unique values in column sintpkt: [-0.06964384 -0.06964384 -0.06964384 -0.0696438  -0.06964384]\n",
      "Unique values in column dur_log1p: [-1.36237815 -1.36250032 -1.36671089 -1.34520905 -1.36196955]\n",
      "Unique values in column sjit_log1p: [-0.80753523 -1.04603976 -0.5147688  -0.49601357 -0.47693728]\n",
      "Unique values in column res_bdy_len: [-0.08911535 -0.08836242 -0.0888856  -0.08911363 -0.08911531]\n"
     ]
    }
   ],
   "source": [
    "for col in saved_dict['numeric_col']:\n",
    "    print(f\"Unique values in column {col}: {x_test[col].unique()[:5]}\")  # Print the first few unique values\n"
   ]
  },
  {
   "cell_type": "code",
   "execution_count": null,
   "metadata": {
    "id": "5_AY7IbgyD60"
   },
   "outputs": [],
   "source": [
    "def ohencoding(data):\n",
    "    required_columns = ['proto', 'service', 'state']\n",
    "    missing_columns = [col for col in required_columns if col not in data.columns]\n",
    "    if missing_columns:\n",
    "        print(f\"Missing columns for encoding: {missing_columns}\")\n",
    "        return data  # Return original data if critical columns are missing\n",
    "\n",
    "    # Apply one-hot encoding only if columns exist\n",
    "    if 'proto' in data.columns:\n",
    "        X_proto = ohe_proto.transform(data[['proto']])\n",
    "        data = pd.concat([data, pd.DataFrame(X_proto, columns=[f\"proto_{cat}\" for cat in ohe_proto.categories_[0]])], axis=1)\n",
    "        data.drop(['proto'], axis=1, inplace=True)\n",
    "\n",
    "    if 'service' in data.columns:\n",
    "        X_service = ohe_service.transform(data[['service']])\n",
    "        data = pd.concat([data, pd.DataFrame(X_service, columns=[f\"service_{cat}\" for cat in ohe_service.categories_[0]])], axis=1)\n",
    "        data.drop(['service'], axis=1, inplace=True)\n",
    "\n",
    "    if 'state' in data.columns:\n",
    "        X_state = ohe_state.transform(data[['state']])\n",
    "        data = pd.concat([data, pd.DataFrame(X_state, columns=[f\"state_{cat}\" for cat in ohe_state.categories_[0]])], axis=1)\n",
    "        data.drop(['state'], axis=1, inplace=True)\n",
    "\n",
    "    return data\n"
   ]
  },
  {
   "cell_type": "code",
   "execution_count": null,
   "metadata": {
    "colab": {
     "base_uri": "https://localhost:8080/"
    },
    "id": "ZC6uWrlNyF22",
    "outputId": "7a28182f-72e8-4572-d76b-8df94c8993c4"
   },
   "outputs": [
    {
     "name": "stdout",
     "output_type": "stream",
     "text": [
      "x_test columns: Index(['proto', 'state', 'sttl', 'dttl', 'service', 'swin', 'trans_depth',\n",
      "       'res_bdy_len', 'stime', 'sintpkt', 'dintpkt', 'tcprtt', 'synack',\n",
      "       'ackdat', 'is_sm_ips_ports', 'ct_state_ttl', 'ct_flw_http_mthd',\n",
      "       'is_ftp_login', 'ct_ftp_cmd', 'ct_srv_src', 'ct_dst_ltm', 'ct_src_ltm',\n",
      "       'ct_dst_sport_ltm', 'dur_log1p', 'sbytes_log1p', 'dbytes_log1p',\n",
      "       'sload_log1p', 'dload_log1p', 'spkts_log1p', 'stcpb_log1p',\n",
      "       'dtcpb_log1p', 'smeansz_log1p', 'dmeansz_log1p', 'sjit_log1p',\n",
      "       'djit_log1p', 'network_bytes_log1p'],\n",
      "      dtype='object')\n"
     ]
    }
   ],
   "source": [
    "if 'proto' not in x_test.columns:\n",
    "  x_test['proto'] = test['proto']\n",
    "\n",
    "if 'proto' in x_test.columns:\n",
    "  proto_encoded = ohe_proto.transform(x_test[['proto']])\n",
    "\n",
    "else:\n",
    "  print(\"proto is missing; skipping encoding\")\n",
    "\n",
    "print(\"x_test columns:\", x_test.columns)"
   ]
  },
  {
   "cell_type": "code",
   "execution_count": null,
   "metadata": {
    "colab": {
     "base_uri": "https://localhost:8080/"
    },
    "id": "Ji7Y0HUxyfu3",
    "outputId": "6253d462-74f8-4cf8-adce-5b2db0681688"
   },
   "outputs": [
    {
     "name": "stdout",
     "output_type": "stream",
     "text": [
      "Columns in x_train but missing in x_test: {'proto_3pc', 'proto_ipv6', 'proto_nvp', 'proto_pup', 'proto_iplt', 'proto_swipe', 'proto_unas', 'proto_ippc', 'proto_trunk-1', 'proto_crudp', 'service_radius', 'proto_udt', 'proto_fire', 'proto_cftp', 'service_ftp-data', 'proto_ipv6-opts', 'proto_pipe', 'proto_nsfnet-igp', 'proto_ddx', 'proto_vmtp', 'proto_ptp', 'proto_ip', 'proto_i-nlsp', 'state_ECO', 'proto_tlsp', 'state_ACC', 'proto_br-sat-mon', 'proto_gre', 'service_dhcp', 'proto_visa', 'state_no', 'state_MAS', 'proto_ipcomp', 'proto_zero', 'proto_ib', 'state_ECR', 'proto_eigrp', 'proto_iso-tp4', 'proto_ospf', 'proto_ipip', 'proto_ipx-n-ip', 'proto_leaf-1', 'proto_dgp', 'state_INT', 'proto_iso-ip', 'proto_larp', 'proto_cbt', 'proto_bna', 'proto_qnx', 'service_snmp', 'proto_l2tp', 'proto_merit-inp', 'proto_prm', 'proto_pri-enc', 'proto_sdrp', 'proto_idpr-cmtp', 'proto_ifmp', 'proto_udp', 'proto_xtp', 'proto_vines', 'proto_aes-sp3-d', 'proto_iatp', 'proto_ipnip', 'state_CLO', 'proto_pim', 'state_PAR', 'proto_igp', 'proto_rvd', 'proto_secure-vmtp', 'proto_pgm', 'proto_idpr', 'service_smtp', 'proto_ipv6-frag', 'proto_mobile', 'proto_kryptolan', 'proto_fc', 'proto_bbn-rcc', 'proto_dcn', 'proto_gmtp', 'proto_mtp', 'proto_sprite-rpc', 'proto_ax.25', 'proto_esp', 'proto_wb-expak', 'proto_hmp', 'proto_micp', 'proto_irtp', 'proto_encap', 'proto_stp', 'proto_sctp', 'proto_ipv6-no', 'proto_smp', 'proto_chaos', 'proto_compaq-peer', 'proto_idrp', 'proto_aris', 'service_http', 'service_ftp', 'proto_narp', 'proto_etherip', 'state_CON', 'proto_igmp', 'proto_ttp', 'proto_wb-mon', 'proto_skip', 'proto_cpnx', 'state_URN', 'proto_pvp', 'proto_uti', 'proto_cphb', 'service_dns', 'proto_tcf', 'proto_xnet', 'state_REQ', 'proto_rdp', 'service_ssh', 'service_ssl', 'proto_egp', 'proto_ipcv', 'proto_mfe-nsp', 'state_URH', 'proto_tcp', 'proto_vrrp', 'proto_wsn', 'proto_mhrp', 'proto_emcon', 'proto_sep', 'proto_sps', 'proto_srp', 'state_RST', 'proto_netblt', 'proto_tp++', 'proto_any', 'proto_mux', 'proto_sm', 'service_irc', 'state_TST', 'proto_isis', 'state_TXD', 'proto_crtp', 'proto_sun-nd', 'proto_leaf-2', 'proto_xns-idp', 'proto_sat-mon', 'proto_snp', 'proto_rsvp', 'proto_sccopmce', 'proto_scps', 'proto_sat-expak', 'proto_st2', 'proto_argus', 'proto_ggp', 'proto_arp', 'service_-', 'proto_a/n', 'proto_trunk-2', 'service_pop3', 'proto_rtp', 'proto_pnni', 'proto_icmp', 'proto_ddp', 'proto_il', 'proto_ipv6-route', 'state_FIN'}\n",
      "Columns in x_test but missing in x_train: {'proto', 'state', 'service'}\n"
     ]
    }
   ],
   "source": [
    "missing_cols = set(x_train.columns) - set(x_test.columns)\n",
    "extra_cols = set(x_test.columns) - set(x_train.columns)\n",
    "\n",
    "print(\"Columns in x_train but missing in x_test:\", missing_cols)\n",
    "print(\"Columns in x_test but missing in x_train:\", extra_cols)"
   ]
  },
  {
   "cell_type": "code",
   "execution_count": null,
   "metadata": {
    "id": "LCTkwefsy7Td"
   },
   "outputs": [],
   "source": [
    "# Add missing columns\n",
    "for col in missing_cols:\n",
    "    x_test[col] = 0\n"
   ]
  },
  {
   "cell_type": "code",
   "execution_count": null,
   "metadata": {
    "id": "DlhfKkM2y890"
   },
   "outputs": [],
   "source": [
    "x_test = x_test[x_train.columns]\n"
   ]
  },
  {
   "cell_type": "code",
   "execution_count": null,
   "metadata": {
    "colab": {
     "base_uri": "https://localhost:8080/"
    },
    "id": "KnQ28oRRumCo",
    "outputId": "9e2e3551-b770-476c-c50e-5f26c72d67ab"
   },
   "outputs": [
    {
     "name": "stdout",
     "output_type": "stream",
     "text": [
      "x_train shape: (1778032, 197)\n",
      "x_test shape: (762015, 197)\n",
      "Columns match: True\n"
     ]
    }
   ],
   "source": [
    "print(\"x_train shape:\", x_train.shape)\n",
    "print(\"x_test shape:\", x_test.shape)\n",
    "print(\"Columns match:\", all(x_train.columns == x_test.columns))\n"
   ]
  },
  {
   "cell_type": "code",
   "execution_count": null,
   "metadata": {
    "id": "qoZa1Ym_upmn"
   },
   "outputs": [],
   "source": []
  },
  {
   "cell_type": "code",
   "execution_count": null,
   "metadata": {
    "id": "6Bv62fc2y-SW"
   },
   "outputs": [],
   "source": []
  },
  {
   "cell_type": "code",
   "execution_count": null,
   "metadata": {
    "id": "Tdusmt9kuymC"
   },
   "outputs": [],
   "source": []
  },
  {
   "cell_type": "code",
   "execution_count": null,
   "metadata": {
    "id": "hX-t98giu1eH"
   },
   "outputs": [],
   "source": []
  },
  {
   "cell_type": "code",
   "execution_count": null,
   "metadata": {
    "id": "ugA5FoZxv5k2"
   },
   "outputs": [],
   "source": []
  },
  {
   "cell_type": "code",
   "execution_count": null,
   "metadata": {
    "id": "Ufdx26HazANv"
   },
   "outputs": [],
   "source": []
  },
  {
   "cell_type": "code",
   "execution_count": null,
   "metadata": {
    "id": "4mmx6vOw43g2"
   },
   "outputs": [],
   "source": []
  },
  {
   "cell_type": "code",
   "execution_count": null,
   "metadata": {
    "id": "RtKpnFH1v868"
   },
   "outputs": [],
   "source": []
  },
  {
   "cell_type": "code",
   "execution_count": null,
   "metadata": {
    "id": "3GqNVTfXwGR1"
   },
   "outputs": [],
   "source": []
  },
  {
   "cell_type": "code",
   "execution_count": null,
   "metadata": {
    "id": "OV9rFi4qwO0v"
   },
   "outputs": [],
   "source": []
  },
  {
   "cell_type": "code",
   "execution_count": null,
   "metadata": {
    "id": "IBiymvLcwSNe"
   },
   "outputs": [],
   "source": []
  },
  {
   "cell_type": "code",
   "execution_count": null,
   "metadata": {
    "id": "JHk0QAv3wUBn"
   },
   "outputs": [],
   "source": []
  }
 ],
 "metadata": {
  "accelerator": "TPU",
  "colab": {
   "gpuType": "V28",
   "provenance": []
  },
  "kernelspec": {
   "display_name": "Python 3 (ipykernel)",
   "language": "python",
   "name": "python3"
  },
  "language_info": {
   "codemirror_mode": {
    "name": "ipython",
    "version": 3
   },
   "file_extension": ".py",
   "mimetype": "text/x-python",
   "name": "python",
   "nbconvert_exporter": "python",
   "pygments_lexer": "ipython3",
   "version": "3.10.9"
  },
  "varInspector": {
   "cols": {
    "lenName": 16,
    "lenType": 16,
    "lenVar": 40
   },
   "kernels_config": {
    "python": {
     "delete_cmd_postfix": "",
     "delete_cmd_prefix": "del ",
     "library": "var_list.py",
     "varRefreshCmd": "print(var_dic_list())"
    },
    "r": {
     "delete_cmd_postfix": ") ",
     "delete_cmd_prefix": "rm(",
     "library": "var_list.r",
     "varRefreshCmd": "cat(var_dic_list()) "
    }
   },
   "types_to_exclude": [
    "module",
    "function",
    "builtin_function_or_method",
    "instance",
    "_Feature"
   ],
   "window_display": false
  }
 },
 "nbformat": 4,
 "nbformat_minor": 1
}
