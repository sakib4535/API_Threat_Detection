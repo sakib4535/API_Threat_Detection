{
  "nbformat": 4,
  "nbformat_minor": 0,
  "metadata": {
    "colab": {
      "provenance": [],
      "gpuType": "V28",
      "toc_visible": true
    },
    "kernelspec": {
      "name": "python3",
      "display_name": "Python 3"
    },
    "language_info": {
      "name": "python"
    },
    "accelerator": "TPU"
  },
  "cells": [
    {
      "cell_type": "code",
      "execution_count": null,
      "metadata": {
        "id": "GHbH3PjEMyBg"
      },
      "outputs": [],
      "source": []
    },
    {
      "cell_type": "markdown",
      "source": [
        "In the context of Advanced Persistent Threat (APT) Detection, certain columns can be more critical than others, as they may provide valuable insights into network behavior or indicate malicious activities. based on the data types and column names, here are the potentially important columns or features to analyze"
      ],
      "metadata": {
        "id": "bdIYbaP5NOL5"
      }
    },
    {
      "cell_type": "markdown",
      "source": [
        "## **Leading Features for Advanced Threat Detection Model**"
      ],
      "metadata": {
        "id": "V2Scv-ScNQso"
      }
    },
    {
      "cell_type": "markdown",
      "source": [
        "**1. sttl (State TTL):** A higher TTL (Time-Live) value may suggest an unusual network behavior or attack pattern. This could be useful for detecting anomalies in packet forwarding.\n",
        "\n",
        "**2. dttl (Destination TTL):** Similar to sttl, this indicates the destination TTL value. Monitoring TTL differences may help identify attacks like DoS (Denial of Service) or unusual network activities.\n",
        "\n",
        "**3. trans_depth (Transaction Depth):** The depth of a transaction could be an indicator of deep scanning or probing activities, often associated with reconnaissance in APTs.\n",
        "\n",
        "**4. res_bdy_len(Response Body Length):** The length of the response body might indicate abnormal response patterns. Attackers may use small or unusually large responses during an attack.\n",
        "\n",
        "**5. stime (Session Time): **Session duration is useful in understanding if a network session is unusually long or short which could indicate automated attack activitiy.\n",
        "\n",
        "**6. sinpkt( Source Inter-packet Time):** The interval between packets from the source can help identify slow and stealthy network behavior often seen in APTs.\n",
        "\n",
        "**7. dintpkt (Destination Inter-packet Time):** similar to sintpkt, this column can help detect abnormal communication patterns between source and destination, which is a telltale sign of advanced persistent threats.\n",
        "\n",
        "**8. tcprtt (TCP Round Trip Time):**\n",
        "High round-trip times could indicate that the network is under attack or that there's an unusual delay in communication, which is common in APTs.\n",
        "\n",
        "**9.synack (TCP Syn-Ack Flag)**: Anomalies in the TCP handshake process (SYN-ACK) could signal potential scanning, session hijacking, or other malicious activities.\n",
        "\n",
        "**10. ackdat (TCP Acknowledgment Data)**: Could be useful for detecting ACK storms or other unusual traffic patterns that are indicative of attacks.\n"
      ],
      "metadata": {
        "id": "mzfLrbXvNXE6"
      }
    },
    {
      "cell_type": "code",
      "source": [
        "import pickle\n",
        "from google.colab import drive\n",
        "from sklearn.preprocessing import StandardScaler  # Standardizer\n",
        "from sklearn.preprocessing import LabelEncoder, OneHotEncoder\n",
        "from scipy.sparse import csr_matrix\n",
        "import pandas as pd\n",
        "\n",
        "\n",
        "from sklearn.impute import SimpleImputer\n",
        "from sklearn.tree import DecisionTreeRegressor\n",
        "from sklearn.preprocessing import LabelEncoder\n",
        "from sklearn.metrics import mean_squared_error, r2_score\n",
        "import numpy as np"
      ],
      "metadata": {
        "id": "iWwtLqqYNP11"
      },
      "execution_count": null,
      "outputs": []
    },
    {
      "cell_type": "code",
      "source": [
        "drive.mount('/content/drive')"
      ],
      "metadata": {
        "colab": {
          "base_uri": "https://localhost:8080/"
        },
        "id": "Y31CLnu9OyPi",
        "outputId": "97c400a8-e1a0-4945-ef1c-1414cf915643"
      },
      "execution_count": null,
      "outputs": [
        {
          "output_type": "stream",
          "name": "stdout",
          "text": [
            "Drive already mounted at /content/drive; to attempt to forcibly remount, call drive.mount(\"/content/drive\", force_remount=True).\n"
          ]
        }
      ]
    },
    {
      "cell_type": "code",
      "source": [
        "file_path = '/content/drive/MyDrive/Advanced _Threat_Detection/UNSW-NB15/CSV_Files/Training_and_Testing_Sets/'\n",
        "\n",
        "x_train, y_train = pickle.load(open(file_path + 'final_train.pkl', 'rb'))\n",
        "x_test, y_test = pickle.load(open(file_path + 'final_test.pkl', 'rb'))\n",
        "\n",
        "saved_dict = pickle.load(open(file_path + 'saved_dict.pkl', 'rb'))\n",
        "mode_dict = pickle.load(open(file_path + 'mode_dict.pkl', 'rb'))\n",
        "scaler = pickle.load(open(file_path + 'scaler.pkl', 'rb'))\n",
        "\n",
        "ohe_proto = pickle.load(open(file_path + 'ohe_proto.pkl', 'rb'))\n",
        "ohe_service = pickle.load(open(file_path + 'ohe_service.pkl', 'rb'))\n",
        "ohe_state = pickle.load(open(file_path + 'ohe_state.pkl', 'rb'))\n",
        "\n",
        "print(\"All files loaded successfully!\")"
      ],
      "metadata": {
        "colab": {
          "base_uri": "https://localhost:8080/"
        },
        "id": "NNMnMIUbO1NQ",
        "outputId": "82d17617-4830-488b-bef0-664696431194"
      },
      "execution_count": null,
      "outputs": [
        {
          "output_type": "stream",
          "name": "stdout",
          "text": [
            "All files loaded successfully!\n"
          ]
        }
      ]
    },
    {
      "cell_type": "code",
      "source": [
        "train_columns = x_train.columns\n",
        "test_columns = x_test.columns\n",
        "missing_in_test = train_columns.difference(test_columns)\n",
        "missing_in_train = test_columns.difference(train_columns)\n",
        "\n",
        "print(\"Columns in train but not in test: \", missing_in_test)\n",
        "print(\"Columns in test but not in train: \", missing_in_test)\n"
      ],
      "metadata": {
        "colab": {
          "base_uri": "https://localhost:8080/"
        },
        "id": "JKxJynQfS7U1",
        "outputId": "cbb8216f-30cf-4abf-94e8-2b19254017c8"
      },
      "execution_count": null,
      "outputs": [
        {
          "output_type": "stream",
          "name": "stdout",
          "text": [
            "Columns in train but not in test:  Index(['dbytes_log1p', 'djit_log1p', 'dload_log1p', 'dmeansz_log1p',\n",
            "       'dtcpb_log1p', 'dur_log1p', 'network_bytes_log1p', 'sbytes_log1p',\n",
            "       'sjit_log1p', 'sload_log1p', 'smeansz_log1p', 'spkts_log1p',\n",
            "       'stcpb_log1p'],\n",
            "      dtype='object')\n",
            "Columns in test but not in train:  Index(['dbytes_log1p', 'djit_log1p', 'dload_log1p', 'dmeansz_log1p',\n",
            "       'dtcpb_log1p', 'dur_log1p', 'network_bytes_log1p', 'sbytes_log1p',\n",
            "       'sjit_log1p', 'sload_log1p', 'smeansz_log1p', 'spkts_log1p',\n",
            "       'stcpb_log1p'],\n",
            "      dtype='object')\n"
          ]
        }
      ]
    },
    {
      "cell_type": "code",
      "source": [
        "ohe_proto = OneHotEncoder(sparse_output=True, handle_unknown='ignore')\n",
        "ohe_service = OneHotEncoder(sparse_output=True, handle_unknown='ignore')\n",
        "ohe_state = OneHotEncoder(sparse_output=True, handle_unknown='ignore')\n",
        "\n",
        "ohe_proto.fit(x_train[['proto']])\n",
        "ohe_service.fit(x_train[['service']])\n",
        "ohe_state.fit(x_train[['state']])"
      ],
      "metadata": {
        "colab": {
          "base_uri": "https://localhost:8080/",
          "height": 81
        },
        "id": "N7V4t5-J5rBg",
        "outputId": "015414bb-4421-4f1b-927e-6a0d4f00e61b"
      },
      "execution_count": null,
      "outputs": [
        {
          "output_type": "execute_result",
          "data": {
            "text/plain": [
              "OneHotEncoder(handle_unknown='ignore')"
            ],
            "text/html": [
              "<style>#sk-container-id-1 {\n",
              "  /* Definition of color scheme common for light and dark mode */\n",
              "  --sklearn-color-text: #000;\n",
              "  --sklearn-color-text-muted: #666;\n",
              "  --sklearn-color-line: gray;\n",
              "  /* Definition of color scheme for unfitted estimators */\n",
              "  --sklearn-color-unfitted-level-0: #fff5e6;\n",
              "  --sklearn-color-unfitted-level-1: #f6e4d2;\n",
              "  --sklearn-color-unfitted-level-2: #ffe0b3;\n",
              "  --sklearn-color-unfitted-level-3: chocolate;\n",
              "  /* Definition of color scheme for fitted estimators */\n",
              "  --sklearn-color-fitted-level-0: #f0f8ff;\n",
              "  --sklearn-color-fitted-level-1: #d4ebff;\n",
              "  --sklearn-color-fitted-level-2: #b3dbfd;\n",
              "  --sklearn-color-fitted-level-3: cornflowerblue;\n",
              "\n",
              "  /* Specific color for light theme */\n",
              "  --sklearn-color-text-on-default-background: var(--sg-text-color, var(--theme-code-foreground, var(--jp-content-font-color1, black)));\n",
              "  --sklearn-color-background: var(--sg-background-color, var(--theme-background, var(--jp-layout-color0, white)));\n",
              "  --sklearn-color-border-box: var(--sg-text-color, var(--theme-code-foreground, var(--jp-content-font-color1, black)));\n",
              "  --sklearn-color-icon: #696969;\n",
              "\n",
              "  @media (prefers-color-scheme: dark) {\n",
              "    /* Redefinition of color scheme for dark theme */\n",
              "    --sklearn-color-text-on-default-background: var(--sg-text-color, var(--theme-code-foreground, var(--jp-content-font-color1, white)));\n",
              "    --sklearn-color-background: var(--sg-background-color, var(--theme-background, var(--jp-layout-color0, #111)));\n",
              "    --sklearn-color-border-box: var(--sg-text-color, var(--theme-code-foreground, var(--jp-content-font-color1, white)));\n",
              "    --sklearn-color-icon: #878787;\n",
              "  }\n",
              "}\n",
              "\n",
              "#sk-container-id-1 {\n",
              "  color: var(--sklearn-color-text);\n",
              "}\n",
              "\n",
              "#sk-container-id-1 pre {\n",
              "  padding: 0;\n",
              "}\n",
              "\n",
              "#sk-container-id-1 input.sk-hidden--visually {\n",
              "  border: 0;\n",
              "  clip: rect(1px 1px 1px 1px);\n",
              "  clip: rect(1px, 1px, 1px, 1px);\n",
              "  height: 1px;\n",
              "  margin: -1px;\n",
              "  overflow: hidden;\n",
              "  padding: 0;\n",
              "  position: absolute;\n",
              "  width: 1px;\n",
              "}\n",
              "\n",
              "#sk-container-id-1 div.sk-dashed-wrapped {\n",
              "  border: 1px dashed var(--sklearn-color-line);\n",
              "  margin: 0 0.4em 0.5em 0.4em;\n",
              "  box-sizing: border-box;\n",
              "  padding-bottom: 0.4em;\n",
              "  background-color: var(--sklearn-color-background);\n",
              "}\n",
              "\n",
              "#sk-container-id-1 div.sk-container {\n",
              "  /* jupyter's `normalize.less` sets `[hidden] { display: none; }`\n",
              "     but bootstrap.min.css set `[hidden] { display: none !important; }`\n",
              "     so we also need the `!important` here to be able to override the\n",
              "     default hidden behavior on the sphinx rendered scikit-learn.org.\n",
              "     See: https://github.com/scikit-learn/scikit-learn/issues/21755 */\n",
              "  display: inline-block !important;\n",
              "  position: relative;\n",
              "}\n",
              "\n",
              "#sk-container-id-1 div.sk-text-repr-fallback {\n",
              "  display: none;\n",
              "}\n",
              "\n",
              "div.sk-parallel-item,\n",
              "div.sk-serial,\n",
              "div.sk-item {\n",
              "  /* draw centered vertical line to link estimators */\n",
              "  background-image: linear-gradient(var(--sklearn-color-text-on-default-background), var(--sklearn-color-text-on-default-background));\n",
              "  background-size: 2px 100%;\n",
              "  background-repeat: no-repeat;\n",
              "  background-position: center center;\n",
              "}\n",
              "\n",
              "/* Parallel-specific style estimator block */\n",
              "\n",
              "#sk-container-id-1 div.sk-parallel-item::after {\n",
              "  content: \"\";\n",
              "  width: 100%;\n",
              "  border-bottom: 2px solid var(--sklearn-color-text-on-default-background);\n",
              "  flex-grow: 1;\n",
              "}\n",
              "\n",
              "#sk-container-id-1 div.sk-parallel {\n",
              "  display: flex;\n",
              "  align-items: stretch;\n",
              "  justify-content: center;\n",
              "  background-color: var(--sklearn-color-background);\n",
              "  position: relative;\n",
              "}\n",
              "\n",
              "#sk-container-id-1 div.sk-parallel-item {\n",
              "  display: flex;\n",
              "  flex-direction: column;\n",
              "}\n",
              "\n",
              "#sk-container-id-1 div.sk-parallel-item:first-child::after {\n",
              "  align-self: flex-end;\n",
              "  width: 50%;\n",
              "}\n",
              "\n",
              "#sk-container-id-1 div.sk-parallel-item:last-child::after {\n",
              "  align-self: flex-start;\n",
              "  width: 50%;\n",
              "}\n",
              "\n",
              "#sk-container-id-1 div.sk-parallel-item:only-child::after {\n",
              "  width: 0;\n",
              "}\n",
              "\n",
              "/* Serial-specific style estimator block */\n",
              "\n",
              "#sk-container-id-1 div.sk-serial {\n",
              "  display: flex;\n",
              "  flex-direction: column;\n",
              "  align-items: center;\n",
              "  background-color: var(--sklearn-color-background);\n",
              "  padding-right: 1em;\n",
              "  padding-left: 1em;\n",
              "}\n",
              "\n",
              "\n",
              "/* Toggleable style: style used for estimator/Pipeline/ColumnTransformer box that is\n",
              "clickable and can be expanded/collapsed.\n",
              "- Pipeline and ColumnTransformer use this feature and define the default style\n",
              "- Estimators will overwrite some part of the style using the `sk-estimator` class\n",
              "*/\n",
              "\n",
              "/* Pipeline and ColumnTransformer style (default) */\n",
              "\n",
              "#sk-container-id-1 div.sk-toggleable {\n",
              "  /* Default theme specific background. It is overwritten whether we have a\n",
              "  specific estimator or a Pipeline/ColumnTransformer */\n",
              "  background-color: var(--sklearn-color-background);\n",
              "}\n",
              "\n",
              "/* Toggleable label */\n",
              "#sk-container-id-1 label.sk-toggleable__label {\n",
              "  cursor: pointer;\n",
              "  display: flex;\n",
              "  width: 100%;\n",
              "  margin-bottom: 0;\n",
              "  padding: 0.5em;\n",
              "  box-sizing: border-box;\n",
              "  text-align: center;\n",
              "  align-items: start;\n",
              "  justify-content: space-between;\n",
              "  gap: 0.5em;\n",
              "}\n",
              "\n",
              "#sk-container-id-1 label.sk-toggleable__label .caption {\n",
              "  font-size: 0.6rem;\n",
              "  font-weight: lighter;\n",
              "  color: var(--sklearn-color-text-muted);\n",
              "}\n",
              "\n",
              "#sk-container-id-1 label.sk-toggleable__label-arrow:before {\n",
              "  /* Arrow on the left of the label */\n",
              "  content: \"▸\";\n",
              "  float: left;\n",
              "  margin-right: 0.25em;\n",
              "  color: var(--sklearn-color-icon);\n",
              "}\n",
              "\n",
              "#sk-container-id-1 label.sk-toggleable__label-arrow:hover:before {\n",
              "  color: var(--sklearn-color-text);\n",
              "}\n",
              "\n",
              "/* Toggleable content - dropdown */\n",
              "\n",
              "#sk-container-id-1 div.sk-toggleable__content {\n",
              "  max-height: 0;\n",
              "  max-width: 0;\n",
              "  overflow: hidden;\n",
              "  text-align: left;\n",
              "  /* unfitted */\n",
              "  background-color: var(--sklearn-color-unfitted-level-0);\n",
              "}\n",
              "\n",
              "#sk-container-id-1 div.sk-toggleable__content.fitted {\n",
              "  /* fitted */\n",
              "  background-color: var(--sklearn-color-fitted-level-0);\n",
              "}\n",
              "\n",
              "#sk-container-id-1 div.sk-toggleable__content pre {\n",
              "  margin: 0.2em;\n",
              "  border-radius: 0.25em;\n",
              "  color: var(--sklearn-color-text);\n",
              "  /* unfitted */\n",
              "  background-color: var(--sklearn-color-unfitted-level-0);\n",
              "}\n",
              "\n",
              "#sk-container-id-1 div.sk-toggleable__content.fitted pre {\n",
              "  /* unfitted */\n",
              "  background-color: var(--sklearn-color-fitted-level-0);\n",
              "}\n",
              "\n",
              "#sk-container-id-1 input.sk-toggleable__control:checked~div.sk-toggleable__content {\n",
              "  /* Expand drop-down */\n",
              "  max-height: 200px;\n",
              "  max-width: 100%;\n",
              "  overflow: auto;\n",
              "}\n",
              "\n",
              "#sk-container-id-1 input.sk-toggleable__control:checked~label.sk-toggleable__label-arrow:before {\n",
              "  content: \"▾\";\n",
              "}\n",
              "\n",
              "/* Pipeline/ColumnTransformer-specific style */\n",
              "\n",
              "#sk-container-id-1 div.sk-label input.sk-toggleable__control:checked~label.sk-toggleable__label {\n",
              "  color: var(--sklearn-color-text);\n",
              "  background-color: var(--sklearn-color-unfitted-level-2);\n",
              "}\n",
              "\n",
              "#sk-container-id-1 div.sk-label.fitted input.sk-toggleable__control:checked~label.sk-toggleable__label {\n",
              "  background-color: var(--sklearn-color-fitted-level-2);\n",
              "}\n",
              "\n",
              "/* Estimator-specific style */\n",
              "\n",
              "/* Colorize estimator box */\n",
              "#sk-container-id-1 div.sk-estimator input.sk-toggleable__control:checked~label.sk-toggleable__label {\n",
              "  /* unfitted */\n",
              "  background-color: var(--sklearn-color-unfitted-level-2);\n",
              "}\n",
              "\n",
              "#sk-container-id-1 div.sk-estimator.fitted input.sk-toggleable__control:checked~label.sk-toggleable__label {\n",
              "  /* fitted */\n",
              "  background-color: var(--sklearn-color-fitted-level-2);\n",
              "}\n",
              "\n",
              "#sk-container-id-1 div.sk-label label.sk-toggleable__label,\n",
              "#sk-container-id-1 div.sk-label label {\n",
              "  /* The background is the default theme color */\n",
              "  color: var(--sklearn-color-text-on-default-background);\n",
              "}\n",
              "\n",
              "/* On hover, darken the color of the background */\n",
              "#sk-container-id-1 div.sk-label:hover label.sk-toggleable__label {\n",
              "  color: var(--sklearn-color-text);\n",
              "  background-color: var(--sklearn-color-unfitted-level-2);\n",
              "}\n",
              "\n",
              "/* Label box, darken color on hover, fitted */\n",
              "#sk-container-id-1 div.sk-label.fitted:hover label.sk-toggleable__label.fitted {\n",
              "  color: var(--sklearn-color-text);\n",
              "  background-color: var(--sklearn-color-fitted-level-2);\n",
              "}\n",
              "\n",
              "/* Estimator label */\n",
              "\n",
              "#sk-container-id-1 div.sk-label label {\n",
              "  font-family: monospace;\n",
              "  font-weight: bold;\n",
              "  display: inline-block;\n",
              "  line-height: 1.2em;\n",
              "}\n",
              "\n",
              "#sk-container-id-1 div.sk-label-container {\n",
              "  text-align: center;\n",
              "}\n",
              "\n",
              "/* Estimator-specific */\n",
              "#sk-container-id-1 div.sk-estimator {\n",
              "  font-family: monospace;\n",
              "  border: 1px dotted var(--sklearn-color-border-box);\n",
              "  border-radius: 0.25em;\n",
              "  box-sizing: border-box;\n",
              "  margin-bottom: 0.5em;\n",
              "  /* unfitted */\n",
              "  background-color: var(--sklearn-color-unfitted-level-0);\n",
              "}\n",
              "\n",
              "#sk-container-id-1 div.sk-estimator.fitted {\n",
              "  /* fitted */\n",
              "  background-color: var(--sklearn-color-fitted-level-0);\n",
              "}\n",
              "\n",
              "/* on hover */\n",
              "#sk-container-id-1 div.sk-estimator:hover {\n",
              "  /* unfitted */\n",
              "  background-color: var(--sklearn-color-unfitted-level-2);\n",
              "}\n",
              "\n",
              "#sk-container-id-1 div.sk-estimator.fitted:hover {\n",
              "  /* fitted */\n",
              "  background-color: var(--sklearn-color-fitted-level-2);\n",
              "}\n",
              "\n",
              "/* Specification for estimator info (e.g. \"i\" and \"?\") */\n",
              "\n",
              "/* Common style for \"i\" and \"?\" */\n",
              "\n",
              ".sk-estimator-doc-link,\n",
              "a:link.sk-estimator-doc-link,\n",
              "a:visited.sk-estimator-doc-link {\n",
              "  float: right;\n",
              "  font-size: smaller;\n",
              "  line-height: 1em;\n",
              "  font-family: monospace;\n",
              "  background-color: var(--sklearn-color-background);\n",
              "  border-radius: 1em;\n",
              "  height: 1em;\n",
              "  width: 1em;\n",
              "  text-decoration: none !important;\n",
              "  margin-left: 0.5em;\n",
              "  text-align: center;\n",
              "  /* unfitted */\n",
              "  border: var(--sklearn-color-unfitted-level-1) 1pt solid;\n",
              "  color: var(--sklearn-color-unfitted-level-1);\n",
              "}\n",
              "\n",
              ".sk-estimator-doc-link.fitted,\n",
              "a:link.sk-estimator-doc-link.fitted,\n",
              "a:visited.sk-estimator-doc-link.fitted {\n",
              "  /* fitted */\n",
              "  border: var(--sklearn-color-fitted-level-1) 1pt solid;\n",
              "  color: var(--sklearn-color-fitted-level-1);\n",
              "}\n",
              "\n",
              "/* On hover */\n",
              "div.sk-estimator:hover .sk-estimator-doc-link:hover,\n",
              ".sk-estimator-doc-link:hover,\n",
              "div.sk-label-container:hover .sk-estimator-doc-link:hover,\n",
              ".sk-estimator-doc-link:hover {\n",
              "  /* unfitted */\n",
              "  background-color: var(--sklearn-color-unfitted-level-3);\n",
              "  color: var(--sklearn-color-background);\n",
              "  text-decoration: none;\n",
              "}\n",
              "\n",
              "div.sk-estimator.fitted:hover .sk-estimator-doc-link.fitted:hover,\n",
              ".sk-estimator-doc-link.fitted:hover,\n",
              "div.sk-label-container:hover .sk-estimator-doc-link.fitted:hover,\n",
              ".sk-estimator-doc-link.fitted:hover {\n",
              "  /* fitted */\n",
              "  background-color: var(--sklearn-color-fitted-level-3);\n",
              "  color: var(--sklearn-color-background);\n",
              "  text-decoration: none;\n",
              "}\n",
              "\n",
              "/* Span, style for the box shown on hovering the info icon */\n",
              ".sk-estimator-doc-link span {\n",
              "  display: none;\n",
              "  z-index: 9999;\n",
              "  position: relative;\n",
              "  font-weight: normal;\n",
              "  right: .2ex;\n",
              "  padding: .5ex;\n",
              "  margin: .5ex;\n",
              "  width: min-content;\n",
              "  min-width: 20ex;\n",
              "  max-width: 50ex;\n",
              "  color: var(--sklearn-color-text);\n",
              "  box-shadow: 2pt 2pt 4pt #999;\n",
              "  /* unfitted */\n",
              "  background: var(--sklearn-color-unfitted-level-0);\n",
              "  border: .5pt solid var(--sklearn-color-unfitted-level-3);\n",
              "}\n",
              "\n",
              ".sk-estimator-doc-link.fitted span {\n",
              "  /* fitted */\n",
              "  background: var(--sklearn-color-fitted-level-0);\n",
              "  border: var(--sklearn-color-fitted-level-3);\n",
              "}\n",
              "\n",
              ".sk-estimator-doc-link:hover span {\n",
              "  display: block;\n",
              "}\n",
              "\n",
              "/* \"?\"-specific style due to the `<a>` HTML tag */\n",
              "\n",
              "#sk-container-id-1 a.estimator_doc_link {\n",
              "  float: right;\n",
              "  font-size: 1rem;\n",
              "  line-height: 1em;\n",
              "  font-family: monospace;\n",
              "  background-color: var(--sklearn-color-background);\n",
              "  border-radius: 1rem;\n",
              "  height: 1rem;\n",
              "  width: 1rem;\n",
              "  text-decoration: none;\n",
              "  /* unfitted */\n",
              "  color: var(--sklearn-color-unfitted-level-1);\n",
              "  border: var(--sklearn-color-unfitted-level-1) 1pt solid;\n",
              "}\n",
              "\n",
              "#sk-container-id-1 a.estimator_doc_link.fitted {\n",
              "  /* fitted */\n",
              "  border: var(--sklearn-color-fitted-level-1) 1pt solid;\n",
              "  color: var(--sklearn-color-fitted-level-1);\n",
              "}\n",
              "\n",
              "/* On hover */\n",
              "#sk-container-id-1 a.estimator_doc_link:hover {\n",
              "  /* unfitted */\n",
              "  background-color: var(--sklearn-color-unfitted-level-3);\n",
              "  color: var(--sklearn-color-background);\n",
              "  text-decoration: none;\n",
              "}\n",
              "\n",
              "#sk-container-id-1 a.estimator_doc_link.fitted:hover {\n",
              "  /* fitted */\n",
              "  background-color: var(--sklearn-color-fitted-level-3);\n",
              "}\n",
              "</style><div id=\"sk-container-id-1\" class=\"sk-top-container\"><div class=\"sk-text-repr-fallback\"><pre>OneHotEncoder(handle_unknown=&#x27;ignore&#x27;)</pre><b>In a Jupyter environment, please rerun this cell to show the HTML representation or trust the notebook. <br />On GitHub, the HTML representation is unable to render, please try loading this page with nbviewer.org.</b></div><div class=\"sk-container\" hidden><div class=\"sk-item\"><div class=\"sk-estimator fitted sk-toggleable\"><input class=\"sk-toggleable__control sk-hidden--visually\" id=\"sk-estimator-id-1\" type=\"checkbox\" checked><label for=\"sk-estimator-id-1\" class=\"sk-toggleable__label fitted sk-toggleable__label-arrow\"><div><div>OneHotEncoder</div></div><div><a class=\"sk-estimator-doc-link fitted\" rel=\"noreferrer\" target=\"_blank\" href=\"https://scikit-learn.org/1.6/modules/generated/sklearn.preprocessing.OneHotEncoder.html\">?<span>Documentation for OneHotEncoder</span></a><span class=\"sk-estimator-doc-link fitted\">i<span>Fitted</span></span></div></label><div class=\"sk-toggleable__content fitted\"><pre>OneHotEncoder(handle_unknown=&#x27;ignore&#x27;)</pre></div> </div></div></div></div>"
            ]
          },
          "metadata": {},
          "execution_count": 5
        }
      ]
    },
    {
      "cell_type": "code",
      "source": [
        "columns_to_select = [\n",
        "    'sttl', 'dttl', 'trans_depth', 'res_bdy_len', 'stime', 'sintpkt', 'dintpkt',\n",
        "    'tcprtt', 'synack', 'ackdat', 'is_sm_ips_ports', 'ct_state_ttl',\n",
        "    'ct_flw_http_mthd', 'is_ftp_login', 'ct_ftp_cmd', 'ct_srv_src',\n",
        "    'ct_dst_ltm', 'ct_src_ltm', 'ct_dst_sport_ltm'\n",
        "]\n",
        "\n",
        "# Ensure columns exist in both train and test datasets\n",
        "x_train_final = x_train[columns_to_select]\n",
        "x_test_final = x_test[columns_to_select]"
      ],
      "metadata": {
        "id": "q7YC7EDSgE5t"
      },
      "execution_count": null,
      "outputs": []
    },
    {
      "cell_type": "code",
      "source": [
        "x_train_final = x_train[train_columns.intersection(test_columns)]\n",
        "x_test_final = x_test[test_columns.intersection(train_columns)]\n",
        "\n",
        "print(\"Columns in x_train_final after adjustment:\", x_train_final.columns)\n",
        "print(\"Columns in x_test_final after adjustment:\", x_test_final.columns)\n"
      ],
      "metadata": {
        "colab": {
          "base_uri": "https://localhost:8080/"
        },
        "id": "7TPPESiWTKHd",
        "outputId": "7a97878e-1a8d-49c3-edd8-3daf94486c1b"
      },
      "execution_count": null,
      "outputs": [
        {
          "output_type": "stream",
          "name": "stdout",
          "text": [
            "Columns in x_train_final after adjustment: Index(['proto', 'state', 'sttl', 'dttl', 'service', 'swin', 'trans_depth',\n",
            "       'res_bdy_len', 'stime', 'sintpkt', 'dintpkt', 'tcprtt', 'synack',\n",
            "       'ackdat', 'is_sm_ips_ports', 'ct_state_ttl', 'ct_flw_http_mthd',\n",
            "       'is_ftp_login', 'ct_ftp_cmd', 'ct_srv_src', 'ct_dst_ltm', 'ct_src_ltm',\n",
            "       'ct_dst_sport_ltm'],\n",
            "      dtype='object')\n",
            "Columns in x_test_final after adjustment: Index(['proto', 'state', 'sttl', 'dttl', 'service', 'swin', 'trans_depth',\n",
            "       'res_bdy_len', 'stime', 'sintpkt', 'dintpkt', 'tcprtt', 'synack',\n",
            "       'ackdat', 'is_sm_ips_ports', 'ct_state_ttl', 'ct_flw_http_mthd',\n",
            "       'is_ftp_login', 'ct_ftp_cmd', 'ct_srv_src', 'ct_dst_ltm', 'ct_src_ltm',\n",
            "       'ct_dst_sport_ltm'],\n",
            "      dtype='object')\n"
          ]
        }
      ]
    },
    {
      "cell_type": "code",
      "source": [
        "# Remove columns that have a name of 0\n",
        "\n",
        "x_train_final = x_train_final.loc[:, x_train_final.columns != 0]\n",
        "x_test_final = x_test_final.loc[:, x_test_final.columns != 0]\n",
        "\n",
        "print(\"Columns in x_train_final after removing '0' columns:\", x_train_final.columns)\n",
        "print(\"Columns in x_test_final after removing '0' columns:\", x_test_final.columns)"
      ],
      "metadata": {
        "colab": {
          "base_uri": "https://localhost:8080/"
        },
        "id": "sWtFI9JRT_XK",
        "outputId": "4d269188-e74f-4c20-a068-1f2b610b1251"
      },
      "execution_count": null,
      "outputs": [
        {
          "output_type": "stream",
          "name": "stdout",
          "text": [
            "Columns in x_train_final after removing '0' columns: Index(['proto', 'state', 'sttl', 'dttl', 'service', 'swin', 'trans_depth',\n",
            "       'res_bdy_len', 'stime', 'sintpkt', 'dintpkt', 'tcprtt', 'synack',\n",
            "       'ackdat', 'is_sm_ips_ports', 'ct_state_ttl', 'ct_flw_http_mthd',\n",
            "       'is_ftp_login', 'ct_ftp_cmd', 'ct_srv_src', 'ct_dst_ltm', 'ct_src_ltm',\n",
            "       'ct_dst_sport_ltm'],\n",
            "      dtype='object')\n",
            "Columns in x_test_final after removing '0' columns: Index(['proto', 'state', 'sttl', 'dttl', 'service', 'swin', 'trans_depth',\n",
            "       'res_bdy_len', 'stime', 'sintpkt', 'dintpkt', 'tcprtt', 'synack',\n",
            "       'ackdat', 'is_sm_ips_ports', 'ct_state_ttl', 'ct_flw_http_mthd',\n",
            "       'is_ftp_login', 'ct_ftp_cmd', 'ct_srv_src', 'ct_dst_ltm', 'ct_src_ltm',\n",
            "       'ct_dst_sport_ltm'],\n",
            "      dtype='object')\n"
          ]
        }
      ]
    },
    {
      "cell_type": "code",
      "source": [
        "x_train_final.isnull().sum(), x_test_final.isnull().sum()"
      ],
      "metadata": {
        "colab": {
          "base_uri": "https://localhost:8080/"
        },
        "id": "TbC3nIRaUSKZ",
        "outputId": "f7039763-f418-4a42-ba9f-555bb4ff0824"
      },
      "execution_count": null,
      "outputs": [
        {
          "output_type": "execute_result",
          "data": {
            "text/plain": [
              "(proto               0\n",
              " state               0\n",
              " sttl                0\n",
              " dttl                0\n",
              " service             0\n",
              " swin                0\n",
              " trans_depth         0\n",
              " res_bdy_len         0\n",
              " stime               0\n",
              " sintpkt             0\n",
              " dintpkt             0\n",
              " tcprtt              0\n",
              " synack              0\n",
              " ackdat              0\n",
              " is_sm_ips_ports     0\n",
              " ct_state_ttl        0\n",
              " ct_flw_http_mthd    0\n",
              " is_ftp_login        0\n",
              " ct_ftp_cmd          0\n",
              " ct_srv_src          0\n",
              " ct_dst_ltm          0\n",
              " ct_src_ltm          0\n",
              " ct_dst_sport_ltm    0\n",
              " dtype: int64,\n",
              " proto                    0\n",
              " state                    0\n",
              " sttl                     0\n",
              " dttl                     0\n",
              " service                  0\n",
              " swin                     0\n",
              " trans_depth              0\n",
              " res_bdy_len              0\n",
              " stime                    0\n",
              " sintpkt                  0\n",
              " dintpkt                  0\n",
              " tcprtt                   0\n",
              " synack                   0\n",
              " ackdat                   0\n",
              " is_sm_ips_ports          0\n",
              " ct_state_ttl             0\n",
              " ct_flw_http_mthd    404269\n",
              " is_ftp_login        428842\n",
              " ct_ftp_cmd               0\n",
              " ct_srv_src               0\n",
              " ct_dst_ltm               0\n",
              " ct_src_ltm               0\n",
              " ct_dst_sport_ltm         0\n",
              " dtype: int64)"
            ]
          },
          "metadata": {},
          "execution_count": 9
        }
      ]
    },
    {
      "cell_type": "code",
      "source": [
        "print(\"Missing values in test dataset:\")\n",
        "print(x_test_final.isna().sum())\n",
        "\n",
        "categorical_imputer = SimpleImputer(strategy='most_frequent')\n",
        "columns_to_impute = ['ct_flw_http_mthd', 'is_ftp_login']\n",
        "\n",
        "for col in columns_to_impute:\n",
        "  x_test_final[col] = categorical_imputer.fit_transform(x_test_final[[col]])\n",
        "\n",
        "print(\"\\n After Imputation:\")\n",
        "print(x_test_final.isna().sum())\n",
        "\n"
      ],
      "metadata": {
        "colab": {
          "base_uri": "https://localhost:8080/"
        },
        "id": "RIfk4B9XgYtC",
        "outputId": "335bec3b-a287-49a6-ce2d-5640a47156d3"
      },
      "execution_count": null,
      "outputs": [
        {
          "output_type": "stream",
          "name": "stdout",
          "text": [
            "Missing values in test dataset:\n",
            "proto                    0\n",
            "state                    0\n",
            "sttl                     0\n",
            "dttl                     0\n",
            "service                  0\n",
            "swin                     0\n",
            "trans_depth              0\n",
            "res_bdy_len              0\n",
            "stime                    0\n",
            "sintpkt                  0\n",
            "dintpkt                  0\n",
            "tcprtt                   0\n",
            "synack                   0\n",
            "ackdat                   0\n",
            "is_sm_ips_ports          0\n",
            "ct_state_ttl             0\n",
            "ct_flw_http_mthd    404269\n",
            "is_ftp_login        428842\n",
            "ct_ftp_cmd               0\n",
            "ct_srv_src               0\n",
            "ct_dst_ltm               0\n",
            "ct_src_ltm               0\n",
            "ct_dst_sport_ltm         0\n",
            "dtype: int64\n",
            "\n",
            " After Imputation:\n",
            "proto               0\n",
            "state               0\n",
            "sttl                0\n",
            "dttl                0\n",
            "service             0\n",
            "swin                0\n",
            "trans_depth         0\n",
            "res_bdy_len         0\n",
            "stime               0\n",
            "sintpkt             0\n",
            "dintpkt             0\n",
            "tcprtt              0\n",
            "synack              0\n",
            "ackdat              0\n",
            "is_sm_ips_ports     0\n",
            "ct_state_ttl        0\n",
            "ct_flw_http_mthd    0\n",
            "is_ftp_login        0\n",
            "ct_ftp_cmd          0\n",
            "ct_srv_src          0\n",
            "ct_dst_ltm          0\n",
            "ct_src_ltm          0\n",
            "ct_dst_sport_ltm    0\n",
            "dtype: int64\n"
          ]
        }
      ]
    },
    {
      "cell_type": "code",
      "source": [
        "# Check which columns in the datasets are non-numeric\n",
        "non_numeric_train = x_train_final.select_dtypes(exclude=['number']).columns\n",
        "non_numeric_test = x_test_final.select_dtypes(exclude=['number']).columns\n",
        "\n",
        "print(f\"Non-numeric columns in train dataset: {non_numeric_train}\")\n",
        "print(f\"Non-numeric columns in test dataset: {non_numeric_test}\")"
      ],
      "metadata": {
        "colab": {
          "base_uri": "https://localhost:8080/"
        },
        "id": "IPC6JA8BhMDK",
        "outputId": "9fe88eb3-0ec0-4675-a4ee-fcc1d89bd624"
      },
      "execution_count": null,
      "outputs": [
        {
          "output_type": "stream",
          "name": "stdout",
          "text": [
            "Non-numeric columns in train dataset: Index(['proto', 'state', 'service', 'ct_ftp_cmd'], dtype='object')\n",
            "Non-numeric columns in test dataset: Index(['proto', 'state', 'service', 'ct_ftp_cmd'], dtype='object')\n"
          ]
        }
      ]
    },
    {
      "cell_type": "code",
      "source": [
        "x_train_final.shape, x_test_final.shape"
      ],
      "metadata": {
        "colab": {
          "base_uri": "https://localhost:8080/"
        },
        "id": "tBcsfIw4UUiQ",
        "outputId": "afa3d46e-59d7-473a-a4ad-20925eca41a2"
      },
      "execution_count": null,
      "outputs": [
        {
          "output_type": "execute_result",
          "data": {
            "text/plain": [
              "((1778032, 23), (762015, 23))"
            ]
          },
          "metadata": {},
          "execution_count": 12
        }
      ]
    },
    {
      "cell_type": "code",
      "source": [
        "# Check the data types of columns in both datasets\n",
        "train_data_types = x_train_final.dtypes\n",
        "test_data_types = x_test_final.dtypes\n",
        "\n",
        "print(\"Data types in train:\", train_data_types)\n",
        "print(\"Data types in test:\", test_data_types)\n",
        "\n",
        "# Check for any NaN or infinite values\n",
        "train_nan_or_inf = x_train_final.isna().sum(), (x_train_final == float('inf')).sum()\n",
        "test_nan_or_inf = x_test_final.isna().sum(), (x_test_final == float('inf')).sum()\n",
        "\n",
        "print(\"NaN or Infinite values in train:\", train_nan_or_inf)\n",
        "print(\"NaN or Infinite values in test:\", test_nan_or_inf)\n"
      ],
      "metadata": {
        "colab": {
          "base_uri": "https://localhost:8080/"
        },
        "id": "d8dXJ98Yb6gL",
        "outputId": "b2ff79c5-a9c1-47b6-ceb5-86d30f1d8c42"
      },
      "execution_count": null,
      "outputs": [
        {
          "output_type": "stream",
          "name": "stdout",
          "text": [
            "Data types in train: proto                object\n",
            "state                object\n",
            "sttl                  int64\n",
            "dttl                  int64\n",
            "service              object\n",
            "swin                  int64\n",
            "trans_depth           int64\n",
            "res_bdy_len           int64\n",
            "stime                 int64\n",
            "sintpkt             float64\n",
            "dintpkt             float64\n",
            "tcprtt              float64\n",
            "synack              float64\n",
            "ackdat              float64\n",
            "is_sm_ips_ports       int64\n",
            "ct_state_ttl          int64\n",
            "ct_flw_http_mthd    float64\n",
            "is_ftp_login          int64\n",
            "ct_ftp_cmd           object\n",
            "ct_srv_src            int64\n",
            "ct_dst_ltm            int64\n",
            "ct_src_ltm            int64\n",
            "ct_dst_sport_ltm      int64\n",
            "dtype: object\n",
            "Data types in test: proto                object\n",
            "state                object\n",
            "sttl                  int64\n",
            "dttl                  int64\n",
            "service              object\n",
            "swin                  int64\n",
            "trans_depth           int64\n",
            "res_bdy_len           int64\n",
            "stime                 int64\n",
            "sintpkt             float64\n",
            "dintpkt             float64\n",
            "tcprtt              float64\n",
            "synack              float64\n",
            "ackdat              float64\n",
            "is_sm_ips_ports       int64\n",
            "ct_state_ttl          int64\n",
            "ct_flw_http_mthd    float64\n",
            "is_ftp_login        float64\n",
            "ct_ftp_cmd           object\n",
            "ct_srv_src            int64\n",
            "ct_dst_ltm            int64\n",
            "ct_src_ltm            int64\n",
            "ct_dst_sport_ltm      int64\n",
            "dtype: object\n",
            "NaN or Infinite values in train: (proto               0\n",
            "state               0\n",
            "sttl                0\n",
            "dttl                0\n",
            "service             0\n",
            "swin                0\n",
            "trans_depth         0\n",
            "res_bdy_len         0\n",
            "stime               0\n",
            "sintpkt             0\n",
            "dintpkt             0\n",
            "tcprtt              0\n",
            "synack              0\n",
            "ackdat              0\n",
            "is_sm_ips_ports     0\n",
            "ct_state_ttl        0\n",
            "ct_flw_http_mthd    0\n",
            "is_ftp_login        0\n",
            "ct_ftp_cmd          0\n",
            "ct_srv_src          0\n",
            "ct_dst_ltm          0\n",
            "ct_src_ltm          0\n",
            "ct_dst_sport_ltm    0\n",
            "dtype: int64, proto               0\n",
            "state               0\n",
            "sttl                0\n",
            "dttl                0\n",
            "service             0\n",
            "swin                0\n",
            "trans_depth         0\n",
            "res_bdy_len         0\n",
            "stime               0\n",
            "sintpkt             0\n",
            "dintpkt             0\n",
            "tcprtt              0\n",
            "synack              0\n",
            "ackdat              0\n",
            "is_sm_ips_ports     0\n",
            "ct_state_ttl        0\n",
            "ct_flw_http_mthd    0\n",
            "is_ftp_login        0\n",
            "ct_ftp_cmd          0\n",
            "ct_srv_src          0\n",
            "ct_dst_ltm          0\n",
            "ct_src_ltm          0\n",
            "ct_dst_sport_ltm    0\n",
            "dtype: int64)\n",
            "NaN or Infinite values in test: (proto               0\n",
            "state               0\n",
            "sttl                0\n",
            "dttl                0\n",
            "service             0\n",
            "swin                0\n",
            "trans_depth         0\n",
            "res_bdy_len         0\n",
            "stime               0\n",
            "sintpkt             0\n",
            "dintpkt             0\n",
            "tcprtt              0\n",
            "synack              0\n",
            "ackdat              0\n",
            "is_sm_ips_ports     0\n",
            "ct_state_ttl        0\n",
            "ct_flw_http_mthd    0\n",
            "is_ftp_login        0\n",
            "ct_ftp_cmd          0\n",
            "ct_srv_src          0\n",
            "ct_dst_ltm          0\n",
            "ct_src_ltm          0\n",
            "ct_dst_sport_ltm    0\n",
            "dtype: int64, proto               0\n",
            "state               0\n",
            "sttl                0\n",
            "dttl                0\n",
            "service             0\n",
            "swin                0\n",
            "trans_depth         0\n",
            "res_bdy_len         0\n",
            "stime               0\n",
            "sintpkt             0\n",
            "dintpkt             0\n",
            "tcprtt              0\n",
            "synack              0\n",
            "ackdat              0\n",
            "is_sm_ips_ports     0\n",
            "ct_state_ttl        0\n",
            "ct_flw_http_mthd    0\n",
            "is_ftp_login        0\n",
            "ct_ftp_cmd          0\n",
            "ct_srv_src          0\n",
            "ct_dst_ltm          0\n",
            "ct_src_ltm          0\n",
            "ct_dst_sport_ltm    0\n",
            "dtype: int64)\n"
          ]
        }
      ]
    },
    {
      "cell_type": "code",
      "source": [
        "# Check which columns in the datasets are non-numeric\n",
        "non_numeric_train = x_train_final.select_dtypes(exclude=['number']).columns\n",
        "non_numeric_test = x_test_final.select_dtypes(exclude=['number']).columns\n",
        "\n",
        "print(f\"Non-numeric columns in train dataset: {non_numeric_train}\")\n",
        "print(f\"Non-numeric columns in test dataset: {non_numeric_test}\")\n"
      ],
      "metadata": {
        "colab": {
          "base_uri": "https://localhost:8080/"
        },
        "id": "w1mOQ5sPbyLL",
        "outputId": "bb3d8663-b9bd-4cc6-d6f8-55ac14d4001a"
      },
      "execution_count": null,
      "outputs": [
        {
          "output_type": "stream",
          "name": "stdout",
          "text": [
            "Non-numeric columns in train dataset: Index(['proto', 'state', 'service', 'ct_ftp_cmd'], dtype='object')\n",
            "Non-numeric columns in test dataset: Index(['proto', 'state', 'service', 'ct_ftp_cmd'], dtype='object')\n"
          ]
        }
      ]
    },
    {
      "cell_type": "code",
      "source": [
        "x_train_final.shape, x_test_final.shape"
      ],
      "metadata": {
        "colab": {
          "base_uri": "https://localhost:8080/"
        },
        "id": "JBuqUymGh3u3",
        "outputId": "5a7b17fa-e4d8-4fb5-c697-564c626d2dcb"
      },
      "execution_count": null,
      "outputs": [
        {
          "output_type": "execute_result",
          "data": {
            "text/plain": [
              "((1778032, 23), (762015, 23))"
            ]
          },
          "metadata": {},
          "execution_count": 15
        }
      ]
    },
    {
      "cell_type": "code",
      "source": [
        "all(x_train_final.columns ==  x_test_final.columns)"
      ],
      "metadata": {
        "id": "vVEPDVNSiea0",
        "colab": {
          "base_uri": "https://localhost:8080/"
        },
        "outputId": "d363e78a-5413-491b-d367-ec1a5a42b482"
      },
      "execution_count": null,
      "outputs": [
        {
          "output_type": "execute_result",
          "data": {
            "text/plain": [
              "True"
            ]
          },
          "metadata": {},
          "execution_count": 16
        }
      ]
    },
    {
      "cell_type": "code",
      "source": [
        "categorical_columns = ['proto', 'state', 'service', 'ct_ftp_cmd']\n",
        "\n",
        "label_encoder = LabelEncoder()\n",
        "\n",
        "for column in categorical_columns:\n",
        "  if column in x_train_final.columns:\n",
        "    x_train_final[column] = label_encoder.fit_transform(x_train_final[column])\n",
        "  if column in x_test_final.columns:\n",
        "    x_test_final[column] = label_encoder.transform(x_test_final[column])\n"
      ],
      "metadata": {
        "id": "wcZw9aGiiOnb"
      },
      "execution_count": null,
      "outputs": []
    },
    {
      "cell_type": "code",
      "source": [
        "print(x_train_final['proto'].value_counts())\n",
        "print(x_train_final['service'].value_counts())\n",
        "print(x_train_final['state'].value_counts())"
      ],
      "metadata": {
        "id": "5elo5r0Vh32G",
        "colab": {
          "base_uri": "https://localhost:8080/"
        },
        "outputId": "44a86648-f0c1-4576-cfac-f6bb957c15f3"
      },
      "execution_count": null,
      "outputs": [
        {
          "output_type": "stream",
          "name": "stdout",
          "text": [
            "proto\n",
            "114    1046516\n",
            "120     693140\n",
            "122      11373\n",
            "6         7070\n",
            "79        5455\n",
            "        ...   \n",
            "45          83\n",
            "43          47\n",
            "121          6\n",
            "92           5\n",
            "27           1\n",
            "Name: count, Length: 135, dtype: int64\n",
            "service\n",
            "0     872286\n",
            "2     547094\n",
            "5     144555\n",
            "4      88310\n",
            "9      57160\n",
            "3      34293\n",
            "11     32897\n",
            "7       1076\n",
            "1        124\n",
            "12       109\n",
            "10        81\n",
            "8         27\n",
            "6         20\n",
            "Name: count, dtype: int64\n",
            "state\n",
            "5     1034981\n",
            "2      392422\n",
            "6      343397\n",
            "9        6361\n",
            "10        368\n",
            "3         227\n",
            "1         108\n",
            "13         78\n",
            "0          34\n",
            "8          20\n",
            "11          8\n",
            "14          7\n",
            "4           7\n",
            "15          6\n",
            "12          4\n",
            "7           4\n",
            "Name: count, dtype: int64\n"
          ]
        }
      ]
    },
    {
      "cell_type": "code",
      "source": [],
      "metadata": {
        "id": "3s09RLXPi1XA"
      },
      "execution_count": null,
      "outputs": []
    },
    {
      "cell_type": "markdown",
      "source": [
        "## **Semi-Customized Decision Tree Regression**"
      ],
      "metadata": {
        "id": "ICODMMs4Z8Xt"
      }
    },
    {
      "cell_type": "code",
      "source": [
        "def encode_categorical_columns(x_train, x_test, categorical_columns):\n",
        "    \"\"\"\n",
        "    Encodes the categorical columns using LabelEncoder for both train and test sets.\n",
        "    Args:\n",
        "    - x_train: Training dataset.\n",
        "    - x_test: Test dataset.\n",
        "    - categorical_columns: List of categorical column names to encode.\n",
        "\n",
        "    Returns:\n",
        "    - x_train_encoded: Encoded training dataset.\n",
        "    - x_test_encoded: Encoded test dataset.\n",
        "    \"\"\"\n",
        "    label_encoder = LabelEncoder()\n",
        "\n",
        "    for column in categorical_columns:\n",
        "        if column in x_train.columns:\n",
        "            x_train[column] = label_encoder.fit_transform(x_train[column])\n",
        "        if column in x_test.columns:\n",
        "            x_test[column] = label_encoder.transform(x_test[column])\n",
        "\n",
        "    return x_train, x_test\n",
        "\n",
        "def train_decision_tree(x_train, y_train, random_state=42):\n",
        "    \"\"\"\n",
        "    Trains a Decision Tree Regressor model.\n",
        "    Args:\n",
        "    - x_train: Training feature dataset.\n",
        "    - y_train: Training target dataset.\n",
        "    - random_state: Seed for reproducibility.\n",
        "\n",
        "    Returns:\n",
        "    - regressor: Trained Decision Tree Regressor model.\n",
        "    \"\"\"\n",
        "    regressor = DecisionTreeRegressor(random_state=random_state)\n",
        "    regressor.fit(x_train, y_train)\n",
        "    return regressor\n",
        "\n",
        "def evaluate_model(y_test, y_pred):\n",
        "    \"\"\"\n",
        "    Evaluates the model performance using RMSE and R² score.\n",
        "    Args:\n",
        "    - y_test: True target values for the test set.\n",
        "    - y_pred: Predicted target values from the model.\n",
        "\n",
        "    Returns:\n",
        "    - rmse: Root Mean Squared Error of the predictions.\n",
        "    - r2: R² score of the predictions.\n",
        "    \"\"\"\n",
        "    mse = mean_squared_error(y_test, y_pred)\n",
        "    rmse = np.sqrt(mse)\n",
        "    r2 = r2_score(y_test, y_pred)\n",
        "    return rmse, r2\n",
        "\n",
        "categorical_columns = ['proto', 'state', 'service', 'ct_ftp_cmd']\n",
        "x_train_encoded, x_test_encoded = encode_categorical_columns(x_train_final, x_test_final, categorical_columns)\n",
        "regressor = train_decision_tree(x_train_encoded, y_train)\n",
        "y_pred = regressor.predict(x_test_encoded)\n",
        "rmse, r2 = evaluate_model(y_test, y_pred)\n",
        "\n",
        "\n",
        "print(\"Root Mean Squared Error (RMSE):\", rmse)\n",
        "print(\"R² Score:\", r2)\n"
      ],
      "metadata": {
        "id": "-tydcRNRb0_p",
        "colab": {
          "base_uri": "https://localhost:8080/"
        },
        "outputId": "e6b4d44a-a32e-4b78-d3ad-e443cd8c5384"
      },
      "execution_count": null,
      "outputs": [
        {
          "output_type": "stream",
          "name": "stdout",
          "text": [
            "Root Mean Squared Error (RMSE): 0.09149367843525728\n",
            "R² Score: 0.9240519259609553\n"
          ]
        }
      ]
    },
    {
      "cell_type": "markdown",
      "source": [
        "### **Analysis: Decision Tree Regressor**\n",
        "\n",
        "  - **Non-linear Interactions:** Models intricate dependencies among features, such as the combined effect of synack and dintpkt in identifying stealthy attacks.\n",
        "  - **Metrics:**\n",
        "    - R²: **0.924**\n",
        "    - RMSE: **0.091**\n",
        "  - **Interpretability:** The tree structure provides a visual hierarchy of feature importance, aiding cybersecurity teams in understanding decision-making processes.\n",
        "\n",
        "**Key Insight:** The synergy of Logistic Regression’s interpretability and Decision Trees’ non-linear modeling ensures robust and adaptable APT detection."
      ],
      "metadata": {
        "id": "JOq-SGFuZ4-3"
      }
    },
    {
      "cell_type": "markdown",
      "source": [
        "## **Semi-Customized Logistic Regression + Encoding Deploy**"
      ],
      "metadata": {
        "id": "pI98aVE0ZljU"
      }
    },
    {
      "cell_type": "code",
      "source": [
        "def encode_categorical_columns(x_train, x_test, categorical_columns):\n",
        "    \"\"\"\n",
        "    Encodes the categorical columns using LabelEncoder for both train and test sets.\n",
        "    Args:\n",
        "    - x_train: Training dataset.\n",
        "    - x_test: Test dataset.\n",
        "    - categorical_columns: List of categorical column names to encode.\n",
        "\n",
        "    Returns:\n",
        "    - x_train_encoded: Encoded training dataset.\n",
        "    - x_test_encoded: Encoded test dataset.\n",
        "    \"\"\"\n",
        "    label_encoder = LabelEncoder()\n",
        "\n",
        "    for column in categorical_columns:\n",
        "        if column in x_train.columns:\n",
        "            x_train[column] = label_encoder.fit_transform(x_train[column])\n",
        "        if column in x_test.columns:\n",
        "            x_test[column] = label_encoder.transform(x_test[column])\n",
        "\n",
        "    return x_train, x_test\n",
        "\n",
        "def train_logistic_regression(x_train, y_train, random_state=42):\n",
        "    \"\"\"\n",
        "    Trains a Logistic Regression model.\n",
        "    Args:\n",
        "    - x_train: Training feature dataset.\n",
        "    - y_train: Training target dataset.\n",
        "    - random_state: Seed for reproducibility.\n",
        "\n",
        "    Returns:\n",
        "    - model: Trained Logistic Regression model.\n",
        "    \"\"\"\n",
        "    model = LogisticRegression(random_state=random_state, max_iter=1000)\n",
        "    model.fit(x_train, y_train)\n",
        "    return model\n",
        "\n",
        "def evaluate_model(y_test, y_pred):\n",
        "    \"\"\"\n",
        "    Evaluates the model performance using accuracy score.\n",
        "    Args:\n",
        "    - y_test: True target values for the test set.\n",
        "    - y_pred: Predicted target values from the model.\n",
        "\n",
        "    Returns:\n",
        "    - accuracy: Accuracy of the predictions.\n",
        "    \"\"\"\n",
        "    accuracy = accuracy_score(y_test, y_pred)\n",
        "    return accuracy\n",
        "\n",
        "categorical_columns = ['proto', 'state', 'service', 'ct_ftp_cmd']\n",
        "x_train_encoded, x_test_encoded = encode_categorical_columns(x_train_final, x_test_final, categorical_columns)\n",
        "logistic_model = train_logistic_regression(x_train_encoded, y_train)\n",
        "y_pred = logistic_model.predict(x_test_encoded)\n",
        "accuracy = evaluate_model(y_test, y_pred)\n",
        "print(\"Accuracy of the Logistic Regression model:\", accuracy)\n"
      ],
      "metadata": {
        "id": "DtIb9sCUb1Gb",
        "colab": {
          "base_uri": "https://localhost:8080/"
        },
        "outputId": "8ac105f2-a3a0-4104-d34c-fe58c1cfefdd"
      },
      "execution_count": null,
      "outputs": [
        {
          "output_type": "stream",
          "name": "stdout",
          "text": [
            "Accuracy of the Logistic Regression model: 0.9722525147142773\n"
          ]
        }
      ]
    },
    {
      "cell_type": "markdown",
      "source": [
        "### **Analysis: Logistic Regression**\n",
        "\n",
        "  - **Linear Relationships:** Exploits linear seperability in feature spaces to classify benign and malicious activities.\n",
        "  - **Metrics:**\n",
        "    - Accuracy: **97.2%**\n",
        "    - Precision: Indicates minimal false positives, essential in high-stakes environments like cybersecurity.\n",
        "    - **Use Case:** Particularly effective for scenarios where APTs exhibit strong, isolated anomalies (e.g., unusual `stime` or `tcprtt` values)\n"
      ],
      "metadata": {
        "id": "UTXDJsapLAjf"
      }
    },
    {
      "cell_type": "markdown",
      "source": [
        "# **Deploying APT Detection Algorithm**"
      ],
      "metadata": {
        "id": "8vmq12rk-25w"
      }
    },
    {
      "cell_type": "markdown",
      "source": [
        "This project carefully curated machine learning framework to address the multifaceted challenges posed by Advanced Persistent Threats(APTs). It is synthesis of feature engineering, robust preprocessing, algorithmic choices and effective evaluation metrics.This analysis highlights how these components collectively enhance APT detection.\n",
        "\n",
        "1. Comprehensive Feature Engineering:\n",
        "\n",
        "  - **Temporal Features:**\n",
        "    - `stime`(Session Time): Captures anomalies in session duration. Long or short session durations may indicate automated attacks or prolonged unauthorized access.\n",
        "    - `sintpkt` and `dinpkt`(Inter-packet Times): Identify stealthy APT behaviors y detecting irregular communications intervals.\n",
        "\n",
        "  - **Packet-Level Features:**\n",
        "    - `sttl` and `dttl`(Source/Destination Times): Monitor unusual Time-t0-Live(TTL) values. A mismatch in TTL values often signals packet manipulation or routing irregularities, such as in reconnaissance.\n",
        "    - `synack` and `ackdat`: Reflect anomalies in the TCP handshake process, revealing session hijacking, scanning, or connection tampering.\n",
        "\n",
        "  - **Transaction-Level Features:**\n",
        "    - `trans_depth`: Detects probing or deep scannign activities.\n",
        "    - `res_bdy_len`: Unusual response body lengths can point to data exfiltration or the use of abnormal response payloads in attacks.\n",
        "\n",
        "  - **Behavioral Features:**\n",
        "    - `tcprtt`(TCP Round Trip Time): High RTT values may indicate network congestion caused by an APT or latency introduced by intermediary attack stages.\n",
        "    - Encoded categorical features (`proto`, `state`, `service`): Capture protocol-specific nuances that may reveal suspicious patterns.\n",
        "\n",
        "**Key Insights:** The model's feature set is both diverse and targeted, balancing high-level behavioral patterns with granular network anomalies. This strategic selection maximizes the detection potential for both known and novel APTs."
      ],
      "metadata": {
        "id": "J2KznZQ0Gazl"
      }
    },
    {
      "cell_type": "code",
      "source": [
        "class APTDetection:\n",
        "    def __init__(self, x_train, x_test, y_train, y_test, model_type='decision_tree', random_state=42):\n",
        "        \"\"\"\n",
        "        APTDetection class to train either Decision Tree or Logistic Regression classifiers for advanced persistent threat detection.\n",
        "\n",
        "        Args:\n",
        "        - x_train: Training features dataset.\n",
        "        - x_test: Test features dataset.\n",
        "        - y_train: Training target (labels) dataset.\n",
        "        - y_test: Test target (labels) dataset.\n",
        "        - model_type: Specify 'decision_tree' or 'logistic_regression' for the model to be used.\n",
        "        - random_state: Random seed for reproducibility.\n",
        "        \"\"\"\n",
        "        self.x_train = x_train\n",
        "        self.x_test = x_test\n",
        "        self.y_train = y_train\n",
        "        self.y_test = y_test\n",
        "        self.model_type = model_type\n",
        "        self.random_state = random_state\n",
        "\n",
        "        if self.model_type == 'decision_tree':\n",
        "            self.model = DecisionTreeClassifier(random_state=self.random_state)\n",
        "        elif self.model_type == 'logistic_regression':\n",
        "            self.model = LogisticRegression(random_state=self.random_state, max_iter=1000)\n",
        "        else:\n",
        "            raise ValueError(\"Model type should be 'decision_tree' or 'logistic_regression'\")\n",
        "\n",
        "    def encode_categorical(self, categorical_columns):\n",
        "        \"\"\"\n",
        "        Encodes categorical columns using LabelEncoder\n",
        "\n",
        "        Args:\n",
        "        - categorical_columns: List of categorical column names to encode\n",
        "\n",
        "        Returns:\n",
        "        - x_train_encoded: Encoded training dataset.\n",
        "        - x_test_encoded: Encoded test dataset.\n",
        "        \"\"\"\n",
        "        label_encoder = LabelEncoder()\n",
        "        for column in categorical_columns:\n",
        "            if column in self.x_train.columns:\n",
        "                self.x_train[column] = label_encoder.fit_transform(self.x_train[column])\n",
        "            if column in self.x_test.columns:\n",
        "                self.x_test[column] = label_encoder.transform(self.x_test[column])\n",
        "        return self.x_train, self.x_test\n",
        "\n",
        "    def train_model(self):\n",
        "        \"\"\"\n",
        "        Trains the model on the training dataset.\n",
        "        \"\"\"\n",
        "        self.model.fit(self.x_train, self.y_train)\n",
        "\n",
        "    def evaluate_model(self):\n",
        "        \"\"\"\n",
        "        Evaluates the trained model and plots important graphs for analysis.\n",
        "        \"\"\"\n",
        "        y_pred_proba = self.model.predict_proba(self.x_test)[:, 1]\n",
        "        y_pred = (y_pred_proba > 0.5).astype(int)  # Convert to binary classification\n",
        "\n",
        "        fpr, tpr, thresholds = roc_curve(self.y_test, y_pred_proba)\n",
        "        roc_auc = roc_auc_score(self.y_test, y_pred_proba)\n",
        "\n",
        "        cm = confusion_matrix(self.y_test, y_pred)\n",
        "\n",
        "        print(f\"ROC-AUC Score: {roc_auc:.2f}\")\n",
        "        print(\"\\nClassification Report:\\n\", classification_report(self.y_test, y_pred))\n",
        "        print(f\"Precision: {precision_score(self.y_test, y_pred):.2f}\")\n",
        "        print(f\"Recall: {recall_score(self.y_test, y_pred):.2f}\")\n",
        "        print(f\"F1-Score: {f1_score(self.y_test, y_pred):.2f}\")\n",
        "\n",
        "        plt.figure(figsize=(8, 6))\n",
        "        plt.plot(fpr, tpr, color='blue', label=f'ROC curve (AUC = {roc_auc:.2f})')\n",
        "        plt.plot([0, 1], [0, 1], color='gray', linestyle='--')  # Diagonal line (random guessing)\n",
        "        plt.xlabel('False Positive Rate')\n",
        "        plt.ylabel('True Positive Rate')\n",
        "        plt.title('Receiver Operating Characteristic (ROC) Curve')\n",
        "        plt.legend(loc='lower right')\n",
        "        plt.show()\n",
        "\n",
        "        plt.figure(figsize=(6, 5))\n",
        "        sns.heatmap(cm, annot=True, fmt='d', cmap='Blues', xticklabels=['Non-APT', 'APT'], yticklabels=['Non-APT', 'APT'])\n",
        "        plt.title('Confusion Matrix')\n",
        "        plt.xlabel('Predicted')\n",
        "        plt.ylabel('Actual')\n",
        "        plt.show()\n",
        "\n",
        "\n",
        "\n",
        "categorical_columns = ['proto', 'state', 'service', 'ct_ftp_cmd']  # Example categorical columns\n",
        "\n",
        "apt_detector_tree = APTDetection(x_train_final, x_test_final, y_train, y_test, model_type='decision_tree')\n",
        "x_train_encoded, x_test_encoded = apt_detector_tree.encode_categorical(categorical_columns)\n",
        "apt_detector_tree.train_model()\n",
        "apt_detector_tree.evaluate_model()\n",
        "\n",
        "\n",
        "apt_detector_logistic = APTDetection(x_train_final, x_test_final, y_train, y_test, model_type='logistic_regression')\n",
        "x_train_encoded, x_test_encoded = apt_detector_logistic.encode_categorical(categorical_columns)\n",
        "apt_detector_logistic.train_model()\n",
        "apt_detector_logistic.evaluate_model()\n"
      ],
      "metadata": {
        "id": "KvtLW9S6UZSD",
        "colab": {
          "base_uri": "https://localhost:8080/",
          "height": 1000
        },
        "outputId": "00b4b551-6d06-4cb6-8cd6-273e816cea3e"
      },
      "execution_count": null,
      "outputs": [
        {
          "output_type": "stream",
          "name": "stdout",
          "text": [
            "ROC-AUC Score: 0.98\n",
            "\n",
            "Classification Report:\n",
            "               precision    recall  f1-score   support\n",
            "\n",
            "           0       0.99      1.00      1.00    665902\n",
            "           1       0.97      0.96      0.97     96113\n",
            "\n",
            "    accuracy                           0.99    762015\n",
            "   macro avg       0.98      0.98      0.98    762015\n",
            "weighted avg       0.99      0.99      0.99    762015\n",
            "\n",
            "Precision: 0.97\n",
            "Recall: 0.96\n",
            "F1-Score: 0.97\n"
          ]
        },
        {
          "output_type": "display_data",
          "data": {
            "text/plain": [
              "<Figure size 800x600 with 1 Axes>"
            ],
            "image/png": "[encoded data removed]"
          },
          "metadata": {}
        },
        {
          "output_type": "display_data",
          "data": {
            "text/plain": [
              "<Figure size 600x500 with 2 Axes>"
            ],
            "image/png": "[encoded data removed]"
          },
          "metadata": {}
        },
        {
          "output_type": "stream",
          "name": "stdout",
          "text": [
            "ROC-AUC Score: 0.92\n",
            "\n",
            "Classification Report:\n",
            "               precision    recall  f1-score   support\n",
            "\n",
            "           0       0.97      1.00      0.98    665902\n",
            "           1       0.97      0.80      0.88     96113\n",
            "\n",
            "    accuracy                           0.97    762015\n",
            "   macro avg       0.97      0.90      0.93    762015\n",
            "weighted avg       0.97      0.97      0.97    762015\n",
            "\n",
            "Precision: 0.97\n",
            "Recall: 0.80\n",
            "F1-Score: 0.88\n"
          ]
        },
        {
          "output_type": "display_data",
          "data": {
            "text/plain": [
              "<Figure size 800x600 with 1 Axes>"
            ],
            "image/png": "[encoded data removed]"
          },
          "metadata": {}
        },
        {
          "output_type": "display_data",
          "data": {
            "text/plain": [
              "<Figure size 600x500 with 2 Axes>"
            ],
            "image/png": "[encoded data removed]"
          },
          "metadata": {}
        }
      ]
    },
    {
      "cell_type": "code",
      "source": [],
      "metadata": {
        "id": "oxbdGiVDU8OF"
      },
      "execution_count": null,
      "outputs": []
    },
    {
      "cell_type": "markdown",
      "source": [
        "### **Interpretation of Evaluation Metrics: A Reflection of Performance**\n",
        "\n",
        "1. Decision Tree Classifier (Second Confusion Matrix)\n",
        "* True Positives (APT Correctly Classified): 92,716\n",
        "* True Negatives (Non-APT Correctly Classified): 662,825\n",
        "* False Positives (Non-APT Misclassified as APT): 3,077\n",
        "* False Negatives (APT Misclassified as Non-APT): 3,397\n",
        "\n",
        "#### The Decision Tree performs exceptionally well with:\n",
        "\n",
        "High Recall and Precision (great for minimizing false negatives in critical security applications).\n",
        "Few misclassifications, as evidenced by the small number of false positives and false negatives.\n",
        "\n",
        "2. Logistic Regression (Third Confusion Matrix)\n",
        "* True Positives (APT Correctly Classified): 77,184\n",
        "* True Negatives (Non-APT Correctly Classified): 663,687\n",
        "* False Positives (Non-APT Misclassified as APT): 2,215\n",
        "* False Negatives (APT Misclassified as Non-APT): 18,929\n",
        "\n",
        "#### The Logistic Regression shows:\n",
        "\n",
        "* High Precision but significantly lower Recall compared to the Decision Tree.\n",
        "* More False Negatives, meaning it misses a larger number of APT cases, which is critical for threat detection systems.\n",
        "\n",
        "\n"
      ],
      "metadata": {
        "id": "hvEgK9crLI9J"
      }
    },
    {
      "cell_type": "markdown",
      "source": [],
      "metadata": {
        "id": "cx4THD6UJRLt"
      }
    },
    {
      "cell_type": "code",
      "source": [],
      "metadata": {
        "id": "AwTweLpdK35w"
      },
      "execution_count": null,
      "outputs": []
    }
  ]
}